{
 "cells": [
  {
   "cell_type": "markdown",
   "id": "163ca621",
   "metadata": {},
   "source": [
    "## Import libraries and dataframe"
   ]
  },
  {
   "cell_type": "code",
   "execution_count": 1,
   "id": "afbe5a58",
   "metadata": {},
   "outputs": [],
   "source": [
    "import pandas as pd"
   ]
  },
  {
   "cell_type": "code",
   "execution_count": 2,
   "id": "99fc6a5a",
   "metadata": {},
   "outputs": [
    {
     "data": {
      "text/plain": [
       "(35777, 6)"
      ]
     },
     "execution_count": 2,
     "metadata": {},
     "output_type": "execute_result"
    }
   ],
   "source": [
    "purchase = pd.read_csv('scraping_purchase.csv')\n",
    "purchase.shape"
   ]
  },
  {
   "cell_type": "code",
   "execution_count": 3,
   "id": "122716d2",
   "metadata": {},
   "outputs": [
    {
     "data": {
      "text/html": [
       "<div>\n",
       "<style scoped>\n",
       "    .dataframe tbody tr th:only-of-type {\n",
       "        vertical-align: middle;\n",
       "    }\n",
       "\n",
       "    .dataframe tbody tr th {\n",
       "        vertical-align: top;\n",
       "    }\n",
       "\n",
       "    .dataframe thead th {\n",
       "        text-align: right;\n",
       "    }\n",
       "</style>\n",
       "<table border=\"1\" class=\"dataframe\">\n",
       "  <thead>\n",
       "    <tr style=\"text-align: right;\">\n",
       "      <th></th>\n",
       "      <th>wine_id</th>\n",
       "      <th>price</th>\n",
       "      <th>currency</th>\n",
       "      <th>bottle_type_id</th>\n",
       "      <th>bottle_type</th>\n",
       "      <th>vol_ml</th>\n",
       "    </tr>\n",
       "  </thead>\n",
       "  <tbody>\n",
       "    <tr>\n",
       "      <th>0</th>\n",
       "      <td>1420799</td>\n",
       "      <td>487.000000</td>\n",
       "      <td>EUR</td>\n",
       "      <td>1</td>\n",
       "      <td>botella</td>\n",
       "      <td>750</td>\n",
       "    </tr>\n",
       "    <tr>\n",
       "      <th>1</th>\n",
       "      <td>1199830</td>\n",
       "      <td>692.960000</td>\n",
       "      <td>EUR</td>\n",
       "      <td>1</td>\n",
       "      <td>botella</td>\n",
       "      <td>750</td>\n",
       "    </tr>\n",
       "    <tr>\n",
       "      <th>2</th>\n",
       "      <td>1494622</td>\n",
       "      <td>381.150000</td>\n",
       "      <td>EUR</td>\n",
       "      <td>1</td>\n",
       "      <td>botella</td>\n",
       "      <td>750</td>\n",
       "    </tr>\n",
       "    <tr>\n",
       "      <th>3</th>\n",
       "      <td>1229417</td>\n",
       "      <td>778.060000</td>\n",
       "      <td>EUR</td>\n",
       "      <td>1</td>\n",
       "      <td>botella</td>\n",
       "      <td>750</td>\n",
       "    </tr>\n",
       "    <tr>\n",
       "      <th>4</th>\n",
       "      <td>87412043</td>\n",
       "      <td>514.850000</td>\n",
       "      <td>EUR</td>\n",
       "      <td>1</td>\n",
       "      <td>botella</td>\n",
       "      <td>750</td>\n",
       "    </tr>\n",
       "    <tr>\n",
       "      <th>...</th>\n",
       "      <td>...</td>\n",
       "      <td>...</td>\n",
       "      <td>...</td>\n",
       "      <td>...</td>\n",
       "      <td>...</td>\n",
       "      <td>...</td>\n",
       "    </tr>\n",
       "    <tr>\n",
       "      <th>35772</th>\n",
       "      <td>164784307</td>\n",
       "      <td>20.390723</td>\n",
       "      <td>EUR</td>\n",
       "      <td>1</td>\n",
       "      <td>botella</td>\n",
       "      <td>750</td>\n",
       "    </tr>\n",
       "    <tr>\n",
       "      <th>35773</th>\n",
       "      <td>14979215</td>\n",
       "      <td>21.000000</td>\n",
       "      <td>EUR</td>\n",
       "      <td>1</td>\n",
       "      <td>botella</td>\n",
       "      <td>750</td>\n",
       "    </tr>\n",
       "    <tr>\n",
       "      <th>35774</th>\n",
       "      <td>169911041</td>\n",
       "      <td>14.010000</td>\n",
       "      <td>EUR</td>\n",
       "      <td>1</td>\n",
       "      <td>botella</td>\n",
       "      <td>750</td>\n",
       "    </tr>\n",
       "    <tr>\n",
       "      <th>35775</th>\n",
       "      <td>14979215</td>\n",
       "      <td>21.000000</td>\n",
       "      <td>EUR</td>\n",
       "      <td>1</td>\n",
       "      <td>botella</td>\n",
       "      <td>750</td>\n",
       "    </tr>\n",
       "    <tr>\n",
       "      <th>35776</th>\n",
       "      <td>169911041</td>\n",
       "      <td>14.010000</td>\n",
       "      <td>EUR</td>\n",
       "      <td>1</td>\n",
       "      <td>botella</td>\n",
       "      <td>750</td>\n",
       "    </tr>\n",
       "  </tbody>\n",
       "</table>\n",
       "<p>35777 rows × 6 columns</p>\n",
       "</div>"
      ],
      "text/plain": [
       "         wine_id       price currency  bottle_type_id bottle_type  vol_ml\n",
       "0        1420799  487.000000      EUR               1     botella     750\n",
       "1        1199830  692.960000      EUR               1     botella     750\n",
       "2        1494622  381.150000      EUR               1     botella     750\n",
       "3        1229417  778.060000      EUR               1     botella     750\n",
       "4       87412043  514.850000      EUR               1     botella     750\n",
       "...          ...         ...      ...             ...         ...     ...\n",
       "35772  164784307   20.390723      EUR               1     botella     750\n",
       "35773   14979215   21.000000      EUR               1     botella     750\n",
       "35774  169911041   14.010000      EUR               1     botella     750\n",
       "35775   14979215   21.000000      EUR               1     botella     750\n",
       "35776  169911041   14.010000      EUR               1     botella     750\n",
       "\n",
       "[35777 rows x 6 columns]"
      ]
     },
     "execution_count": 3,
     "metadata": {},
     "output_type": "execute_result"
    }
   ],
   "source": [
    "purchase"
   ]
  },
  {
   "cell_type": "code",
   "execution_count": 8,
   "id": "a5b8d540",
   "metadata": {},
   "outputs": [],
   "source": [
    "def cleaning_wine(df):\n",
    "    print(df.shape)\n",
    "    cleaned_df = df.drop_duplicates()\n",
    "    print(cleaned_df.shape)\n",
    "    display(cleaned_df[cleaned_df['wine_id'].duplicated()==True])\n",
    "    display(cleaned_df.isna().sum())\n",
    "    update_df = cleaned_df.dropna()\n",
    "    print(update_df.shape)\n",
    "    return update_df"
   ]
  },
  {
   "cell_type": "code",
   "execution_count": 9,
   "id": "f8e48748",
   "metadata": {},
   "outputs": [
    {
     "name": "stdout",
     "output_type": "stream",
     "text": [
      "(35777, 6)\n",
      "(20365, 6)\n"
     ]
    },
    {
     "data": {
      "text/html": [
       "<div>\n",
       "<style scoped>\n",
       "    .dataframe tbody tr th:only-of-type {\n",
       "        vertical-align: middle;\n",
       "    }\n",
       "\n",
       "    .dataframe tbody tr th {\n",
       "        vertical-align: top;\n",
       "    }\n",
       "\n",
       "    .dataframe thead th {\n",
       "        text-align: right;\n",
       "    }\n",
       "</style>\n",
       "<table border=\"1\" class=\"dataframe\">\n",
       "  <thead>\n",
       "    <tr style=\"text-align: right;\">\n",
       "      <th></th>\n",
       "      <th>wine_id</th>\n",
       "      <th>price</th>\n",
       "      <th>currency</th>\n",
       "      <th>bottle_type_id</th>\n",
       "      <th>bottle_type</th>\n",
       "      <th>vol_ml</th>\n",
       "    </tr>\n",
       "  </thead>\n",
       "  <tbody>\n",
       "  </tbody>\n",
       "</table>\n",
       "</div>"
      ],
      "text/plain": [
       "Empty DataFrame\n",
       "Columns: [wine_id, price, currency, bottle_type_id, bottle_type, vol_ml]\n",
       "Index: []"
      ]
     },
     "metadata": {},
     "output_type": "display_data"
    },
    {
     "data": {
      "text/plain": [
       "wine_id           0\n",
       "price             0\n",
       "currency          0\n",
       "bottle_type_id    0\n",
       "bottle_type       0\n",
       "vol_ml            0\n",
       "dtype: int64"
      ]
     },
     "metadata": {},
     "output_type": "display_data"
    },
    {
     "name": "stdout",
     "output_type": "stream",
     "text": [
      "(20365, 6)\n"
     ]
    }
   ],
   "source": [
    "update_purchase = cleaning_wine(purchase)"
   ]
  },
  {
   "cell_type": "markdown",
   "id": "f9ef6d72",
   "metadata": {},
   "source": [
    "## Check duplicates"
   ]
  },
  {
   "cell_type": "code",
   "execution_count": 11,
   "id": "98ae0973",
   "metadata": {},
   "outputs": [
    {
     "data": {
      "text/plain": [
       "0"
      ]
     },
     "execution_count": 11,
     "metadata": {},
     "output_type": "execute_result"
    }
   ],
   "source": [
    "update_purchase.duplicated(subset = ['wine_id']).sum()"
   ]
  },
  {
   "cell_type": "markdown",
   "id": "312a5a50",
   "metadata": {},
   "source": [
    "## Deal currency column: drop and change price name to price_eur"
   ]
  },
  {
   "cell_type": "code",
   "execution_count": 12,
   "id": "5f8464a9",
   "metadata": {},
   "outputs": [
    {
     "data": {
      "text/plain": [
       "EUR    20365\n",
       "Name: currency, dtype: int64"
      ]
     },
     "execution_count": 12,
     "metadata": {},
     "output_type": "execute_result"
    }
   ],
   "source": [
    "update_purchase['currency'].value_counts()"
   ]
  },
  {
   "cell_type": "code",
   "execution_count": 13,
   "id": "5a8ddaf8",
   "metadata": {},
   "outputs": [
    {
     "data": {
      "text/html": [
       "<div>\n",
       "<style scoped>\n",
       "    .dataframe tbody tr th:only-of-type {\n",
       "        vertical-align: middle;\n",
       "    }\n",
       "\n",
       "    .dataframe tbody tr th {\n",
       "        vertical-align: top;\n",
       "    }\n",
       "\n",
       "    .dataframe thead th {\n",
       "        text-align: right;\n",
       "    }\n",
       "</style>\n",
       "<table border=\"1\" class=\"dataframe\">\n",
       "  <thead>\n",
       "    <tr style=\"text-align: right;\">\n",
       "      <th></th>\n",
       "      <th>wine_id</th>\n",
       "      <th>price_eur</th>\n",
       "      <th>bottle_type_id</th>\n",
       "      <th>bottle_type</th>\n",
       "      <th>vol_ml</th>\n",
       "    </tr>\n",
       "  </thead>\n",
       "  <tbody>\n",
       "    <tr>\n",
       "      <th>0</th>\n",
       "      <td>1420799</td>\n",
       "      <td>487.000000</td>\n",
       "      <td>1</td>\n",
       "      <td>botella</td>\n",
       "      <td>750</td>\n",
       "    </tr>\n",
       "    <tr>\n",
       "      <th>1</th>\n",
       "      <td>1199830</td>\n",
       "      <td>692.960000</td>\n",
       "      <td>1</td>\n",
       "      <td>botella</td>\n",
       "      <td>750</td>\n",
       "    </tr>\n",
       "    <tr>\n",
       "      <th>2</th>\n",
       "      <td>1494622</td>\n",
       "      <td>381.150000</td>\n",
       "      <td>1</td>\n",
       "      <td>botella</td>\n",
       "      <td>750</td>\n",
       "    </tr>\n",
       "    <tr>\n",
       "      <th>3</th>\n",
       "      <td>1229417</td>\n",
       "      <td>778.060000</td>\n",
       "      <td>1</td>\n",
       "      <td>botella</td>\n",
       "      <td>750</td>\n",
       "    </tr>\n",
       "    <tr>\n",
       "      <th>4</th>\n",
       "      <td>87412043</td>\n",
       "      <td>514.850000</td>\n",
       "      <td>1</td>\n",
       "      <td>botella</td>\n",
       "      <td>750</td>\n",
       "    </tr>\n",
       "    <tr>\n",
       "      <th>...</th>\n",
       "      <td>...</td>\n",
       "      <td>...</td>\n",
       "      <td>...</td>\n",
       "      <td>...</td>\n",
       "      <td>...</td>\n",
       "    </tr>\n",
       "    <tr>\n",
       "      <th>35755</th>\n",
       "      <td>168653611</td>\n",
       "      <td>21.070000</td>\n",
       "      <td>1</td>\n",
       "      <td>botella</td>\n",
       "      <td>750</td>\n",
       "    </tr>\n",
       "    <tr>\n",
       "      <th>35756</th>\n",
       "      <td>160624545</td>\n",
       "      <td>14.730923</td>\n",
       "      <td>1</td>\n",
       "      <td>botella</td>\n",
       "      <td>750</td>\n",
       "    </tr>\n",
       "    <tr>\n",
       "      <th>35757</th>\n",
       "      <td>164784307</td>\n",
       "      <td>20.390723</td>\n",
       "      <td>1</td>\n",
       "      <td>botella</td>\n",
       "      <td>750</td>\n",
       "    </tr>\n",
       "    <tr>\n",
       "      <th>35773</th>\n",
       "      <td>14979215</td>\n",
       "      <td>21.000000</td>\n",
       "      <td>1</td>\n",
       "      <td>botella</td>\n",
       "      <td>750</td>\n",
       "    </tr>\n",
       "    <tr>\n",
       "      <th>35774</th>\n",
       "      <td>169911041</td>\n",
       "      <td>14.010000</td>\n",
       "      <td>1</td>\n",
       "      <td>botella</td>\n",
       "      <td>750</td>\n",
       "    </tr>\n",
       "  </tbody>\n",
       "</table>\n",
       "<p>20365 rows × 5 columns</p>\n",
       "</div>"
      ],
      "text/plain": [
       "         wine_id   price_eur  bottle_type_id bottle_type  vol_ml\n",
       "0        1420799  487.000000               1     botella     750\n",
       "1        1199830  692.960000               1     botella     750\n",
       "2        1494622  381.150000               1     botella     750\n",
       "3        1229417  778.060000               1     botella     750\n",
       "4       87412043  514.850000               1     botella     750\n",
       "...          ...         ...             ...         ...     ...\n",
       "35755  168653611   21.070000               1     botella     750\n",
       "35756  160624545   14.730923               1     botella     750\n",
       "35757  164784307   20.390723               1     botella     750\n",
       "35773   14979215   21.000000               1     botella     750\n",
       "35774  169911041   14.010000               1     botella     750\n",
       "\n",
       "[20365 rows x 5 columns]"
      ]
     },
     "execution_count": 13,
     "metadata": {},
     "output_type": "execute_result"
    }
   ],
   "source": [
    "cleaned = update_purchase.drop(['currency'],axis=1)\n",
    "cleaned.columns = ['wine_id','price_eur','bottle_type_id','bottle_type','vol_ml']\n",
    "cleaned"
   ]
  },
  {
   "cell_type": "markdown",
   "id": "0fc0c3ec",
   "metadata": {},
   "source": [
    "## Check columns with same information"
   ]
  },
  {
   "cell_type": "code",
   "execution_count": 14,
   "id": "f99b9a59",
   "metadata": {},
   "outputs": [
    {
     "data": {
      "text/plain": [
       "botella             19905\n",
       "mágnum                388\n",
       "botella de ½           45\n",
       "botella de litro       16\n",
       "½ litro                11\n",
       "Name: bottle_type, dtype: int64"
      ]
     },
     "execution_count": 14,
     "metadata": {},
     "output_type": "execute_result"
    }
   ],
   "source": [
    "cleaned['bottle_type'].value_counts()"
   ]
  },
  {
   "cell_type": "code",
   "execution_count": 15,
   "id": "b377863c",
   "metadata": {},
   "outputs": [
    {
     "data": {
      "text/plain": [
       "750     19905\n",
       "1500      388\n",
       "375        45\n",
       "1000       16\n",
       "500        11\n",
       "Name: vol_ml, dtype: int64"
      ]
     },
     "execution_count": 15,
     "metadata": {},
     "output_type": "execute_result"
    }
   ],
   "source": [
    "cleaned['vol_ml'].value_counts()"
   ]
  },
  {
   "cell_type": "code",
   "execution_count": 16,
   "id": "10ad5163",
   "metadata": {},
   "outputs": [
    {
     "data": {
      "text/plain": [
       "1     19905\n",
       "4       388\n",
       "3        45\n",
       "2        16\n",
       "12       11\n",
       "Name: bottle_type_id, dtype: int64"
      ]
     },
     "execution_count": 16,
     "metadata": {},
     "output_type": "execute_result"
    }
   ],
   "source": [
    "cleaned['bottle_type_id'].value_counts()"
   ]
  },
  {
   "cell_type": "markdown",
   "id": "423a8bd3",
   "metadata": {},
   "source": [
    "## Droping columns with duplicated information"
   ]
  },
  {
   "cell_type": "code",
   "execution_count": 17,
   "id": "c5105cd7",
   "metadata": {},
   "outputs": [
    {
     "data": {
      "text/html": [
       "<div>\n",
       "<style scoped>\n",
       "    .dataframe tbody tr th:only-of-type {\n",
       "        vertical-align: middle;\n",
       "    }\n",
       "\n",
       "    .dataframe tbody tr th {\n",
       "        vertical-align: top;\n",
       "    }\n",
       "\n",
       "    .dataframe thead th {\n",
       "        text-align: right;\n",
       "    }\n",
       "</style>\n",
       "<table border=\"1\" class=\"dataframe\">\n",
       "  <thead>\n",
       "    <tr style=\"text-align: right;\">\n",
       "      <th></th>\n",
       "      <th>wine_id</th>\n",
       "      <th>price_eur</th>\n",
       "      <th>vol_ml</th>\n",
       "    </tr>\n",
       "  </thead>\n",
       "  <tbody>\n",
       "    <tr>\n",
       "      <th>0</th>\n",
       "      <td>1420799</td>\n",
       "      <td>487.000000</td>\n",
       "      <td>750</td>\n",
       "    </tr>\n",
       "    <tr>\n",
       "      <th>1</th>\n",
       "      <td>1199830</td>\n",
       "      <td>692.960000</td>\n",
       "      <td>750</td>\n",
       "    </tr>\n",
       "    <tr>\n",
       "      <th>2</th>\n",
       "      <td>1494622</td>\n",
       "      <td>381.150000</td>\n",
       "      <td>750</td>\n",
       "    </tr>\n",
       "    <tr>\n",
       "      <th>3</th>\n",
       "      <td>1229417</td>\n",
       "      <td>778.060000</td>\n",
       "      <td>750</td>\n",
       "    </tr>\n",
       "    <tr>\n",
       "      <th>4</th>\n",
       "      <td>87412043</td>\n",
       "      <td>514.850000</td>\n",
       "      <td>750</td>\n",
       "    </tr>\n",
       "    <tr>\n",
       "      <th>...</th>\n",
       "      <td>...</td>\n",
       "      <td>...</td>\n",
       "      <td>...</td>\n",
       "    </tr>\n",
       "    <tr>\n",
       "      <th>35755</th>\n",
       "      <td>168653611</td>\n",
       "      <td>21.070000</td>\n",
       "      <td>750</td>\n",
       "    </tr>\n",
       "    <tr>\n",
       "      <th>35756</th>\n",
       "      <td>160624545</td>\n",
       "      <td>14.730923</td>\n",
       "      <td>750</td>\n",
       "    </tr>\n",
       "    <tr>\n",
       "      <th>35757</th>\n",
       "      <td>164784307</td>\n",
       "      <td>20.390723</td>\n",
       "      <td>750</td>\n",
       "    </tr>\n",
       "    <tr>\n",
       "      <th>35773</th>\n",
       "      <td>14979215</td>\n",
       "      <td>21.000000</td>\n",
       "      <td>750</td>\n",
       "    </tr>\n",
       "    <tr>\n",
       "      <th>35774</th>\n",
       "      <td>169911041</td>\n",
       "      <td>14.010000</td>\n",
       "      <td>750</td>\n",
       "    </tr>\n",
       "  </tbody>\n",
       "</table>\n",
       "<p>20365 rows × 3 columns</p>\n",
       "</div>"
      ],
      "text/plain": [
       "         wine_id   price_eur  vol_ml\n",
       "0        1420799  487.000000     750\n",
       "1        1199830  692.960000     750\n",
       "2        1494622  381.150000     750\n",
       "3        1229417  778.060000     750\n",
       "4       87412043  514.850000     750\n",
       "...          ...         ...     ...\n",
       "35755  168653611   21.070000     750\n",
       "35756  160624545   14.730923     750\n",
       "35757  164784307   20.390723     750\n",
       "35773   14979215   21.000000     750\n",
       "35774  169911041   14.010000     750\n",
       "\n",
       "[20365 rows x 3 columns]"
      ]
     },
     "execution_count": 17,
     "metadata": {},
     "output_type": "execute_result"
    }
   ],
   "source": [
    "cleaned = cleaned.drop(['bottle_type','bottle_type_id'],axis=1)\n",
    "cleaned"
   ]
  },
  {
   "cell_type": "markdown",
   "id": "ef4c3c64",
   "metadata": {},
   "source": [
    "## Round price"
   ]
  },
  {
   "cell_type": "code",
   "execution_count": 18,
   "id": "e7f7a406",
   "metadata": {},
   "outputs": [
    {
     "data": {
      "text/html": [
       "<div>\n",
       "<style scoped>\n",
       "    .dataframe tbody tr th:only-of-type {\n",
       "        vertical-align: middle;\n",
       "    }\n",
       "\n",
       "    .dataframe tbody tr th {\n",
       "        vertical-align: top;\n",
       "    }\n",
       "\n",
       "    .dataframe thead th {\n",
       "        text-align: right;\n",
       "    }\n",
       "</style>\n",
       "<table border=\"1\" class=\"dataframe\">\n",
       "  <thead>\n",
       "    <tr style=\"text-align: right;\">\n",
       "      <th></th>\n",
       "      <th>wine_id</th>\n",
       "      <th>price_eur</th>\n",
       "      <th>vol_ml</th>\n",
       "    </tr>\n",
       "  </thead>\n",
       "  <tbody>\n",
       "    <tr>\n",
       "      <th>0</th>\n",
       "      <td>1420799</td>\n",
       "      <td>487.00</td>\n",
       "      <td>750</td>\n",
       "    </tr>\n",
       "    <tr>\n",
       "      <th>1</th>\n",
       "      <td>1199830</td>\n",
       "      <td>692.96</td>\n",
       "      <td>750</td>\n",
       "    </tr>\n",
       "    <tr>\n",
       "      <th>2</th>\n",
       "      <td>1494622</td>\n",
       "      <td>381.15</td>\n",
       "      <td>750</td>\n",
       "    </tr>\n",
       "    <tr>\n",
       "      <th>3</th>\n",
       "      <td>1229417</td>\n",
       "      <td>778.06</td>\n",
       "      <td>750</td>\n",
       "    </tr>\n",
       "    <tr>\n",
       "      <th>4</th>\n",
       "      <td>87412043</td>\n",
       "      <td>514.85</td>\n",
       "      <td>750</td>\n",
       "    </tr>\n",
       "    <tr>\n",
       "      <th>...</th>\n",
       "      <td>...</td>\n",
       "      <td>...</td>\n",
       "      <td>...</td>\n",
       "    </tr>\n",
       "    <tr>\n",
       "      <th>35755</th>\n",
       "      <td>168653611</td>\n",
       "      <td>21.07</td>\n",
       "      <td>750</td>\n",
       "    </tr>\n",
       "    <tr>\n",
       "      <th>35756</th>\n",
       "      <td>160624545</td>\n",
       "      <td>14.73</td>\n",
       "      <td>750</td>\n",
       "    </tr>\n",
       "    <tr>\n",
       "      <th>35757</th>\n",
       "      <td>164784307</td>\n",
       "      <td>20.39</td>\n",
       "      <td>750</td>\n",
       "    </tr>\n",
       "    <tr>\n",
       "      <th>35773</th>\n",
       "      <td>14979215</td>\n",
       "      <td>21.00</td>\n",
       "      <td>750</td>\n",
       "    </tr>\n",
       "    <tr>\n",
       "      <th>35774</th>\n",
       "      <td>169911041</td>\n",
       "      <td>14.01</td>\n",
       "      <td>750</td>\n",
       "    </tr>\n",
       "  </tbody>\n",
       "</table>\n",
       "<p>20365 rows × 3 columns</p>\n",
       "</div>"
      ],
      "text/plain": [
       "         wine_id  price_eur  vol_ml\n",
       "0        1420799     487.00     750\n",
       "1        1199830     692.96     750\n",
       "2        1494622     381.15     750\n",
       "3        1229417     778.06     750\n",
       "4       87412043     514.85     750\n",
       "...          ...        ...     ...\n",
       "35755  168653611      21.07     750\n",
       "35756  160624545      14.73     750\n",
       "35757  164784307      20.39     750\n",
       "35773   14979215      21.00     750\n",
       "35774  169911041      14.01     750\n",
       "\n",
       "[20365 rows x 3 columns]"
      ]
     },
     "execution_count": 18,
     "metadata": {},
     "output_type": "execute_result"
    }
   ],
   "source": [
    "cleaned['price_eur'] = round(cleaned['price_eur'],2)\n",
    "cleaned"
   ]
  },
  {
   "cell_type": "markdown",
   "id": "f3426397",
   "metadata": {},
   "source": [
    "## Save csv"
   ]
  },
  {
   "cell_type": "code",
   "execution_count": 19,
   "id": "c3114abc",
   "metadata": {},
   "outputs": [],
   "source": [
    "cleaned.to_csv('update_purchase.csv',index=False)"
   ]
  },
  {
   "cell_type": "markdown",
   "id": "feaf8cd5",
   "metadata": {},
   "source": [
    "## Save MySQL"
   ]
  },
  {
   "cell_type": "code",
   "execution_count": 20,
   "id": "33eba0d9",
   "metadata": {},
   "outputs": [
    {
     "name": "stdout",
     "output_type": "stream",
     "text": [
      "········\n"
     ]
    }
   ],
   "source": [
    "import pymysql\n",
    "from sqlalchemy import create_engine\n",
    "import getpass  # To get the password without showing the input\n",
    "password = getpass.getpass()"
   ]
  },
  {
   "cell_type": "code",
   "execution_count": 21,
   "id": "d67d4611",
   "metadata": {},
   "outputs": [],
   "source": [
    "connection_string = 'mysql+pymysql://root:' + password + '@localhost/clean_winery'\n",
    "engine = create_engine(connection_string)"
   ]
  },
  {
   "cell_type": "code",
   "execution_count": 22,
   "id": "8a984df1",
   "metadata": {},
   "outputs": [
    {
     "data": {
      "text/plain": [
       "20365"
      ]
     },
     "execution_count": 22,
     "metadata": {},
     "output_type": "execute_result"
    }
   ],
   "source": [
    "cleaned.to_sql('purchase', con = engine, if_exists = 'replace', index = False )"
   ]
  }
 ],
 "metadata": {
  "kernelspec": {
   "display_name": "Python 3 (ipykernel)",
   "language": "python",
   "name": "python3"
  },
  "language_info": {
   "codemirror_mode": {
    "name": "ipython",
    "version": 3
   },
   "file_extension": ".py",
   "mimetype": "text/x-python",
   "name": "python",
   "nbconvert_exporter": "python",
   "pygments_lexer": "ipython3",
   "version": "3.9.12"
  }
 },
 "nbformat": 4,
 "nbformat_minor": 5
}
