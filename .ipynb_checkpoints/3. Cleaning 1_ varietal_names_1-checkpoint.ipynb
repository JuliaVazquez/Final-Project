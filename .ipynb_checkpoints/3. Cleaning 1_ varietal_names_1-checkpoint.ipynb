{
 "cells": [
  {
   "cell_type": "markdown",
   "id": "156cc9c8",
   "metadata": {},
   "source": [
    "# Import libraries"
   ]
  },
  {
   "cell_type": "code",
   "execution_count": 1,
   "id": "6c6b7e42",
   "metadata": {},
   "outputs": [],
   "source": [
    "import pandas as pd\n",
    "import numpy as np\n"
   ]
  },
  {
   "cell_type": "code",
   "execution_count": 2,
   "id": "affc6c17",
   "metadata": {},
   "outputs": [
    {
     "name": "stdout",
     "output_type": "stream",
     "text": [
      "········\n"
     ]
    }
   ],
   "source": [
    "import pymysql\n",
    "from sqlalchemy import create_engine\n",
    "import getpass \n",
    "password = getpass.getpass()"
   ]
  },
  {
   "cell_type": "code",
   "execution_count": 3,
   "id": "b200ce98",
   "metadata": {},
   "outputs": [],
   "source": [
    "connection_string = 'mysql+pymysql://root:' + password + '@localhost/clean_winery'\n",
    "engine = create_engine(connection_string)"
   ]
  },
  {
   "cell_type": "code",
   "execution_count": 4,
   "id": "3366b607",
   "metadata": {},
   "outputs": [],
   "source": [
    "query = '''SELECT wine_id, type, wine_name, country, varietal_name, IFNULL(style_id, 0) AS style_id, body, acidity_1, acidity_2, fizziness, intensity, sweetness, tannin FROM wine\n",
    "LEFT JOIN purchase USING (wine_id)\n",
    "LEFT JOIN  style USING (wine_id)\n",
    "ORDER BY style_id;'''\n",
    "df = pd.read_sql(query,engine)"
   ]
  },
  {
   "cell_type": "code",
   "execution_count": 5,
   "id": "ec781ab8",
   "metadata": {},
   "outputs": [
    {
     "data": {
      "text/plain": [
       "(20467, 13)"
      ]
     },
     "execution_count": 5,
     "metadata": {},
     "output_type": "execute_result"
    }
   ],
   "source": [
    "df.shape"
   ]
  },
  {
   "cell_type": "code",
   "execution_count": 6,
   "id": "368beee6",
   "metadata": {},
   "outputs": [],
   "source": [
    "varietal_names = df['varietal_name'].unique()"
   ]
  },
  {
   "cell_type": "code",
   "execution_count": 7,
   "id": "514c010f",
   "metadata": {},
   "outputs": [
    {
     "data": {
      "text/plain": [
       "104"
      ]
     },
     "execution_count": 7,
     "metadata": {},
     "output_type": "execute_result"
    }
   ],
   "source": [
    "len(varietal_names)"
   ]
  },
  {
   "cell_type": "code",
   "execution_count": 8,
   "id": "4203bae2",
   "metadata": {},
   "outputs": [
    {
     "data": {
      "text/plain": [
       "103"
      ]
     },
     "execution_count": 8,
     "metadata": {},
     "output_type": "execute_result"
    }
   ],
   "source": [
    "varietal_names = np.delete(varietal_names,0)\n",
    "len(varietal_names)"
   ]
  },
  {
   "cell_type": "code",
   "execution_count": 9,
   "id": "95deccb8",
   "metadata": {},
   "outputs": [
    {
     "data": {
      "text/plain": [
       "True"
      ]
     },
     "execution_count": 9,
     "metadata": {},
     "output_type": "execute_result"
    }
   ],
   "source": [
    "'Blanco' in varietal_names"
   ]
  },
  {
   "cell_type": "markdown",
   "id": "083797e7",
   "metadata": {},
   "source": [
    "## Clean varietal names"
   ]
  },
  {
   "cell_type": "code",
   "execution_count": 10,
   "id": "2705fc09",
   "metadata": {},
   "outputs": [],
   "source": [
    "to_clean = df[df['style_id']==0]"
   ]
  },
  {
   "cell_type": "code",
   "execution_count": 11,
   "id": "83859007",
   "metadata": {},
   "outputs": [
    {
     "data": {
      "text/html": [
       "<div>\n",
       "<style scoped>\n",
       "    .dataframe tbody tr th:only-of-type {\n",
       "        vertical-align: middle;\n",
       "    }\n",
       "\n",
       "    .dataframe tbody tr th {\n",
       "        vertical-align: top;\n",
       "    }\n",
       "\n",
       "    .dataframe thead th {\n",
       "        text-align: right;\n",
       "    }\n",
       "</style>\n",
       "<table border=\"1\" class=\"dataframe\">\n",
       "  <thead>\n",
       "    <tr style=\"text-align: right;\">\n",
       "      <th></th>\n",
       "      <th>wine_id</th>\n",
       "      <th>type</th>\n",
       "      <th>wine_name</th>\n",
       "      <th>country</th>\n",
       "      <th>varietal_name</th>\n",
       "      <th>style_id</th>\n",
       "      <th>body</th>\n",
       "      <th>acidity_1</th>\n",
       "      <th>acidity_2</th>\n",
       "      <th>fizziness</th>\n",
       "      <th>intensity</th>\n",
       "      <th>sweetness</th>\n",
       "      <th>tannin</th>\n",
       "    </tr>\n",
       "  </thead>\n",
       "  <tbody>\n",
       "    <tr>\n",
       "      <th>0</th>\n",
       "      <td>170766130</td>\n",
       "      <td>2</td>\n",
       "      <td>Cala Marquesa Garnacha Blanca</td>\n",
       "      <td>spain</td>\n",
       "      <td>None</td>\n",
       "      <td>0</td>\n",
       "      <td>NaN</td>\n",
       "      <td>NaN</td>\n",
       "      <td>NaN</td>\n",
       "      <td>NaN</td>\n",
       "      <td>NaN</td>\n",
       "      <td>NaN</td>\n",
       "      <td>NaN</td>\n",
       "    </tr>\n",
       "    <tr>\n",
       "      <th>1</th>\n",
       "      <td>162466975</td>\n",
       "      <td>2</td>\n",
       "      <td>Dominio do Bibei Refu</td>\n",
       "      <td>spain</td>\n",
       "      <td>None</td>\n",
       "      <td>0</td>\n",
       "      <td>NaN</td>\n",
       "      <td>NaN</td>\n",
       "      <td>NaN</td>\n",
       "      <td>NaN</td>\n",
       "      <td>NaN</td>\n",
       "      <td>NaN</td>\n",
       "      <td>NaN</td>\n",
       "    </tr>\n",
       "    <tr>\n",
       "      <th>2</th>\n",
       "      <td>168714635</td>\n",
       "      <td>2</td>\n",
       "      <td>Naia K-Naia</td>\n",
       "      <td>spain</td>\n",
       "      <td>None</td>\n",
       "      <td>0</td>\n",
       "      <td>NaN</td>\n",
       "      <td>NaN</td>\n",
       "      <td>NaN</td>\n",
       "      <td>NaN</td>\n",
       "      <td>NaN</td>\n",
       "      <td>NaN</td>\n",
       "      <td>NaN</td>\n",
       "    </tr>\n",
       "    <tr>\n",
       "      <th>3</th>\n",
       "      <td>158943250</td>\n",
       "      <td>2</td>\n",
       "      <td>Muchada-Léclapart Univers</td>\n",
       "      <td>spain</td>\n",
       "      <td>None</td>\n",
       "      <td>0</td>\n",
       "      <td>NaN</td>\n",
       "      <td>NaN</td>\n",
       "      <td>NaN</td>\n",
       "      <td>NaN</td>\n",
       "      <td>NaN</td>\n",
       "      <td>NaN</td>\n",
       "      <td>NaN</td>\n",
       "    </tr>\n",
       "    <tr>\n",
       "      <th>4</th>\n",
       "      <td>165941865</td>\n",
       "      <td>2</td>\n",
       "      <td>Oller del Mas Bernat Oller Blanc de Picapolls</td>\n",
       "      <td>spain</td>\n",
       "      <td>None</td>\n",
       "      <td>0</td>\n",
       "      <td>NaN</td>\n",
       "      <td>NaN</td>\n",
       "      <td>NaN</td>\n",
       "      <td>NaN</td>\n",
       "      <td>NaN</td>\n",
       "      <td>NaN</td>\n",
       "      <td>NaN</td>\n",
       "    </tr>\n",
       "    <tr>\n",
       "      <th>...</th>\n",
       "      <td>...</td>\n",
       "      <td>...</td>\n",
       "      <td>...</td>\n",
       "      <td>...</td>\n",
       "      <td>...</td>\n",
       "      <td>...</td>\n",
       "      <td>...</td>\n",
       "      <td>...</td>\n",
       "      <td>...</td>\n",
       "      <td>...</td>\n",
       "      <td>...</td>\n",
       "      <td>...</td>\n",
       "      <td>...</td>\n",
       "    </tr>\n",
       "    <tr>\n",
       "      <th>2170</th>\n",
       "      <td>168580580</td>\n",
       "      <td>2</td>\n",
       "      <td>Reboreda Adeus</td>\n",
       "      <td>spain</td>\n",
       "      <td>None</td>\n",
       "      <td>0</td>\n",
       "      <td>NaN</td>\n",
       "      <td>NaN</td>\n",
       "      <td>NaN</td>\n",
       "      <td>NaN</td>\n",
       "      <td>NaN</td>\n",
       "      <td>NaN</td>\n",
       "      <td>NaN</td>\n",
       "    </tr>\n",
       "    <tr>\n",
       "      <th>2171</th>\n",
       "      <td>169102057</td>\n",
       "      <td>2</td>\n",
       "      <td>Merayo Godello Bierzo</td>\n",
       "      <td>spain</td>\n",
       "      <td>None</td>\n",
       "      <td>0</td>\n",
       "      <td>NaN</td>\n",
       "      <td>NaN</td>\n",
       "      <td>NaN</td>\n",
       "      <td>NaN</td>\n",
       "      <td>NaN</td>\n",
       "      <td>NaN</td>\n",
       "      <td>NaN</td>\n",
       "    </tr>\n",
       "    <tr>\n",
       "      <th>2172</th>\n",
       "      <td>171055783</td>\n",
       "      <td>2</td>\n",
       "      <td>Castellroig Finca Sabaté i Coca Sø Blanco</td>\n",
       "      <td>spain</td>\n",
       "      <td>None</td>\n",
       "      <td>0</td>\n",
       "      <td>NaN</td>\n",
       "      <td>NaN</td>\n",
       "      <td>NaN</td>\n",
       "      <td>NaN</td>\n",
       "      <td>NaN</td>\n",
       "      <td>NaN</td>\n",
       "      <td>NaN</td>\n",
       "    </tr>\n",
       "    <tr>\n",
       "      <th>2173</th>\n",
       "      <td>170625872</td>\n",
       "      <td>2</td>\n",
       "      <td>De Moya Tibó Blanco</td>\n",
       "      <td>spain</td>\n",
       "      <td>None</td>\n",
       "      <td>0</td>\n",
       "      <td>NaN</td>\n",
       "      <td>NaN</td>\n",
       "      <td>NaN</td>\n",
       "      <td>NaN</td>\n",
       "      <td>NaN</td>\n",
       "      <td>NaN</td>\n",
       "      <td>NaN</td>\n",
       "    </tr>\n",
       "    <tr>\n",
       "      <th>2174</th>\n",
       "      <td>155202306</td>\n",
       "      <td>2</td>\n",
       "      <td>Tomàs Cusiné Macabeu De vinyes Velles Finca Ra...</td>\n",
       "      <td>spain</td>\n",
       "      <td>None</td>\n",
       "      <td>0</td>\n",
       "      <td>NaN</td>\n",
       "      <td>NaN</td>\n",
       "      <td>NaN</td>\n",
       "      <td>NaN</td>\n",
       "      <td>NaN</td>\n",
       "      <td>NaN</td>\n",
       "      <td>NaN</td>\n",
       "    </tr>\n",
       "  </tbody>\n",
       "</table>\n",
       "<p>2175 rows × 13 columns</p>\n",
       "</div>"
      ],
      "text/plain": [
       "        wine_id  type                                          wine_name  \\\n",
       "0     170766130     2                     Cala Marquesa Garnacha Blanca    \n",
       "1     162466975     2                             Dominio do Bibei Refu    \n",
       "2     168714635     2                                       Naia K-Naia    \n",
       "3     158943250     2                         Muchada-Léclapart Univers    \n",
       "4     165941865     2     Oller del Mas Bernat Oller Blanc de Picapolls    \n",
       "...         ...   ...                                                ...   \n",
       "2170  168580580     2                                    Reboreda Adeus    \n",
       "2171  169102057     2                             Merayo Godello Bierzo    \n",
       "2172  171055783     2         Castellroig Finca Sabaté i Coca Sø Blanco    \n",
       "2173  170625872     2                               De Moya Tibó Blanco    \n",
       "2174  155202306     2  Tomàs Cusiné Macabeu De vinyes Velles Finca Ra...   \n",
       "\n",
       "     country varietal_name  style_id  body  acidity_1  acidity_2  fizziness  \\\n",
       "0      spain          None         0   NaN        NaN        NaN        NaN   \n",
       "1      spain          None         0   NaN        NaN        NaN        NaN   \n",
       "2      spain          None         0   NaN        NaN        NaN        NaN   \n",
       "3      spain          None         0   NaN        NaN        NaN        NaN   \n",
       "4      spain          None         0   NaN        NaN        NaN        NaN   \n",
       "...      ...           ...       ...   ...        ...        ...        ...   \n",
       "2170   spain          None         0   NaN        NaN        NaN        NaN   \n",
       "2171   spain          None         0   NaN        NaN        NaN        NaN   \n",
       "2172   spain          None         0   NaN        NaN        NaN        NaN   \n",
       "2173   spain          None         0   NaN        NaN        NaN        NaN   \n",
       "2174   spain          None         0   NaN        NaN        NaN        NaN   \n",
       "\n",
       "      intensity  sweetness  tannin  \n",
       "0           NaN        NaN     NaN  \n",
       "1           NaN        NaN     NaN  \n",
       "2           NaN        NaN     NaN  \n",
       "3           NaN        NaN     NaN  \n",
       "4           NaN        NaN     NaN  \n",
       "...         ...        ...     ...  \n",
       "2170        NaN        NaN     NaN  \n",
       "2171        NaN        NaN     NaN  \n",
       "2172        NaN        NaN     NaN  \n",
       "2173        NaN        NaN     NaN  \n",
       "2174        NaN        NaN     NaN  \n",
       "\n",
       "[2175 rows x 13 columns]"
      ]
     },
     "execution_count": 11,
     "metadata": {},
     "output_type": "execute_result"
    }
   ],
   "source": [
    "to_clean"
   ]
  },
  {
   "cell_type": "code",
   "execution_count": 12,
   "id": "81f986c2",
   "metadata": {},
   "outputs": [
    {
     "data": {
      "text/plain": [
       "2175"
      ]
     },
     "execution_count": 12,
     "metadata": {},
     "output_type": "execute_result"
    }
   ],
   "source": [
    "to_clean.to_sql('to_clean', con = engine, if_exists = 'replace', index = False )"
   ]
  },
  {
   "cell_type": "code",
   "execution_count": null,
   "id": "69f89e35",
   "metadata": {},
   "outputs": [],
   "source": []
  },
  {
   "cell_type": "code",
   "execution_count": null,
   "id": "0c0b6fe7",
   "metadata": {},
   "outputs": [],
   "source": []
  },
  {
   "cell_type": "code",
   "execution_count": 13,
   "id": "b4bbc866",
   "metadata": {},
   "outputs": [],
   "source": [
    "query_godello = '''SELECT wine_id, type, wine_name, country, IFNULL(varietal_name, 'Godello') AS varietal_name, IFNULL(style_id,0) AS style_id, body, acidity_1, acidity_2, fizziness, intensity, sweetness, tannin FROM to_clean\n",
    "WHERE (wine_name LIKE '%%Godello%%');'''\n",
    "godello = pd.read_sql(query_godello,engine)"
   ]
  },
  {
   "cell_type": "code",
   "execution_count": 14,
   "id": "0eca4836",
   "metadata": {},
   "outputs": [
    {
     "data": {
      "text/plain": [
       "(105, 13)"
      ]
     },
     "execution_count": 14,
     "metadata": {},
     "output_type": "execute_result"
    }
   ],
   "source": [
    "godellos_id = godello['wine_id'].values\n",
    "godello.shape"
   ]
  },
  {
   "cell_type": "code",
   "execution_count": 15,
   "id": "9230179c",
   "metadata": {},
   "outputs": [],
   "source": [
    "query_garnacha = '''SELECT wine_id, type, wine_name, country, IFNULL(varietal_name, 'Grenache.') AS varietal_name, IFNULL(style_id,0) AS style_id, body, acidity_1, acidity_2, fizziness, intensity, sweetness, tannin FROM to_clean\n",
    "WHERE (wine_name LIKE '%%Garnacha%%') OR (wine_name LIKE '%%Garnatxa%%') OR (wine_name LIKE '%%Grenache%%');'''\n",
    "garnacha = pd.read_sql(query_garnacha,engine)"
   ]
  },
  {
   "cell_type": "code",
   "execution_count": 16,
   "id": "c14a0bf5",
   "metadata": {},
   "outputs": [
    {
     "data": {
      "text/plain": [
       "(80, 13)"
      ]
     },
     "execution_count": 16,
     "metadata": {},
     "output_type": "execute_result"
    }
   ],
   "source": [
    "garnacha_id = garnacha['wine_id'].values\n",
    "garnacha.shape"
   ]
  },
  {
   "cell_type": "code",
   "execution_count": 17,
   "id": "483ae096",
   "metadata": {},
   "outputs": [],
   "source": [
    "query_moscatel_ch = '''SELECT wine_id, type, wine_name, country, IFNULL(varietal_name, 'Moscatel - Chardonnay') AS varietal_name, IFNULL(style_id,0) AS style_id, body, acidity_1, acidity_2, fizziness, intensity, sweetness, tannin FROM to_clean\n",
    "WHERE (wine_name LIKE '%%Chardonnay - Moscatel%%') OR (wine_name LIKE '%%Moscatel - Chardonnay%%');'''\n",
    "moscatel_ch = pd.read_sql(query_moscatel_ch,engine)"
   ]
  },
  {
   "cell_type": "code",
   "execution_count": 18,
   "id": "7b858f2b",
   "metadata": {
    "scrolled": true
   },
   "outputs": [
    {
     "data": {
      "text/plain": [
       "(2, 13)"
      ]
     },
     "execution_count": 18,
     "metadata": {},
     "output_type": "execute_result"
    }
   ],
   "source": [
    "mosc_ch_id = moscatel_ch['wine_id'].values\n",
    "moscatel_ch.shape"
   ]
  },
  {
   "cell_type": "code",
   "execution_count": 19,
   "id": "202d9e77",
   "metadata": {},
   "outputs": [],
   "source": [
    "query_moscatel = '''SELECT wine_id, type, wine_name, country, IFNULL(varietal_name, 'Moscatel') AS varietal_name, IFNULL(style_id,0) AS style_id, body, acidity_1, acidity_2, fizziness, intensity, sweetness, tannin FROM to_clean\n",
    "WHERE (wine_name LIKE '%%Moscatel%%') OR (wine_name LIKE '%%Muscadel%%');'''\n",
    "moscatel = pd.read_sql(query_moscatel,engine)"
   ]
  },
  {
   "cell_type": "code",
   "execution_count": 20,
   "id": "ebe9b36b",
   "metadata": {
    "scrolled": true
   },
   "outputs": [
    {
     "data": {
      "text/plain": [
       "(20, 13)"
      ]
     },
     "execution_count": 20,
     "metadata": {},
     "output_type": "execute_result"
    }
   ],
   "source": [
    "moscatel.shape"
   ]
  },
  {
   "cell_type": "code",
   "execution_count": 21,
   "id": "fe3b1f47",
   "metadata": {},
   "outputs": [
    {
     "data": {
      "text/plain": [
       "(18, 13)"
      ]
     },
     "execution_count": 21,
     "metadata": {},
     "output_type": "execute_result"
    }
   ],
   "source": [
    "moscatel = moscatel[moscatel['wine_id'].isin(mosc_ch_id)==False]\n",
    "moscatel_id = moscatel['wine_id'].values\n",
    "moscatel.shape"
   ]
  },
  {
   "cell_type": "code",
   "execution_count": 22,
   "id": "a87f1605",
   "metadata": {},
   "outputs": [],
   "source": [
    "query_treixadura = '''SELECT wine_id, type, wine_name, country, IFNULL(varietal_name, 'Treixadura') AS varietal_name, IFNULL(style_id,0) AS style_id, body, acidity_1, acidity_2, fizziness, intensity, sweetness, tannin FROM to_clean\n",
    "WHERE wine_name LIKE '%%Treixadura%%';'''\n",
    "treixadura = pd.read_sql(query_treixadura,engine)"
   ]
  },
  {
   "cell_type": "code",
   "execution_count": 23,
   "id": "4fe1c93b",
   "metadata": {
    "scrolled": true
   },
   "outputs": [
    {
     "data": {
      "text/plain": [
       "(12, 13)"
      ]
     },
     "execution_count": 23,
     "metadata": {},
     "output_type": "execute_result"
    }
   ],
   "source": [
    "treixadura_id = treixadura['wine_id'].values\n",
    "treixadura.shape"
   ]
  },
  {
   "cell_type": "code",
   "execution_count": 24,
   "id": "dd094cdd",
   "metadata": {},
   "outputs": [],
   "source": [
    "query_muscat_sav = '''SELECT wine_id, type, wine_name, country, IFNULL(varietal_name, 'Sauvignon Blanc - Muscat') AS varietal_name, IFNULL(style_id,0) AS style_id, body, acidity_1, acidity_2, fizziness, intensity, sweetness, tannin FROM to_clean\n",
    "WHERE wine_name LIKE '%%Sauvignon Blanc - Muscat%%';'''\n",
    "muscat_sav = pd.read_sql(query_muscat_sav,engine)"
   ]
  },
  {
   "cell_type": "code",
   "execution_count": 25,
   "id": "77fde5b9",
   "metadata": {},
   "outputs": [
    {
     "data": {
      "text/html": [
       "<div>\n",
       "<style scoped>\n",
       "    .dataframe tbody tr th:only-of-type {\n",
       "        vertical-align: middle;\n",
       "    }\n",
       "\n",
       "    .dataframe tbody tr th {\n",
       "        vertical-align: top;\n",
       "    }\n",
       "\n",
       "    .dataframe thead th {\n",
       "        text-align: right;\n",
       "    }\n",
       "</style>\n",
       "<table border=\"1\" class=\"dataframe\">\n",
       "  <thead>\n",
       "    <tr style=\"text-align: right;\">\n",
       "      <th></th>\n",
       "      <th>wine_id</th>\n",
       "      <th>type</th>\n",
       "      <th>wine_name</th>\n",
       "      <th>country</th>\n",
       "      <th>varietal_name</th>\n",
       "      <th>style_id</th>\n",
       "      <th>body</th>\n",
       "      <th>acidity_1</th>\n",
       "      <th>acidity_2</th>\n",
       "      <th>fizziness</th>\n",
       "      <th>intensity</th>\n",
       "      <th>sweetness</th>\n",
       "      <th>tannin</th>\n",
       "    </tr>\n",
       "  </thead>\n",
       "  <tbody>\n",
       "    <tr>\n",
       "      <th>0</th>\n",
       "      <td>170588290</td>\n",
       "      <td>2</td>\n",
       "      <td>Emendis Flos Sauvignon Blanc - Muscat</td>\n",
       "      <td>spain</td>\n",
       "      <td>Sauvignon Blanc - Muscat</td>\n",
       "      <td>0</td>\n",
       "      <td>None</td>\n",
       "      <td>None</td>\n",
       "      <td>None</td>\n",
       "      <td>None</td>\n",
       "      <td>None</td>\n",
       "      <td>None</td>\n",
       "      <td>None</td>\n",
       "    </tr>\n",
       "    <tr>\n",
       "      <th>1</th>\n",
       "      <td>163309828</td>\n",
       "      <td>2</td>\n",
       "      <td>Emendis Flos Sauvignon Blanc - Muscat</td>\n",
       "      <td>spain</td>\n",
       "      <td>Sauvignon Blanc - Muscat</td>\n",
       "      <td>0</td>\n",
       "      <td>None</td>\n",
       "      <td>None</td>\n",
       "      <td>None</td>\n",
       "      <td>None</td>\n",
       "      <td>None</td>\n",
       "      <td>None</td>\n",
       "      <td>None</td>\n",
       "    </tr>\n",
       "  </tbody>\n",
       "</table>\n",
       "</div>"
      ],
      "text/plain": [
       "     wine_id  type                               wine_name country  \\\n",
       "0  170588290     2  Emendis Flos Sauvignon Blanc - Muscat    spain   \n",
       "1  163309828     2  Emendis Flos Sauvignon Blanc - Muscat    spain   \n",
       "\n",
       "              varietal_name  style_id  body acidity_1 acidity_2 fizziness  \\\n",
       "0  Sauvignon Blanc - Muscat         0  None      None      None      None   \n",
       "1  Sauvignon Blanc - Muscat         0  None      None      None      None   \n",
       "\n",
       "  intensity sweetness tannin  \n",
       "0      None      None   None  \n",
       "1      None      None   None  "
      ]
     },
     "execution_count": 25,
     "metadata": {},
     "output_type": "execute_result"
    }
   ],
   "source": [
    "muscat_sav_id = muscat_sav['wine_id'].values\n",
    "muscat_sav"
   ]
  },
  {
   "cell_type": "code",
   "execution_count": 26,
   "id": "af5e01cc",
   "metadata": {},
   "outputs": [],
   "source": [
    "query_muscat = '''SELECT wine_id, type, wine_name, country, IFNULL(varietal_name, 'Muscat') AS varietal_name, IFNULL(style_id,0) AS style_id, body, acidity_1, acidity_2, fizziness, intensity, sweetness, tannin FROM to_clean\n",
    "WHERE wine_name LIKE '%%Muscat%%';'''\n",
    "muscat = pd.read_sql(query_muscat,engine)"
   ]
  },
  {
   "cell_type": "code",
   "execution_count": 27,
   "id": "eeb6ba13",
   "metadata": {
    "scrolled": true
   },
   "outputs": [
    {
     "data": {
      "text/plain": [
       "(16, 13)"
      ]
     },
     "execution_count": 27,
     "metadata": {},
     "output_type": "execute_result"
    }
   ],
   "source": [
    "muscat.shape"
   ]
  },
  {
   "cell_type": "code",
   "execution_count": 28,
   "id": "b1dff31d",
   "metadata": {},
   "outputs": [
    {
     "data": {
      "text/plain": [
       "(14, 13)"
      ]
     },
     "execution_count": 28,
     "metadata": {},
     "output_type": "execute_result"
    }
   ],
   "source": [
    "muscat = muscat[muscat['wine_id'].isin(muscat_sav_id)==False]\n",
    "muscat_id = muscat['wine_id'].values\n",
    "muscat.shape"
   ]
  },
  {
   "cell_type": "code",
   "execution_count": 29,
   "id": "1f9bb74a",
   "metadata": {},
   "outputs": [],
   "source": [
    "query_sauv = '''SELECT wine_id, type, wine_name, country, IFNULL(varietal_name, 'Sauvignon Blanc') AS varietal_name, IFNULL(style_id,0) AS style_id, body, acidity_1, acidity_2, fizziness, intensity, sweetness, tannin FROM to_clean\n",
    "WHERE wine_name LIKE '%%Sauvignon Blanc%%';'''\n",
    "sauv = pd.read_sql(query_sauv,engine)"
   ]
  },
  {
   "cell_type": "code",
   "execution_count": 30,
   "id": "280a6e1f",
   "metadata": {},
   "outputs": [
    {
     "data": {
      "text/plain": [
       "(35, 13)"
      ]
     },
     "execution_count": 30,
     "metadata": {},
     "output_type": "execute_result"
    }
   ],
   "source": [
    "sauv.shape"
   ]
  },
  {
   "cell_type": "code",
   "execution_count": 31,
   "id": "2f78a1b0",
   "metadata": {},
   "outputs": [
    {
     "data": {
      "text/plain": [
       "(33, 13)"
      ]
     },
     "execution_count": 31,
     "metadata": {},
     "output_type": "execute_result"
    }
   ],
   "source": [
    "sauv = sauv[sauv['wine_id'].isin(muscat_sav_id)==False]\n",
    "sauv_id = sauv['wine_id'].values\n",
    "sauv.shape"
   ]
  },
  {
   "cell_type": "code",
   "execution_count": 32,
   "id": "d479a766",
   "metadata": {},
   "outputs": [],
   "source": [
    "query_albariño = '''SELECT wine_id, type, wine_name, country, IFNULL(varietal_name, 'ALbariño') AS varietal_name, IFNULL(style_id,0) AS style_id, body, acidity_1, acidity_2, fizziness, intensity, sweetness, tannin FROM to_clean\n",
    "WHERE wine_name LIKE '%%Albariño%%';'''\n",
    "albariño = pd.read_sql(query_albariño,engine)"
   ]
  },
  {
   "cell_type": "code",
   "execution_count": 33,
   "id": "1794b985",
   "metadata": {},
   "outputs": [
    {
     "data": {
      "text/plain": [
       "(3, 13)"
      ]
     },
     "execution_count": 33,
     "metadata": {},
     "output_type": "execute_result"
    }
   ],
   "source": [
    "albariño_id = albariño['wine_id'].values\n",
    "albariño.shape"
   ]
  },
  {
   "cell_type": "code",
   "execution_count": 34,
   "id": "2ee864e6",
   "metadata": {},
   "outputs": [],
   "source": [
    "query_cabernet_f = '''SELECT wine_id, type, wine_name, country, IFNULL(varietal_name, 'Cabernet Franc') AS varietal_name, IFNULL(style_id,0) AS style_id, body, acidity_1, acidity_2, fizziness, intensity, sweetness, tannin FROM to_clean\n",
    "WHERE wine_name LIKE '%%Cabernet Franc%%';'''\n",
    "cabernet_f = pd.read_sql(query_cabernet_f,engine)"
   ]
  },
  {
   "cell_type": "code",
   "execution_count": 35,
   "id": "f9b0b776",
   "metadata": {
    "scrolled": true
   },
   "outputs": [
    {
     "data": {
      "text/plain": [
       "(23, 13)"
      ]
     },
     "execution_count": 35,
     "metadata": {},
     "output_type": "execute_result"
    }
   ],
   "source": [
    "cabernet_f_id = cabernet_f['wine_id'].values\n",
    "cabernet_f.shape"
   ]
  },
  {
   "cell_type": "code",
   "execution_count": 36,
   "id": "24e889a2",
   "metadata": {},
   "outputs": [],
   "source": [
    "query_cabernet_s = '''SELECT wine_id, type, wine_name, country, IFNULL(varietal_name, 'Cabernet Sauvignon') AS varietal_name, IFNULL(style_id,0) AS style_id, body, acidity_1, acidity_2, fizziness, intensity, sweetness, tannin FROM to_clean\n",
    "WHERE wine_name LIKE '%%Cabernet Sauvignon%%';'''\n",
    "cabernet_s = pd.read_sql(query_cabernet_s,engine)"
   ]
  },
  {
   "cell_type": "code",
   "execution_count": 37,
   "id": "1a8fdb9a",
   "metadata": {
    "scrolled": true
   },
   "outputs": [
    {
     "data": {
      "text/plain": [
       "(7, 13)"
      ]
     },
     "execution_count": 37,
     "metadata": {},
     "output_type": "execute_result"
    }
   ],
   "source": [
    "cabernet_s_id = cabernet_s['wine_id'].values\n",
    "cabernet_s.shape"
   ]
  },
  {
   "cell_type": "code",
   "execution_count": 38,
   "id": "8890589a",
   "metadata": {},
   "outputs": [],
   "source": [
    "query_cabernet_sh = '''SELECT wine_id, type, wine_name, country, IFNULL(varietal_name, 'Cabernet - Shiraz') AS varietal_name, IFNULL(style_id,0) AS style_id, body, acidity_1, acidity_2, fizziness, intensity, sweetness, tannin FROM to_clean\n",
    "WHERE wine_name LIKE '%%Cabernet - Shiraz%%';'''\n",
    "cabernet_sh = pd.read_sql(query_cabernet_sh,engine)"
   ]
  },
  {
   "cell_type": "code",
   "execution_count": 39,
   "id": "7b04cfea",
   "metadata": {
    "scrolled": true
   },
   "outputs": [
    {
     "data": {
      "text/plain": [
       "(1, 13)"
      ]
     },
     "execution_count": 39,
     "metadata": {},
     "output_type": "execute_result"
    }
   ],
   "source": [
    "cabernet_sh_id = cabernet_sh['wine_id'].values\n",
    "cabernet_sh.shape"
   ]
  },
  {
   "cell_type": "code",
   "execution_count": 40,
   "id": "3fd600a2",
   "metadata": {},
   "outputs": [],
   "source": [
    "def ids_clean(df,values):\n",
    "    for value in values:\n",
    "        df = df[df['wine_id'].isin(value)==False]\n",
    "    return df"
   ]
  },
  {
   "cell_type": "code",
   "execution_count": 41,
   "id": "ca2d056d",
   "metadata": {},
   "outputs": [],
   "source": [
    "values = [muscat_id,cabernet_s_id,sauv_id, muscat_sav_id, godellos_id,garnacha_id,mosc_ch_id,moscatel_id,treixadura_id,cabernet_sh_id,cabernet_f_id,albariño_id]"
   ]
  },
  {
   "cell_type": "code",
   "execution_count": 42,
   "id": "7b5f9615",
   "metadata": {},
   "outputs": [],
   "source": [
    "to_clean_2 = ids_clean(to_clean,values)"
   ]
  },
  {
   "cell_type": "code",
   "execution_count": 43,
   "id": "4c9f329b",
   "metadata": {},
   "outputs": [
    {
     "data": {
      "text/html": [
       "<div>\n",
       "<style scoped>\n",
       "    .dataframe tbody tr th:only-of-type {\n",
       "        vertical-align: middle;\n",
       "    }\n",
       "\n",
       "    .dataframe tbody tr th {\n",
       "        vertical-align: top;\n",
       "    }\n",
       "\n",
       "    .dataframe thead th {\n",
       "        text-align: right;\n",
       "    }\n",
       "</style>\n",
       "<table border=\"1\" class=\"dataframe\">\n",
       "  <thead>\n",
       "    <tr style=\"text-align: right;\">\n",
       "      <th></th>\n",
       "      <th>wine_id</th>\n",
       "      <th>type</th>\n",
       "      <th>wine_name</th>\n",
       "      <th>country</th>\n",
       "      <th>varietal_name</th>\n",
       "      <th>style_id</th>\n",
       "      <th>body</th>\n",
       "      <th>acidity_1</th>\n",
       "      <th>acidity_2</th>\n",
       "      <th>fizziness</th>\n",
       "      <th>intensity</th>\n",
       "      <th>sweetness</th>\n",
       "      <th>tannin</th>\n",
       "    </tr>\n",
       "  </thead>\n",
       "  <tbody>\n",
       "    <tr>\n",
       "      <th>1</th>\n",
       "      <td>162466975</td>\n",
       "      <td>2</td>\n",
       "      <td>Dominio do Bibei Refu</td>\n",
       "      <td>spain</td>\n",
       "      <td>None</td>\n",
       "      <td>0</td>\n",
       "      <td>NaN</td>\n",
       "      <td>NaN</td>\n",
       "      <td>NaN</td>\n",
       "      <td>NaN</td>\n",
       "      <td>NaN</td>\n",
       "      <td>NaN</td>\n",
       "      <td>NaN</td>\n",
       "    </tr>\n",
       "    <tr>\n",
       "      <th>2</th>\n",
       "      <td>168714635</td>\n",
       "      <td>2</td>\n",
       "      <td>Naia K-Naia</td>\n",
       "      <td>spain</td>\n",
       "      <td>None</td>\n",
       "      <td>0</td>\n",
       "      <td>NaN</td>\n",
       "      <td>NaN</td>\n",
       "      <td>NaN</td>\n",
       "      <td>NaN</td>\n",
       "      <td>NaN</td>\n",
       "      <td>NaN</td>\n",
       "      <td>NaN</td>\n",
       "    </tr>\n",
       "    <tr>\n",
       "      <th>3</th>\n",
       "      <td>158943250</td>\n",
       "      <td>2</td>\n",
       "      <td>Muchada-Léclapart Univers</td>\n",
       "      <td>spain</td>\n",
       "      <td>None</td>\n",
       "      <td>0</td>\n",
       "      <td>NaN</td>\n",
       "      <td>NaN</td>\n",
       "      <td>NaN</td>\n",
       "      <td>NaN</td>\n",
       "      <td>NaN</td>\n",
       "      <td>NaN</td>\n",
       "      <td>NaN</td>\n",
       "    </tr>\n",
       "    <tr>\n",
       "      <th>4</th>\n",
       "      <td>165941865</td>\n",
       "      <td>2</td>\n",
       "      <td>Oller del Mas Bernat Oller Blanc de Picapolls</td>\n",
       "      <td>spain</td>\n",
       "      <td>None</td>\n",
       "      <td>0</td>\n",
       "      <td>NaN</td>\n",
       "      <td>NaN</td>\n",
       "      <td>NaN</td>\n",
       "      <td>NaN</td>\n",
       "      <td>NaN</td>\n",
       "      <td>NaN</td>\n",
       "      <td>NaN</td>\n",
       "    </tr>\n",
       "    <tr>\n",
       "      <th>8</th>\n",
       "      <td>168620066</td>\n",
       "      <td>2</td>\n",
       "      <td>Mas d'en Gil Bellmunt Vi de Villa Blanc</td>\n",
       "      <td>spain</td>\n",
       "      <td>None</td>\n",
       "      <td>0</td>\n",
       "      <td>NaN</td>\n",
       "      <td>NaN</td>\n",
       "      <td>NaN</td>\n",
       "      <td>NaN</td>\n",
       "      <td>NaN</td>\n",
       "      <td>NaN</td>\n",
       "      <td>NaN</td>\n",
       "    </tr>\n",
       "    <tr>\n",
       "      <th>...</th>\n",
       "      <td>...</td>\n",
       "      <td>...</td>\n",
       "      <td>...</td>\n",
       "      <td>...</td>\n",
       "      <td>...</td>\n",
       "      <td>...</td>\n",
       "      <td>...</td>\n",
       "      <td>...</td>\n",
       "      <td>...</td>\n",
       "      <td>...</td>\n",
       "      <td>...</td>\n",
       "      <td>...</td>\n",
       "      <td>...</td>\n",
       "    </tr>\n",
       "    <tr>\n",
       "      <th>2169</th>\n",
       "      <td>152298281</td>\n",
       "      <td>2</td>\n",
       "      <td>Clos Pons Sisquella</td>\n",
       "      <td>spain</td>\n",
       "      <td>None</td>\n",
       "      <td>0</td>\n",
       "      <td>NaN</td>\n",
       "      <td>NaN</td>\n",
       "      <td>NaN</td>\n",
       "      <td>NaN</td>\n",
       "      <td>NaN</td>\n",
       "      <td>NaN</td>\n",
       "      <td>NaN</td>\n",
       "    </tr>\n",
       "    <tr>\n",
       "      <th>2170</th>\n",
       "      <td>168580580</td>\n",
       "      <td>2</td>\n",
       "      <td>Reboreda Adeus</td>\n",
       "      <td>spain</td>\n",
       "      <td>None</td>\n",
       "      <td>0</td>\n",
       "      <td>NaN</td>\n",
       "      <td>NaN</td>\n",
       "      <td>NaN</td>\n",
       "      <td>NaN</td>\n",
       "      <td>NaN</td>\n",
       "      <td>NaN</td>\n",
       "      <td>NaN</td>\n",
       "    </tr>\n",
       "    <tr>\n",
       "      <th>2172</th>\n",
       "      <td>171055783</td>\n",
       "      <td>2</td>\n",
       "      <td>Castellroig Finca Sabaté i Coca Sø Blanco</td>\n",
       "      <td>spain</td>\n",
       "      <td>None</td>\n",
       "      <td>0</td>\n",
       "      <td>NaN</td>\n",
       "      <td>NaN</td>\n",
       "      <td>NaN</td>\n",
       "      <td>NaN</td>\n",
       "      <td>NaN</td>\n",
       "      <td>NaN</td>\n",
       "      <td>NaN</td>\n",
       "    </tr>\n",
       "    <tr>\n",
       "      <th>2173</th>\n",
       "      <td>170625872</td>\n",
       "      <td>2</td>\n",
       "      <td>De Moya Tibó Blanco</td>\n",
       "      <td>spain</td>\n",
       "      <td>None</td>\n",
       "      <td>0</td>\n",
       "      <td>NaN</td>\n",
       "      <td>NaN</td>\n",
       "      <td>NaN</td>\n",
       "      <td>NaN</td>\n",
       "      <td>NaN</td>\n",
       "      <td>NaN</td>\n",
       "      <td>NaN</td>\n",
       "    </tr>\n",
       "    <tr>\n",
       "      <th>2174</th>\n",
       "      <td>155202306</td>\n",
       "      <td>2</td>\n",
       "      <td>Tomàs Cusiné Macabeu De vinyes Velles Finca Ra...</td>\n",
       "      <td>spain</td>\n",
       "      <td>None</td>\n",
       "      <td>0</td>\n",
       "      <td>NaN</td>\n",
       "      <td>NaN</td>\n",
       "      <td>NaN</td>\n",
       "      <td>NaN</td>\n",
       "      <td>NaN</td>\n",
       "      <td>NaN</td>\n",
       "      <td>NaN</td>\n",
       "    </tr>\n",
       "  </tbody>\n",
       "</table>\n",
       "<p>1877 rows × 13 columns</p>\n",
       "</div>"
      ],
      "text/plain": [
       "        wine_id  type                                          wine_name  \\\n",
       "1     162466975     2                             Dominio do Bibei Refu    \n",
       "2     168714635     2                                       Naia K-Naia    \n",
       "3     158943250     2                         Muchada-Léclapart Univers    \n",
       "4     165941865     2     Oller del Mas Bernat Oller Blanc de Picapolls    \n",
       "8     168620066     2           Mas d'en Gil Bellmunt Vi de Villa Blanc    \n",
       "...         ...   ...                                                ...   \n",
       "2169  152298281     2                               Clos Pons Sisquella    \n",
       "2170  168580580     2                                    Reboreda Adeus    \n",
       "2172  171055783     2         Castellroig Finca Sabaté i Coca Sø Blanco    \n",
       "2173  170625872     2                               De Moya Tibó Blanco    \n",
       "2174  155202306     2  Tomàs Cusiné Macabeu De vinyes Velles Finca Ra...   \n",
       "\n",
       "     country varietal_name  style_id  body  acidity_1  acidity_2  fizziness  \\\n",
       "1      spain          None         0   NaN        NaN        NaN        NaN   \n",
       "2      spain          None         0   NaN        NaN        NaN        NaN   \n",
       "3      spain          None         0   NaN        NaN        NaN        NaN   \n",
       "4      spain          None         0   NaN        NaN        NaN        NaN   \n",
       "8      spain          None         0   NaN        NaN        NaN        NaN   \n",
       "...      ...           ...       ...   ...        ...        ...        ...   \n",
       "2169   spain          None         0   NaN        NaN        NaN        NaN   \n",
       "2170   spain          None         0   NaN        NaN        NaN        NaN   \n",
       "2172   spain          None         0   NaN        NaN        NaN        NaN   \n",
       "2173   spain          None         0   NaN        NaN        NaN        NaN   \n",
       "2174   spain          None         0   NaN        NaN        NaN        NaN   \n",
       "\n",
       "      intensity  sweetness  tannin  \n",
       "1           NaN        NaN     NaN  \n",
       "2           NaN        NaN     NaN  \n",
       "3           NaN        NaN     NaN  \n",
       "4           NaN        NaN     NaN  \n",
       "8           NaN        NaN     NaN  \n",
       "...         ...        ...     ...  \n",
       "2169        NaN        NaN     NaN  \n",
       "2170        NaN        NaN     NaN  \n",
       "2172        NaN        NaN     NaN  \n",
       "2173        NaN        NaN     NaN  \n",
       "2174        NaN        NaN     NaN  \n",
       "\n",
       "[1877 rows x 13 columns]"
      ]
     },
     "execution_count": 43,
     "metadata": {},
     "output_type": "execute_result"
    }
   ],
   "source": [
    "to_clean_2"
   ]
  },
  {
   "cell_type": "code",
   "execution_count": 44,
   "id": "df16b1d6",
   "metadata": {},
   "outputs": [
    {
     "data": {
      "text/plain": [
       "1877"
      ]
     },
     "execution_count": 44,
     "metadata": {},
     "output_type": "execute_result"
    }
   ],
   "source": [
    "to_clean_2.to_sql('to_clean', con = engine, if_exists = 'replace', index = False )"
   ]
  },
  {
   "cell_type": "code",
   "execution_count": 45,
   "id": "93c8079f",
   "metadata": {},
   "outputs": [],
   "source": [
    "query_chardonnay_pn = '''SELECT wine_id, type, wine_name, country, IFNULL(varietal_name, 'Chardonnay - Pinot Noir') AS varietal_name, IFNULL(style_id,0) AS style_id, body, acidity_1, acidity_2, fizziness, intensity, sweetness, tannin FROM to_clean\n",
    "WHERE wine_name LIKE '%%Chardonnay - Pinot Noir%%';'''\n",
    "chardonnay_pn = pd.read_sql(query_chardonnay_pn,engine)"
   ]
  },
  {
   "cell_type": "code",
   "execution_count": 46,
   "id": "c61b1969",
   "metadata": {
    "scrolled": false
   },
   "outputs": [
    {
     "data": {
      "text/plain": [
       "(3, 13)"
      ]
     },
     "execution_count": 46,
     "metadata": {},
     "output_type": "execute_result"
    }
   ],
   "source": [
    "chardonnay_pn_id = chardonnay_pn['wine_id'].values\n",
    "chardonnay_pn.shape"
   ]
  },
  {
   "cell_type": "code",
   "execution_count": 47,
   "id": "0a44b1ba",
   "metadata": {},
   "outputs": [],
   "source": [
    "query_pinot_noir = '''SELECT wine_id, type, wine_name, country, IFNULL(varietal_name, 'Pinot Noir') AS varietal_name, IFNULL(style_id,0) AS style_id, body, acidity_1, acidity_2, fizziness, intensity, sweetness, tannin FROM to_clean\n",
    "WHERE wine_name LIKE '%%Pinot Noir%%';'''\n",
    "pinot_noir = pd.read_sql(query_pinot_noir,engine)"
   ]
  },
  {
   "cell_type": "code",
   "execution_count": 48,
   "id": "6de8b4df",
   "metadata": {
    "scrolled": false
   },
   "outputs": [
    {
     "data": {
      "text/plain": [
       "(4, 13)"
      ]
     },
     "execution_count": 48,
     "metadata": {},
     "output_type": "execute_result"
    }
   ],
   "source": [
    "pinot_noir = pinot_noir[pinot_noir['wine_id'].isin(chardonnay_pn_id)==False]\n",
    "pinot_noir_id = pinot_noir['wine_id'].values\n",
    "pinot_noir.shape"
   ]
  },
  {
   "cell_type": "code",
   "execution_count": 49,
   "id": "b6edec08",
   "metadata": {},
   "outputs": [],
   "source": [
    "query_chardonnay = '''SELECT wine_id, type, wine_name, country, IFNULL(varietal_name, 'Chardonnay') AS varietal_name, IFNULL(style_id,0) AS style_id, body, acidity_1, acidity_2, fizziness, intensity, sweetness, tannin FROM to_clean\n",
    "WHERE wine_name LIKE '%%Chardonnay%%';'''\n",
    "chardonnay = pd.read_sql(query_chardonnay,engine)"
   ]
  },
  {
   "cell_type": "code",
   "execution_count": 50,
   "id": "eff859e5",
   "metadata": {
    "scrolled": false
   },
   "outputs": [
    {
     "data": {
      "text/plain": [
       "(25, 13)"
      ]
     },
     "execution_count": 50,
     "metadata": {},
     "output_type": "execute_result"
    }
   ],
   "source": [
    "chardonnay = chardonnay[chardonnay['wine_id'].isin(chardonnay_pn_id)==False]\n",
    "chardonnay_id = chardonnay['wine_id'].values\n",
    "chardonnay.shape"
   ]
  },
  {
   "cell_type": "code",
   "execution_count": 51,
   "id": "37c30136",
   "metadata": {},
   "outputs": [],
   "source": [
    "query_ribeiro = '''SELECT wine_id, w.type, w.wine_name, w.country, IFNULL(varietal_name, 'Ribeiro') AS varietal_name, IFNULL(style_id,0) AS style_id, body, acidity_1, acidity_2, fizziness, intensity, sweetness, tannin FROM wine w\n",
    "JOIN to_clean USING (wine_id)\n",
    "WHERE region LIKE '%%Ribeiro%%';'''\n",
    "ribeiro = pd.read_sql(query_ribeiro,engine)"
   ]
  },
  {
   "cell_type": "code",
   "execution_count": 52,
   "id": "3c0721d1",
   "metadata": {
    "scrolled": true
   },
   "outputs": [
    {
     "data": {
      "text/plain": [
       "(53, 13)"
      ]
     },
     "execution_count": 52,
     "metadata": {},
     "output_type": "execute_result"
    }
   ],
   "source": [
    "ribeiro_id = ribeiro['wine_id'].values\n",
    "ribeiro.shape"
   ]
  },
  {
   "cell_type": "code",
   "execution_count": 53,
   "id": "c1b05a3d",
   "metadata": {},
   "outputs": [],
   "source": [
    "query_verdelho = '''SELECT wine_id, type, wine_name, country, IFNULL(varietal_name, 'Verdejo') AS varietal_name, IFNULL(style_id,0) AS style_id, body, acidity_1, acidity_2, fizziness, intensity, sweetness, tannin FROM to_clean\n",
    "WHERE (wine_name LIKE '%%Verdelho%%') OR (wine_name LIKE '%%Verdejo%%');'''\n",
    "verdelho = pd.read_sql(query_verdelho,engine)"
   ]
  },
  {
   "cell_type": "code",
   "execution_count": 54,
   "id": "f82a3683",
   "metadata": {
    "scrolled": true
   },
   "outputs": [
    {
     "data": {
      "text/plain": [
       "(2, 13)"
      ]
     },
     "execution_count": 54,
     "metadata": {},
     "output_type": "execute_result"
    }
   ],
   "source": [
    "verdelho_id = verdelho['wine_id'].values\n",
    "verdelho.shape"
   ]
  },
  {
   "cell_type": "code",
   "execution_count": 55,
   "id": "eb8e9b2f",
   "metadata": {},
   "outputs": [
    {
     "data": {
      "text/plain": [
       "1790"
      ]
     },
     "execution_count": 55,
     "metadata": {},
     "output_type": "execute_result"
    }
   ],
   "source": [
    "values_2 = [chardonnay_pn_id, pinot_noir_id,chardonnay_id,ribeiro_id,verdelho_id]\n",
    "to_clean_2 = ids_clean(to_clean_2,values_2)\n",
    "to_clean_2.to_sql('to_clean', con = engine, if_exists = 'replace', index = False )"
   ]
  },
  {
   "cell_type": "code",
   "execution_count": 56,
   "id": "798368f3",
   "metadata": {},
   "outputs": [],
   "source": [
    "query_barbera = '''SELECT wine_id, type, wine_name, country, IFNULL(varietal_name, 'Barbera') AS varietal_name, IFNULL(style_id,0) AS style_id, body, acidity_1, acidity_2, fizziness, intensity, sweetness, tannin FROM to_clean\n",
    "WHERE wine_name LIKE '%%Barbera%%';'''\n",
    "barbera = pd.read_sql(query_barbera,engine)"
   ]
  },
  {
   "cell_type": "code",
   "execution_count": 57,
   "id": "3904d433",
   "metadata": {
    "scrolled": true
   },
   "outputs": [
    {
     "data": {
      "text/plain": [
       "(4, 13)"
      ]
     },
     "execution_count": 57,
     "metadata": {},
     "output_type": "execute_result"
    }
   ],
   "source": [
    "barbera_id = barbera['wine_id'].values\n",
    "barbera.shape"
   ]
  },
  {
   "cell_type": "code",
   "execution_count": 58,
   "id": "a84b9e2a",
   "metadata": {},
   "outputs": [],
   "source": [
    "query_ch_vi = '''SELECT wine_id, type, wine_name, country, IFNULL(varietal_name, 'Chenin blanc - Viognier') AS varietal_name, IFNULL(style_id,0) AS style_id, body, acidity_1, acidity_2, fizziness, intensity, sweetness, tannin FROM to_clean\n",
    "WHERE wine_name LIKE '%%Chenin blanc - Viognier%%';'''\n",
    "ch_vi = pd.read_sql(query_ch_vi,engine)"
   ]
  },
  {
   "cell_type": "code",
   "execution_count": 59,
   "id": "177249f5",
   "metadata": {
    "scrolled": true
   },
   "outputs": [
    {
     "data": {
      "text/plain": [
       "(1, 13)"
      ]
     },
     "execution_count": 59,
     "metadata": {},
     "output_type": "execute_result"
    }
   ],
   "source": [
    "ch_vi_id = ch_vi['wine_id'].values\n",
    "ch_vi.shape"
   ]
  },
  {
   "cell_type": "code",
   "execution_count": 60,
   "id": "e5ee8fb0",
   "metadata": {},
   "outputs": [],
   "source": [
    "query_chenin = '''SELECT wine_id, type, wine_name, country, IFNULL(varietal_name, 'Chenin blanc') AS varietal_name, IFNULL(style_id,0) AS style_id, body, acidity_1, acidity_2, fizziness, intensity, sweetness, tannin FROM to_clean\n",
    "WHERE wine_name LIKE '%%Chenin blanc%%';'''\n",
    "chenin = pd.read_sql(query_chenin,engine)"
   ]
  },
  {
   "cell_type": "code",
   "execution_count": 61,
   "id": "1c6aa1f3",
   "metadata": {
    "scrolled": true
   },
   "outputs": [
    {
     "data": {
      "text/plain": [
       "(7, 13)"
      ]
     },
     "execution_count": 61,
     "metadata": {},
     "output_type": "execute_result"
    }
   ],
   "source": [
    "chenin = chenin[chenin['wine_id'].isin(ch_vi_id)==False]\n",
    "chenin_id = chenin['wine_id'].values\n",
    "chenin.shape"
   ]
  },
  {
   "cell_type": "code",
   "execution_count": 62,
   "id": "d8a5568d",
   "metadata": {},
   "outputs": [],
   "source": [
    "query_geu = '''SELECT wine_id, type, wine_name, country, IFNULL(varietal_name, 'Gewürztraminer') AS varietal_name, IFNULL(style_id,0) AS style_id, body, acidity_1, acidity_2, fizziness, intensity, sweetness, tannin FROM to_clean\n",
    "WHERE wine_name LIKE '%%Gewürztraminer%%';'''\n",
    "geu = pd.read_sql(query_geu,engine)"
   ]
  },
  {
   "cell_type": "code",
   "execution_count": 63,
   "id": "ae3c6c3f",
   "metadata": {
    "scrolled": true
   },
   "outputs": [
    {
     "data": {
      "text/plain": [
       "(23, 13)"
      ]
     },
     "execution_count": 63,
     "metadata": {},
     "output_type": "execute_result"
    }
   ],
   "source": [
    "geu_id = geu['wine_id'].values\n",
    "geu.shape"
   ]
  },
  {
   "cell_type": "code",
   "execution_count": 64,
   "id": "624e6925",
   "metadata": {},
   "outputs": [],
   "source": [
    "query_m_s = '''SELECT wine_id, type, wine_name, country, IFNULL(varietal_name, 'Malbec - Syrah') AS varietal_name, IFNULL(style_id,0) AS style_id, body, acidity_1, acidity_2, fizziness, intensity, sweetness, tannin FROM to_clean\n",
    "WHERE wine_name LIKE '%%Malbec - Syrah%%';'''\n",
    "mal_sy = pd.read_sql(query_m_s,engine)"
   ]
  },
  {
   "cell_type": "code",
   "execution_count": 65,
   "id": "15da087b",
   "metadata": {
    "scrolled": true
   },
   "outputs": [
    {
     "data": {
      "text/plain": [
       "(2, 13)"
      ]
     },
     "execution_count": 65,
     "metadata": {},
     "output_type": "execute_result"
    }
   ],
   "source": [
    "mal_sy_id = mal_sy['wine_id'].values\n",
    "mal_sy.shape"
   ]
  },
  {
   "cell_type": "code",
   "execution_count": 66,
   "id": "5438bed3",
   "metadata": {},
   "outputs": [],
   "source": [
    "query_malbec = '''SELECT wine_id, type, wine_name, country, IFNULL(varietal_name, 'Malbec') AS varietal_name, IFNULL(style_id,0) AS style_id, body, acidity_1, acidity_2, fizziness, intensity, sweetness, tannin FROM to_clean\n",
    "WHERE wine_name LIKE '%%Malbec%%';'''\n",
    "malbec = pd.read_sql(query_malbec,engine)"
   ]
  },
  {
   "cell_type": "code",
   "execution_count": 67,
   "id": "129f0e7f",
   "metadata": {
    "scrolled": true
   },
   "outputs": [
    {
     "data": {
      "text/plain": [
       "(4, 13)"
      ]
     },
     "execution_count": 67,
     "metadata": {},
     "output_type": "execute_result"
    }
   ],
   "source": [
    "malbec = malbec[malbec['wine_id'].isin(mal_sy_id)==False]\n",
    "malbec_id = malbec['wine_id'].values\n",
    "malbec.shape"
   ]
  },
  {
   "cell_type": "code",
   "execution_count": 68,
   "id": "698b2ef0",
   "metadata": {},
   "outputs": [],
   "source": [
    "query_mencia = '''SELECT wine_id, type, wine_name, country, IFNULL(varietal_name, 'Mencía') AS varietal_name, IFNULL(style_id,0) AS style_id, body, acidity_1, acidity_2, fizziness, intensity, sweetness, tannin FROM to_clean\n",
    "WHERE wine_name LIKE '%%Mencía%%';'''\n",
    "mencia = pd.read_sql(query_mencia,engine)"
   ]
  },
  {
   "cell_type": "code",
   "execution_count": 69,
   "id": "a672739a",
   "metadata": {
    "scrolled": true
   },
   "outputs": [
    {
     "data": {
      "text/plain": [
       "(2, 13)"
      ]
     },
     "execution_count": 69,
     "metadata": {},
     "output_type": "execute_result"
    }
   ],
   "source": [
    "mencia_id = mencia['wine_id'].values\n",
    "mencia.shape"
   ]
  },
  {
   "cell_type": "code",
   "execution_count": 70,
   "id": "eeda8ece",
   "metadata": {},
   "outputs": [],
   "source": [
    "query_mer_s = '''SELECT wine_id, type, wine_name, country, IFNULL(varietal_name, 'Merlot - Syrah') AS varietal_name, IFNULL(style_id,0) AS style_id, body, acidity_1, acidity_2, fizziness, intensity, sweetness, tannin FROM to_clean\n",
    "WHERE wine_name LIKE '%%Merlot - Syrah%%';'''\n",
    "mer_sy = pd.read_sql(query_mer_s,engine)"
   ]
  },
  {
   "cell_type": "code",
   "execution_count": 71,
   "id": "ef3d94ea",
   "metadata": {
    "scrolled": true
   },
   "outputs": [
    {
     "data": {
      "text/plain": [
       "(1, 13)"
      ]
     },
     "execution_count": 71,
     "metadata": {},
     "output_type": "execute_result"
    }
   ],
   "source": [
    "mer_sy_id = mer_sy['wine_id'].values\n",
    "mer_sy.shape"
   ]
  },
  {
   "cell_type": "code",
   "execution_count": 72,
   "id": "50086a77",
   "metadata": {},
   "outputs": [],
   "source": [
    "query_merlot = '''SELECT wine_id, type, wine_name, country, IFNULL(varietal_name, 'Merlot') AS varietal_name, IFNULL(style_id,0) AS style_id, body, acidity_1, acidity_2, fizziness, intensity, sweetness, tannin FROM to_clean\n",
    "WHERE wine_name LIKE '%%Merlot%%';'''\n",
    "merlot = pd.read_sql(query_merlot,engine)"
   ]
  },
  {
   "cell_type": "code",
   "execution_count": 73,
   "id": "080446d9",
   "metadata": {
    "scrolled": true
   },
   "outputs": [
    {
     "data": {
      "text/plain": [
       "(9, 13)"
      ]
     },
     "execution_count": 73,
     "metadata": {},
     "output_type": "execute_result"
    }
   ],
   "source": [
    "merlot = merlot[merlot['wine_id'].isin(mer_sy_id)==False]\n",
    "merlot_id = merlot['wine_id'].values\n",
    "merlot.shape"
   ]
  },
  {
   "cell_type": "code",
   "execution_count": 74,
   "id": "05a1d7f6",
   "metadata": {},
   "outputs": [],
   "source": [
    "query_nebiolo = '''SELECT wine_id, type, wine_name, country, IFNULL(varietal_name, 'Nebbiolo') AS varietal_name, IFNULL(style_id,0) AS style_id, body, acidity_1, acidity_2, fizziness, intensity, sweetness, tannin FROM to_clean\n",
    "WHERE wine_name LIKE '%%Nebbiolo%%';'''\n",
    "nebiolo = pd.read_sql(query_nebiolo,engine)"
   ]
  },
  {
   "cell_type": "code",
   "execution_count": 75,
   "id": "a11c2ccd",
   "metadata": {
    "scrolled": false
   },
   "outputs": [
    {
     "data": {
      "text/plain": [
       "(4, 13)"
      ]
     },
     "execution_count": 75,
     "metadata": {},
     "output_type": "execute_result"
    }
   ],
   "source": [
    "nebiolo_id = nebiolo['wine_id'].values\n",
    "nebiolo.shape"
   ]
  },
  {
   "cell_type": "code",
   "execution_count": 76,
   "id": "79b200b9",
   "metadata": {},
   "outputs": [],
   "source": [
    "query_pe_si = '''SELECT wine_id, type, wine_name, country, IFNULL(varietal_name, 'Petite Sirah') AS varietal_name, IFNULL(style_id,0) AS style_id, body, acidity_1, acidity_2, fizziness, intensity, sweetness, tannin FROM to_clean\n",
    "WHERE wine_name LIKE '%%Petite Sirah%%';'''\n",
    "pe_si = pd.read_sql(query_pe_si,engine)"
   ]
  },
  {
   "cell_type": "code",
   "execution_count": 77,
   "id": "f96bd3d7",
   "metadata": {
    "scrolled": false
   },
   "outputs": [
    {
     "data": {
      "text/plain": [
       "(2, 13)"
      ]
     },
     "execution_count": 77,
     "metadata": {},
     "output_type": "execute_result"
    }
   ],
   "source": [
    "pe_si_id = pe_si['wine_id'].values\n",
    "pe_si.shape"
   ]
  },
  {
   "cell_type": "code",
   "execution_count": 78,
   "id": "06dcf00d",
   "metadata": {},
   "outputs": [],
   "source": [
    "query_pi_bl = '''SELECT wine_id, type, wine_name, country, IFNULL(varietal_name, 'Pinot Blanc') AS varietal_name, IFNULL(style_id,0) AS style_id, body, acidity_1, acidity_2, fizziness, intensity, sweetness, tannin FROM to_clean\n",
    "WHERE wine_name LIKE '%%Pinot Blanc%%';'''\n",
    "pinot_blanc = pd.read_sql(query_pi_bl,engine)"
   ]
  },
  {
   "cell_type": "code",
   "execution_count": 79,
   "id": "fdd90ddd",
   "metadata": {
    "scrolled": false
   },
   "outputs": [
    {
     "data": {
      "text/plain": [
       "(2, 13)"
      ]
     },
     "execution_count": 79,
     "metadata": {},
     "output_type": "execute_result"
    }
   ],
   "source": [
    "pi_bl_id = pinot_blanc['wine_id'].values\n",
    "pinot_blanc.shape"
   ]
  },
  {
   "cell_type": "code",
   "execution_count": 80,
   "id": "aa458c3f",
   "metadata": {},
   "outputs": [],
   "source": [
    "query_spa = '''SELECT wine_id, type, wine_name, country, IFNULL(varietal_name, 'Spätburgunder') AS varietal_name, IFNULL(style_id,0) AS style_id, body, acidity_1, acidity_2, fizziness, intensity, sweetness, tannin FROM to_clean\n",
    "WHERE wine_name LIKE '%%Spätburgunder%%';'''\n",
    "spa = pd.read_sql(query_spa,engine)"
   ]
  },
  {
   "cell_type": "code",
   "execution_count": 81,
   "id": "6d891d46",
   "metadata": {
    "scrolled": false
   },
   "outputs": [
    {
     "data": {
      "text/plain": [
       "(1, 13)"
      ]
     },
     "execution_count": 81,
     "metadata": {},
     "output_type": "execute_result"
    }
   ],
   "source": [
    "spa_id = spa['wine_id'].values\n",
    "spa.shape"
   ]
  },
  {
   "cell_type": "code",
   "execution_count": 82,
   "id": "4fe83f9e",
   "metadata": {},
   "outputs": [],
   "source": [
    "query_pinotage = '''SELECT wine_id, type, wine_name, country, IFNULL(varietal_name, 'Pinotage') AS varietal_name, IFNULL(style_id,0) AS style_id, body, acidity_1, acidity_2, fizziness, intensity, sweetness, tannin FROM to_clean\n",
    "WHERE wine_name LIKE '%%Pinotage%%';'''\n",
    "pinotage = pd.read_sql(query_pinotage,engine)"
   ]
  },
  {
   "cell_type": "code",
   "execution_count": 83,
   "id": "6f3e812d",
   "metadata": {
    "scrolled": false
   },
   "outputs": [
    {
     "data": {
      "text/plain": [
       "(1, 13)"
      ]
     },
     "execution_count": 83,
     "metadata": {},
     "output_type": "execute_result"
    }
   ],
   "source": [
    "pinotage_id = pinotage['wine_id'].values\n",
    "pinotage.shape"
   ]
  },
  {
   "cell_type": "code",
   "execution_count": 84,
   "id": "43095bf6",
   "metadata": {},
   "outputs": [],
   "source": [
    "query_blend_t = '''SELECT wine_id, type, wine_name, country, IFNULL(varietal_name, 'Blend tinto') AS varietal_name, IFNULL(style_id,0) AS style_id, body, acidity_1, acidity_2, fizziness, intensity, sweetness, tannin FROM to_clean\n",
    "WHERE wine_name LIKE '%%Blend tinto%%';'''\n",
    "blend_t = pd.read_sql(query_blend_t,engine)"
   ]
  },
  {
   "cell_type": "code",
   "execution_count": 85,
   "id": "762d2d9b",
   "metadata": {
    "scrolled": false
   },
   "outputs": [
    {
     "data": {
      "text/plain": [
       "(2, 13)"
      ]
     },
     "execution_count": 85,
     "metadata": {},
     "output_type": "execute_result"
    }
   ],
   "source": [
    "blend_t_id = blend_t['wine_id'].values\n",
    "blend_t.shape"
   ]
  },
  {
   "cell_type": "code",
   "execution_count": 86,
   "id": "2c7eb603",
   "metadata": {},
   "outputs": [],
   "source": [
    "query_sangio = '''SELECT wine_id, type, wine_name, country, IFNULL(varietal_name, 'Sangiovese') AS varietal_name, IFNULL(style_id,0) AS style_id, body, acidity_1, acidity_2, fizziness, intensity, sweetness, tannin FROM to_clean\n",
    "WHERE wine_name LIKE '%%Sangiovese%%';'''\n",
    "sangio = pd.read_sql(query_sangio,engine)"
   ]
  },
  {
   "cell_type": "code",
   "execution_count": 87,
   "id": "4c3401ba",
   "metadata": {
    "scrolled": false
   },
   "outputs": [
    {
     "data": {
      "text/plain": [
       "(5, 13)"
      ]
     },
     "execution_count": 87,
     "metadata": {},
     "output_type": "execute_result"
    }
   ],
   "source": [
    "sangio_id = sangio['wine_id'].values\n",
    "sangio.shape"
   ]
  },
  {
   "cell_type": "code",
   "execution_count": 88,
   "id": "3073c5a6",
   "metadata": {},
   "outputs": [],
   "source": [
    "query_syrah = '''SELECT wine_id, type, wine_name, country, IFNULL(varietal_name, 'Syrah') AS varietal_name, IFNULL(style_id,0) AS style_id, body, acidity_1, acidity_2, fizziness, intensity, sweetness, tannin FROM to_clean\n",
    "WHERE wine_name LIKE '%%Syrah%%';'''\n",
    "syrah = pd.read_sql(query_syrah,engine)"
   ]
  },
  {
   "cell_type": "code",
   "execution_count": 89,
   "id": "b38c59da",
   "metadata": {
    "scrolled": true
   },
   "outputs": [
    {
     "data": {
      "text/plain": [
       "(19, 13)"
      ]
     },
     "execution_count": 89,
     "metadata": {},
     "output_type": "execute_result"
    }
   ],
   "source": [
    "syrah = syrah[syrah['wine_id'].isin(mer_sy_id)==False]\n",
    "syrah_id = syrah['wine_id'].values\n",
    "syrah.shape"
   ]
  },
  {
   "cell_type": "code",
   "execution_count": 90,
   "id": "fbb1ee5b",
   "metadata": {},
   "outputs": [],
   "source": [
    "query_vio = '''SELECT wine_id, type, wine_name, country, IFNULL(varietal_name, 'Viognier') AS varietal_name, IFNULL(style_id,0) AS style_id, body, acidity_1, acidity_2, fizziness, intensity, sweetness, tannin FROM to_clean\n",
    "WHERE wine_name LIKE '%%Viognier%%';'''\n",
    "vio = pd.read_sql(query_vio,engine)"
   ]
  },
  {
   "cell_type": "code",
   "execution_count": 91,
   "id": "bed16bab",
   "metadata": {
    "scrolled": true
   },
   "outputs": [
    {
     "data": {
      "text/plain": [
       "(13, 13)"
      ]
     },
     "execution_count": 91,
     "metadata": {},
     "output_type": "execute_result"
    }
   ],
   "source": [
    "vio = vio[vio['wine_id'].isin(ch_vi_id)==False]\n",
    "vio_id = vio['wine_id'].values\n",
    "vio.shape"
   ]
  },
  {
   "cell_type": "code",
   "execution_count": 92,
   "id": "33b33c0f",
   "metadata": {},
   "outputs": [],
   "source": [
    "query_zin = '''SELECT wine_id, type, wine_name, country, IFNULL(varietal_name, 'Zinfandel') AS varietal_name, IFNULL(style_id,0) AS style_id, body, acidity_1, acidity_2, fizziness, intensity, sweetness, tannin FROM to_clean\n",
    "WHERE wine_name LIKE '%%Zinfandel%%';'''\n",
    "zin = pd.read_sql(query_zin,engine)"
   ]
  },
  {
   "cell_type": "code",
   "execution_count": 93,
   "id": "96da70ec",
   "metadata": {
    "scrolled": true
   },
   "outputs": [
    {
     "data": {
      "text/plain": [
       "(1, 13)"
      ]
     },
     "execution_count": 93,
     "metadata": {},
     "output_type": "execute_result"
    }
   ],
   "source": [
    "zin_id = zin['wine_id'].values\n",
    "zin.shape"
   ]
  },
  {
   "cell_type": "code",
   "execution_count": 94,
   "id": "404a0aec",
   "metadata": {},
   "outputs": [],
   "source": [
    "query_prim = '''SELECT wine_id, type, wine_name, country, IFNULL(varietal_name, 'Primitivo') AS varietal_name, IFNULL(style_id,0) AS style_id, body, acidity_1, acidity_2, fizziness, intensity, sweetness, tannin FROM to_clean\n",
    "WHERE wine_name LIKE '%%Primitivo%%';'''\n",
    "prim = pd.read_sql(query_prim,engine)"
   ]
  },
  {
   "cell_type": "code",
   "execution_count": 95,
   "id": "feb9610e",
   "metadata": {
    "scrolled": true
   },
   "outputs": [
    {
     "data": {
      "text/plain": [
       "(3, 13)"
      ]
     },
     "execution_count": 95,
     "metadata": {},
     "output_type": "execute_result"
    }
   ],
   "source": [
    "prim_id = prim['wine_id'].values\n",
    "prim.shape"
   ]
  },
  {
   "cell_type": "code",
   "execution_count": 96,
   "id": "1b18ad3f",
   "metadata": {},
   "outputs": [],
   "source": [
    "query_tor_ries = '''SELECT wine_id, type, wine_name, country, IFNULL(varietal_name, 'Torrontés - Riesling') AS varietal_name, IFNULL(style_id,0) AS style_id, body, acidity_1, acidity_2, fizziness, intensity, sweetness, tannin FROM to_clean\n",
    "WHERE wine_name LIKE '%%Torrontés - Riesling%%';'''\n",
    "tor_ries = pd.read_sql(query_tor_ries,engine)"
   ]
  },
  {
   "cell_type": "code",
   "execution_count": 97,
   "id": "74ca2101",
   "metadata": {
    "scrolled": true
   },
   "outputs": [
    {
     "data": {
      "text/plain": [
       "(2, 13)"
      ]
     },
     "execution_count": 97,
     "metadata": {},
     "output_type": "execute_result"
    }
   ],
   "source": [
    "tor_ries_id = tor_ries['wine_id'].values\n",
    "tor_ries.shape"
   ]
  },
  {
   "cell_type": "code",
   "execution_count": 98,
   "id": "ae519c7e",
   "metadata": {},
   "outputs": [],
   "source": [
    "query_riesling = '''SELECT wine_id, type, wine_name, country, IFNULL(varietal_name, 'Riesling') AS varietal_name, IFNULL(style_id,0) AS style_id, body, acidity_1, acidity_2, fizziness, intensity, sweetness, tannin FROM to_clean\n",
    "WHERE wine_name LIKE '%%Riesling%%';'''\n",
    "riesling = pd.read_sql(query_riesling,engine)"
   ]
  },
  {
   "cell_type": "code",
   "execution_count": 99,
   "id": "90e66dc8",
   "metadata": {
    "scrolled": false
   },
   "outputs": [
    {
     "data": {
      "text/plain": [
       "(11, 13)"
      ]
     },
     "execution_count": 99,
     "metadata": {},
     "output_type": "execute_result"
    }
   ],
   "source": [
    "riesling = riesling[riesling['wine_id'].isin(tor_ries_id)==False]\n",
    "riesling_id = riesling['wine_id'].values\n",
    "riesling.shape"
   ]
  },
  {
   "cell_type": "code",
   "execution_count": 100,
   "id": "e7ed3c23",
   "metadata": {},
   "outputs": [],
   "source": [
    "query_tempranillo = '''SELECT wine_id, type, wine_name, country, IFNULL(varietal_name, 'Tempranillo') AS varietal_name, IFNULL(style_id,0) AS style_id, body, acidity_1, acidity_2, fizziness, intensity, sweetness, tannin FROM to_clean\n",
    "WHERE wine_name LIKE '%%Tempranillo%%';'''\n",
    "tempranillo = pd.read_sql(query_tempranillo,engine)"
   ]
  },
  {
   "cell_type": "code",
   "execution_count": 101,
   "id": "5533212c",
   "metadata": {
    "scrolled": false
   },
   "outputs": [
    {
     "data": {
      "text/plain": [
       "(3, 13)"
      ]
     },
     "execution_count": 101,
     "metadata": {},
     "output_type": "execute_result"
    }
   ],
   "source": [
    "tempranillo_id = tempranillo['wine_id'].values\n",
    "tempranillo.shape"
   ]
  },
  {
   "cell_type": "code",
   "execution_count": 102,
   "id": "75d132e4",
   "metadata": {},
   "outputs": [
    {
     "name": "stdout",
     "output_type": "stream",
     "text": [
      "Albariño\n",
      "Tinto de Alentejo\n",
      "Amarone\n",
      "Barbaresco\n",
      "Barbera\n",
      "Barolo\n",
      "Tinto\n",
      "Bolgheri\n",
      "Bonarda\n",
      "Blend de Burdeos\n",
      "Blanco\n",
      "Brunello\n",
      "Cabernet Franc\n",
      "Cabernet - Malbec\n",
      "Cabernet Sauvignon\n",
      "Cabernet - Shiraz\n",
      "Cabernet - Syrah\n",
      "Carménère\n",
      "Chablis\n",
      "Chardonnay\n",
      "Chenin blanc\n",
      "Chianti\n",
      "Côte-Rotie\n",
      "Tinto de Dão\n",
      "Dornfelder\n",
      "Tinto de Douro\n",
      "Gavi\n",
      "Gewürztraminer\n",
      "Grenache.\n",
      "Cannonau\n",
      "Malbec\n",
      "Mencía\n",
      "Merlot\n",
      "Monastrell\n",
      "Montepulciano d'Abruzzo\n",
      "Tinto de Montsant\n",
      "Moscatel\n",
      "Müller Thurgau\n",
      "Nebbiolo\n",
      "Pedro Ximenez\n",
      "Petite Sirah\n",
      "Pinot Blanc\n",
      "Pinot Gris\n",
      "Grauburgunder\n",
      "Pinot gris\n",
      "Pinot noir\n",
      "Spätburgunder\n",
      "Blend de Pinotage\n",
      "Pinotage\n",
      "Tinto de Priorat\n",
      "Blend tinto\n",
      "Blend del Ródano\n",
      "Tinto de Ribera del Duero\n",
      "Riesling\n",
      "Tinto de Rioja\n",
      "Blanco de Rioja\n",
      "Ripasso\n",
      "Sangiovese\n",
      "Sauvignon blanc\n",
      "Jerez\n",
      "Soave\n",
      "Vino espumoso\n",
      "Syrah\n",
      "Shiraz\n",
      "Syrah - Viognier\n",
      "Tinto de Toro\n",
      "Tinto de Valpolicella\n",
      "Verdejo\n",
      "Blanco vinho verde\n",
      "Vino Nobile di Montepulciano\n",
      "Viognier\n",
      "Blend blanco\n",
      "Zinfandel\n",
      "Primitivo\n",
      "Silvaner\n",
      "Tinto de Graves\n",
      "Pessac-Léognan\n",
      "Médoc\n",
      "Margaux\n",
      "Pauillac\n",
      "Saint-Julien\n",
      "Saint-Émilion\n",
      "Pomerol\n",
      "Tinto de Libourne\n",
      "Vin Jaune\n",
      "Chasselas\n",
      "Torrontés\n",
      "Muscadet\n",
      "Saint-Estèphe\n",
      "Tinto de Côte de Nuits\n",
      "Tinto de Côte de Beaune\n",
      "Blanco de Côte de Beaune\n",
      "Tinto de Côte Chalonnaise\n",
      "Blanco de Côte Chalonnaise\n",
      "Blanco de Macônnais\n",
      "Condrieu\n",
      "Cornas\n",
      "Crozes-Hermitage\n",
      "Hermitage\n",
      "Saint-Joseph\n",
      "Saint-Péray\n",
      "Tinto de Châteauneuf-du-Pape\n",
      "Tempranillo\n"
     ]
    }
   ],
   "source": [
    "for i in range(len(varietal_names)):\n",
    "    print(varietal_names[i])"
   ]
  },
  {
   "cell_type": "code",
   "execution_count": 103,
   "id": "4950c6cd",
   "metadata": {},
   "outputs": [
    {
     "data": {
      "text/plain": [
       "1671"
      ]
     },
     "execution_count": 103,
     "metadata": {},
     "output_type": "execute_result"
    }
   ],
   "source": [
    "values_3 = [barbera_id,ch_vi_id,chenin_id,geu_id,mal_sy_id,malbec_id,mencia_id,mer_sy_id,merlot_id,nebiolo_id,pe_si_id,pi_bl_id,spa_id,pinotage_id,tempranillo_id,riesling_id,tor_ries_id,prim_id,zin_id,vio_id,syrah_id,sangio_id,blend_t_id]\n",
    "to_clean_2 = ids_clean(to_clean_2,values_3)\n",
    "to_clean_2.to_sql('to_clean', con = engine, if_exists = 'replace', index = False )"
   ]
  },
  {
   "cell_type": "code",
   "execution_count": null,
   "id": "6665e678",
   "metadata": {},
   "outputs": [],
   "source": []
  },
  {
   "cell_type": "code",
   "execution_count": 104,
   "id": "b18f88d9",
   "metadata": {},
   "outputs": [],
   "source": [
    "query_blanco = '''SELECT wine_id, type, wine_name, country, IFNULL(varietal_name, 'Blanco') AS varietal_name, IFNULL(style_id,0) AS style_id, body, acidity_1, acidity_2, fizziness, intensity, sweetness, tannin FROM to_clean\n",
    "WHERE (wine_name LIKE '%%Blanco%%') OR (wine_name LIKE '%%Blanc%%') OR (wine_name LIKE '%%White%%')'''\n",
    "blanco = pd.read_sql(query_blanco,engine)"
   ]
  },
  {
   "cell_type": "code",
   "execution_count": 105,
   "id": "6c3ce2b1",
   "metadata": {
    "scrolled": false
   },
   "outputs": [
    {
     "data": {
      "text/plain": [
       "(502, 13)"
      ]
     },
     "execution_count": 105,
     "metadata": {},
     "output_type": "execute_result"
    }
   ],
   "source": [
    "blanco_id = blanco['wine_id'].values\n",
    "blanco.shape"
   ]
  },
  {
   "cell_type": "code",
   "execution_count": 106,
   "id": "a1b9cb45",
   "metadata": {},
   "outputs": [
    {
     "data": {
      "text/plain": [
       "1169"
      ]
     },
     "execution_count": 106,
     "metadata": {},
     "output_type": "execute_result"
    }
   ],
   "source": [
    "values_4 = [blanco_id]\n",
    "to_clean_2 = ids_clean(to_clean_2,values_4)\n",
    "to_clean_2.to_sql('to_clean_2', con = engine, if_exists = 'replace', index = False )"
   ]
  },
  {
   "cell_type": "code",
   "execution_count": null,
   "id": "b6b904dc",
   "metadata": {},
   "outputs": [],
   "source": []
  },
  {
   "cell_type": "code",
   "execution_count": 107,
   "id": "4bbb6c1b",
   "metadata": {},
   "outputs": [],
   "source": [
    "query_tinto = '''SELECT wine_id, type, wine_name, country, IFNULL(varietal_name, 'Tinto') AS varietal_name, IFNULL(style_id,0) AS style_id, body, acidity_1, acidity_2, fizziness, intensity, sweetness, tannin FROM to_clean\n",
    "WHERE (wine_name LIKE '%%Tinto%%') OR (wine_name LIKE '%%Red%%') OR (wine_name LIKE '%%Rouge%%')'''\n",
    "tinto = pd.read_sql(query_tinto,engine)"
   ]
  },
  {
   "cell_type": "code",
   "execution_count": 108,
   "id": "22f50946",
   "metadata": {
    "scrolled": false
   },
   "outputs": [
    {
     "data": {
      "text/plain": [
       "(152, 13)"
      ]
     },
     "execution_count": 108,
     "metadata": {},
     "output_type": "execute_result"
    }
   ],
   "source": [
    "tinto_id = tinto['wine_id'].values\n",
    "tinto.shape"
   ]
  },
  {
   "cell_type": "code",
   "execution_count": 109,
   "id": "1ff1705e",
   "metadata": {},
   "outputs": [
    {
     "data": {
      "text/plain": [
       "1020"
      ]
     },
     "execution_count": 109,
     "metadata": {},
     "output_type": "execute_result"
    }
   ],
   "source": [
    "values_5 = [tinto_id]\n",
    "to_clean_2 = ids_clean(to_clean_2,values_5)\n",
    "to_clean_2.to_sql('to_clean_2', con = engine, if_exists = 'replace', index = False )"
   ]
  },
  {
   "cell_type": "code",
   "execution_count": null,
   "id": "1f79122b",
   "metadata": {},
   "outputs": [],
   "source": []
  },
  {
   "cell_type": "code",
   "execution_count": 110,
   "id": "e2e00c3b",
   "metadata": {},
   "outputs": [],
   "source": [
    "query_tinto_2 = '''SELECT wine_id, type, wine_name, country, IFNULL(varietal_name, 'Tinto') AS varietal_name, IFNULL(style_id,0) AS style_id, body, acidity_1, acidity_2, fizziness, intensity, sweetness, tannin FROM to_clean\n",
    "WHERE type = 1'''\n",
    "tinto_2 = pd.read_sql(query_tinto_2,engine)"
   ]
  },
  {
   "cell_type": "code",
   "execution_count": 111,
   "id": "45073602",
   "metadata": {
    "scrolled": false
   },
   "outputs": [
    {
     "data": {
      "text/plain": [
       "(551, 13)"
      ]
     },
     "execution_count": 111,
     "metadata": {},
     "output_type": "execute_result"
    }
   ],
   "source": [
    "tinto_2_id = tinto_2['wine_id'].values\n",
    "tinto_2.shape"
   ]
  },
  {
   "cell_type": "code",
   "execution_count": 112,
   "id": "ec70eaa0",
   "metadata": {},
   "outputs": [],
   "source": [
    "query_blanco_2 = '''SELECT wine_id, type, wine_name, country, IFNULL(varietal_name, 'Blanco') AS varietal_name, IFNULL(style_id,0) AS style_id, body, acidity_1, acidity_2, fizziness, intensity, sweetness, tannin FROM to_clean\n",
    "WHERE type = 2'''\n",
    "blanco_2 = pd.read_sql(query_blanco_2,engine)"
   ]
  },
  {
   "cell_type": "code",
   "execution_count": 113,
   "id": "3a0236b3",
   "metadata": {
    "scrolled": false
   },
   "outputs": [
    {
     "data": {
      "text/plain": [
       "(1120, 13)"
      ]
     },
     "execution_count": 113,
     "metadata": {},
     "output_type": "execute_result"
    }
   ],
   "source": [
    "blanco_2_id = blanco_2['wine_id'].values\n",
    "blanco_2.shape"
   ]
  },
  {
   "cell_type": "code",
   "execution_count": 114,
   "id": "e49fac13",
   "metadata": {},
   "outputs": [
    {
     "data": {
      "text/plain": [
       "0"
      ]
     },
     "execution_count": 114,
     "metadata": {},
     "output_type": "execute_result"
    }
   ],
   "source": [
    "values_6 = [tinto_2_id,blanco_2_id]\n",
    "to_clean_2 = ids_clean(to_clean_2,values_6)\n",
    "to_clean_2.to_sql('to_clean', con = engine, if_exists = 'replace', index = False )"
   ]
  },
  {
   "cell_type": "code",
   "execution_count": null,
   "id": "b0ebdcbc",
   "metadata": {},
   "outputs": [],
   "source": []
  },
  {
   "cell_type": "markdown",
   "id": "6a7c27c1",
   "metadata": {},
   "source": [
    "## Get together all the cleaned data"
   ]
  },
  {
   "cell_type": "code",
   "execution_count": 115,
   "id": "9848088b",
   "metadata": {},
   "outputs": [
    {
     "data": {
      "text/plain": [
       "(2834, 13)"
      ]
     },
     "execution_count": 115,
     "metadata": {},
     "output_type": "execute_result"
    }
   ],
   "source": [
    "cleaned_varietal_names = pd.concat([godello,garnacha,moscatel_ch,moscatel,treixadura,muscat_sav,muscat,sauv,albariño,cabernet_f,cabernet_s,cabernet_sh,chardonnay_pn,pinot_noir,chardonnay,ribeiro,verdelho,barbera,ch_vi,chenin,geu,mal_sy,malbec,mencia,mer_sy,merlot,nebiolo,pe_si,pinot_blanc,spa,pinotage,blend_t,sangio,syrah,vio,zin,prim,tor_ries,riesling,tempranillo,blanco,tinto,blanco_2,tinto_2],axis=0)\n",
    "cleaned_varietal_names.shape"
   ]
  },
  {
   "cell_type": "code",
   "execution_count": 116,
   "id": "a35e1edf",
   "metadata": {},
   "outputs": [],
   "source": [
    "ready = df[df['style_id']!=0]"
   ]
  },
  {
   "cell_type": "code",
   "execution_count": 117,
   "id": "3bea3157",
   "metadata": {},
   "outputs": [],
   "source": [
    "new_df = pd.concat([ready,cleaned_varietal_names],axis=0)"
   ]
  },
  {
   "cell_type": "code",
   "execution_count": 118,
   "id": "6764f674",
   "metadata": {},
   "outputs": [
    {
     "name": "stdout",
     "output_type": "stream",
     "text": [
      "(20467, 13)\n",
      "(21126, 13)\n"
     ]
    }
   ],
   "source": [
    "print(df.shape)\n",
    "print(new_df.shape)"
   ]
  },
  {
   "cell_type": "markdown",
   "id": "0ca572a9",
   "metadata": {},
   "source": [
    "## Check duplicates that I created"
   ]
  },
  {
   "cell_type": "code",
   "execution_count": 119,
   "id": "7f0d8d78",
   "metadata": {},
   "outputs": [
    {
     "data": {
      "text/plain": [
       "659"
      ]
     },
     "execution_count": 119,
     "metadata": {},
     "output_type": "execute_result"
    }
   ],
   "source": [
    "new_df.duplicated(subset=['wine_id']).sum()"
   ]
  },
  {
   "cell_type": "code",
   "execution_count": 120,
   "id": "d2699b0f",
   "metadata": {},
   "outputs": [],
   "source": [
    "duplicated_id = new_df[new_df['wine_id'].duplicated()==True]['wine_id'].values"
   ]
  },
  {
   "cell_type": "code",
   "execution_count": 121,
   "id": "8a2c2347",
   "metadata": {},
   "outputs": [
    {
     "data": {
      "text/html": [
       "<div>\n",
       "<style scoped>\n",
       "    .dataframe tbody tr th:only-of-type {\n",
       "        vertical-align: middle;\n",
       "    }\n",
       "\n",
       "    .dataframe tbody tr th {\n",
       "        vertical-align: top;\n",
       "    }\n",
       "\n",
       "    .dataframe thead th {\n",
       "        text-align: right;\n",
       "    }\n",
       "</style>\n",
       "<table border=\"1\" class=\"dataframe\">\n",
       "  <thead>\n",
       "    <tr style=\"text-align: right;\">\n",
       "      <th></th>\n",
       "      <th>wine_id</th>\n",
       "      <th>type</th>\n",
       "      <th>wine_name</th>\n",
       "      <th>country</th>\n",
       "      <th>varietal_name</th>\n",
       "      <th>style_id</th>\n",
       "      <th>body</th>\n",
       "      <th>acidity_1</th>\n",
       "      <th>acidity_2</th>\n",
       "      <th>fizziness</th>\n",
       "      <th>intensity</th>\n",
       "      <th>sweetness</th>\n",
       "      <th>tannin</th>\n",
       "    </tr>\n",
       "  </thead>\n",
       "  <tbody>\n",
       "    <tr>\n",
       "      <th>264</th>\n",
       "      <td>1295802</td>\n",
       "      <td>1</td>\n",
       "      <td>Bucaco Tinto Reservado</td>\n",
       "      <td>portugal</td>\n",
       "      <td>Tinto</td>\n",
       "      <td>0</td>\n",
       "      <td>None</td>\n",
       "      <td>None</td>\n",
       "      <td>None</td>\n",
       "      <td>None</td>\n",
       "      <td>None</td>\n",
       "      <td>None</td>\n",
       "      <td>None</td>\n",
       "    </tr>\n",
       "    <tr>\n",
       "      <th>79</th>\n",
       "      <td>1295802</td>\n",
       "      <td>1</td>\n",
       "      <td>Bucaco Tinto Reservado</td>\n",
       "      <td>portugal</td>\n",
       "      <td>Tinto</td>\n",
       "      <td>0</td>\n",
       "      <td>None</td>\n",
       "      <td>None</td>\n",
       "      <td>None</td>\n",
       "      <td>None</td>\n",
       "      <td>None</td>\n",
       "      <td>None</td>\n",
       "      <td>None</td>\n",
       "    </tr>\n",
       "    <tr>\n",
       "      <th>234</th>\n",
       "      <td>1322646</td>\n",
       "      <td>1</td>\n",
       "      <td>Clos Rougeard Les Poyeux Saumur Champigny</td>\n",
       "      <td>france</td>\n",
       "      <td>Tinto</td>\n",
       "      <td>0</td>\n",
       "      <td>None</td>\n",
       "      <td>None</td>\n",
       "      <td>None</td>\n",
       "      <td>None</td>\n",
       "      <td>None</td>\n",
       "      <td>None</td>\n",
       "      <td>None</td>\n",
       "    </tr>\n",
       "    <tr>\n",
       "      <th>71</th>\n",
       "      <td>1322646</td>\n",
       "      <td>1</td>\n",
       "      <td>Clos Rougeard Les Poyeux Saumur Champigny</td>\n",
       "      <td>france</td>\n",
       "      <td>Tinto</td>\n",
       "      <td>0</td>\n",
       "      <td>None</td>\n",
       "      <td>None</td>\n",
       "      <td>None</td>\n",
       "      <td>None</td>\n",
       "      <td>None</td>\n",
       "      <td>None</td>\n",
       "      <td>None</td>\n",
       "    </tr>\n",
       "    <tr>\n",
       "      <th>126</th>\n",
       "      <td>1399141</td>\n",
       "      <td>1</td>\n",
       "      <td>Bucaco Tinto Reservado</td>\n",
       "      <td>portugal</td>\n",
       "      <td>Tinto</td>\n",
       "      <td>0</td>\n",
       "      <td>None</td>\n",
       "      <td>None</td>\n",
       "      <td>None</td>\n",
       "      <td>None</td>\n",
       "      <td>None</td>\n",
       "      <td>None</td>\n",
       "      <td>None</td>\n",
       "    </tr>\n",
       "    <tr>\n",
       "      <th>...</th>\n",
       "      <td>...</td>\n",
       "      <td>...</td>\n",
       "      <td>...</td>\n",
       "      <td>...</td>\n",
       "      <td>...</td>\n",
       "      <td>...</td>\n",
       "      <td>...</td>\n",
       "      <td>...</td>\n",
       "      <td>...</td>\n",
       "      <td>...</td>\n",
       "      <td>...</td>\n",
       "      <td>...</td>\n",
       "      <td>...</td>\n",
       "    </tr>\n",
       "    <tr>\n",
       "      <th>162</th>\n",
       "      <td>172025160</td>\n",
       "      <td>2</td>\n",
       "      <td>Clos Figueras Font de la Figuera Priorat Blanco</td>\n",
       "      <td>spain</td>\n",
       "      <td>Blanco</td>\n",
       "      <td>0</td>\n",
       "      <td>None</td>\n",
       "      <td>None</td>\n",
       "      <td>None</td>\n",
       "      <td>None</td>\n",
       "      <td>None</td>\n",
       "      <td>None</td>\n",
       "      <td>None</td>\n",
       "    </tr>\n",
       "    <tr>\n",
       "      <th>82</th>\n",
       "      <td>172098560</td>\n",
       "      <td>2</td>\n",
       "      <td>Serra i Barceló Aucalà Blanc</td>\n",
       "      <td>spain</td>\n",
       "      <td>Blanco</td>\n",
       "      <td>0</td>\n",
       "      <td>None</td>\n",
       "      <td>None</td>\n",
       "      <td>None</td>\n",
       "      <td>None</td>\n",
       "      <td>None</td>\n",
       "      <td>None</td>\n",
       "      <td>None</td>\n",
       "    </tr>\n",
       "    <tr>\n",
       "      <th>170</th>\n",
       "      <td>172098560</td>\n",
       "      <td>2</td>\n",
       "      <td>Serra i Barceló Aucalà Blanc</td>\n",
       "      <td>spain</td>\n",
       "      <td>Blanco</td>\n",
       "      <td>0</td>\n",
       "      <td>None</td>\n",
       "      <td>None</td>\n",
       "      <td>None</td>\n",
       "      <td>None</td>\n",
       "      <td>None</td>\n",
       "      <td>None</td>\n",
       "      <td>None</td>\n",
       "    </tr>\n",
       "    <tr>\n",
       "      <th>329</th>\n",
       "      <td>172210226</td>\n",
       "      <td>2</td>\n",
       "      <td>Telmo Rodriguez O Barreiro Gaba do Xil Blanco</td>\n",
       "      <td>spain</td>\n",
       "      <td>Blanco</td>\n",
       "      <td>0</td>\n",
       "      <td>None</td>\n",
       "      <td>None</td>\n",
       "      <td>None</td>\n",
       "      <td>None</td>\n",
       "      <td>None</td>\n",
       "      <td>None</td>\n",
       "      <td>None</td>\n",
       "    </tr>\n",
       "    <tr>\n",
       "      <th>745</th>\n",
       "      <td>172210226</td>\n",
       "      <td>2</td>\n",
       "      <td>Telmo Rodriguez O Barreiro Gaba do Xil Blanco</td>\n",
       "      <td>spain</td>\n",
       "      <td>Blanco</td>\n",
       "      <td>0</td>\n",
       "      <td>None</td>\n",
       "      <td>None</td>\n",
       "      <td>None</td>\n",
       "      <td>None</td>\n",
       "      <td>None</td>\n",
       "      <td>None</td>\n",
       "      <td>None</td>\n",
       "    </tr>\n",
       "  </tbody>\n",
       "</table>\n",
       "<p>1315 rows × 13 columns</p>\n",
       "</div>"
      ],
      "text/plain": [
       "       wine_id  type                                         wine_name  \\\n",
       "264    1295802     1                           Bucaco Tinto Reservado    \n",
       "79     1295802     1                           Bucaco Tinto Reservado    \n",
       "234    1322646     1        Clos Rougeard Les Poyeux Saumur Champigny    \n",
       "71     1322646     1        Clos Rougeard Les Poyeux Saumur Champigny    \n",
       "126    1399141     1                           Bucaco Tinto Reservado    \n",
       "..         ...   ...                                               ...   \n",
       "162  172025160     2  Clos Figueras Font de la Figuera Priorat Blanco    \n",
       "82   172098560     2                     Serra i Barceló Aucalà Blanc    \n",
       "170  172098560     2                     Serra i Barceló Aucalà Blanc    \n",
       "329  172210226     2    Telmo Rodriguez O Barreiro Gaba do Xil Blanco    \n",
       "745  172210226     2    Telmo Rodriguez O Barreiro Gaba do Xil Blanco    \n",
       "\n",
       "      country varietal_name  style_id  body acidity_1 acidity_2 fizziness  \\\n",
       "264  portugal         Tinto         0  None      None      None      None   \n",
       "79   portugal         Tinto         0  None      None      None      None   \n",
       "234    france         Tinto         0  None      None      None      None   \n",
       "71     france         Tinto         0  None      None      None      None   \n",
       "126  portugal         Tinto         0  None      None      None      None   \n",
       "..        ...           ...       ...   ...       ...       ...       ...   \n",
       "162     spain        Blanco         0  None      None      None      None   \n",
       "82      spain        Blanco         0  None      None      None      None   \n",
       "170     spain        Blanco         0  None      None      None      None   \n",
       "329     spain        Blanco         0  None      None      None      None   \n",
       "745     spain        Blanco         0  None      None      None      None   \n",
       "\n",
       "    intensity sweetness tannin  \n",
       "264      None      None   None  \n",
       "79       None      None   None  \n",
       "234      None      None   None  \n",
       "71       None      None   None  \n",
       "126      None      None   None  \n",
       "..        ...       ...    ...  \n",
       "162      None      None   None  \n",
       "82       None      None   None  \n",
       "170      None      None   None  \n",
       "329      None      None   None  \n",
       "745      None      None   None  \n",
       "\n",
       "[1315 rows x 13 columns]"
      ]
     },
     "execution_count": 121,
     "metadata": {},
     "output_type": "execute_result"
    }
   ],
   "source": [
    "new_df[new_df['wine_id'].isin(duplicated_id)].sort_values(by='wine_id')"
   ]
  },
  {
   "cell_type": "code",
   "execution_count": 122,
   "id": "3d437217",
   "metadata": {},
   "outputs": [
    {
     "data": {
      "text/plain": [
       "(21126, 13)"
      ]
     },
     "execution_count": 122,
     "metadata": {},
     "output_type": "execute_result"
    }
   ],
   "source": [
    "new_df.shape"
   ]
  },
  {
   "cell_type": "code",
   "execution_count": 123,
   "id": "2c1c5fef",
   "metadata": {},
   "outputs": [
    {
     "data": {
      "text/plain": [
       "158"
      ]
     },
     "execution_count": 123,
     "metadata": {},
     "output_type": "execute_result"
    }
   ],
   "source": [
    "len(new_df[new_df['varietal_name'] == 'Grenache.'])"
   ]
  },
  {
   "cell_type": "code",
   "execution_count": 124,
   "id": "16fc10d1",
   "metadata": {},
   "outputs": [
    {
     "data": {
      "text/plain": [
       "20"
      ]
     },
     "execution_count": 124,
     "metadata": {},
     "output_type": "execute_result"
    }
   ],
   "source": [
    "len(new_df[new_df['varietal_name'] == 'Moscatel'])"
   ]
  },
  {
   "cell_type": "code",
   "execution_count": 125,
   "id": "ed309ba4",
   "metadata": {},
   "outputs": [
    {
     "data": {
      "text/plain": [
       "33"
      ]
     },
     "execution_count": 125,
     "metadata": {},
     "output_type": "execute_result"
    }
   ],
   "source": [
    "len(new_df[new_df['varietal_name'] == 'Sauvignon Blanc'])"
   ]
  },
  {
   "cell_type": "code",
   "execution_count": 126,
   "id": "3c486036",
   "metadata": {},
   "outputs": [
    {
     "data": {
      "text/plain": [
       "975"
      ]
     },
     "execution_count": 126,
     "metadata": {},
     "output_type": "execute_result"
    }
   ],
   "source": [
    "len(new_df[new_df['varietal_name'] == 'Riesling'])"
   ]
  },
  {
   "cell_type": "code",
   "execution_count": 127,
   "id": "1ae8d1ff",
   "metadata": {},
   "outputs": [
    {
     "data": {
      "text/plain": [
       "117"
      ]
     },
     "execution_count": 127,
     "metadata": {},
     "output_type": "execute_result"
    }
   ],
   "source": [
    "len(new_df[new_df['varietal_name'] == 'Gewürztraminer'])"
   ]
  },
  {
   "cell_type": "code",
   "execution_count": 128,
   "id": "e9bff3cb",
   "metadata": {},
   "outputs": [
    {
     "data": {
      "text/plain": [
       "(21121, 13)"
      ]
     },
     "execution_count": 128,
     "metadata": {},
     "output_type": "execute_result"
    }
   ],
   "source": [
    "new_df2 = new_df[~((new_df['wine_id'] == 156769689) & (new_df['varietal_name'] == 'Syrah'))]\n",
    "new_df2 = new_df2[~((new_df2['wine_id'] == 163986916) & (new_df2['varietal_name'] == 'Syrah'))]\n",
    "new_df2 = new_df2[~((new_df2['wine_id'] == 167545383) & (new_df2['varietal_name'] == 'Moscatel'))]\n",
    "new_df2 = new_df2[~((new_df2['wine_id'] == 167919003) & (new_df2['varietal_name'] == 'Gewürztraminer'))]\n",
    "new_df2 = new_df2[~((new_df2['wine_id'] == 171437200) & (new_df2['varietal_name'] == 'Sauvignon Blanc'))]\n",
    "new_df2.shape"
   ]
  },
  {
   "cell_type": "code",
   "execution_count": 129,
   "id": "9849b24d",
   "metadata": {},
   "outputs": [
    {
     "name": "stdout",
     "output_type": "stream",
     "text": [
      "(20467, 13)\n",
      "(21121, 13)\n"
     ]
    }
   ],
   "source": [
    "print(df.shape)\n",
    "print(new_df2.shape)"
   ]
  },
  {
   "cell_type": "code",
   "execution_count": 130,
   "id": "09d71a49",
   "metadata": {},
   "outputs": [
    {
     "data": {
      "text/plain": [
       "21121"
      ]
     },
     "execution_count": 130,
     "metadata": {},
     "output_type": "execute_result"
    }
   ],
   "source": [
    "new_df2.to_csv('to_clean.csv',index = False)\n",
    "new_df2.to_sql('to_clean', con = engine, if_exists = 'replace', index = False )"
   ]
  },
  {
   "cell_type": "code",
   "execution_count": null,
   "id": "46072c25",
   "metadata": {},
   "outputs": [],
   "source": []
  }
 ],
 "metadata": {
  "kernelspec": {
   "display_name": "Python 3 (ipykernel)",
   "language": "python",
   "name": "python3"
  },
  "language_info": {
   "codemirror_mode": {
    "name": "ipython",
    "version": 3
   },
   "file_extension": ".py",
   "mimetype": "text/x-python",
   "name": "python",
   "nbconvert_exporter": "python",
   "pygments_lexer": "ipython3",
   "version": "3.9.12"
  }
 },
 "nbformat": 4,
 "nbformat_minor": 5
}
