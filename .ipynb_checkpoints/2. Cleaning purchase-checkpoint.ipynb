{
 "cells": [
  {
   "cell_type": "markdown",
   "id": "b04d2642",
   "metadata": {},
   "source": [
    "## Import libraries and dataframe"
   ]
  },
  {
   "cell_type": "code",
   "execution_count": 1,
   "id": "afbe5a58",
   "metadata": {},
   "outputs": [],
   "source": [
    "import pandas as pd"
   ]
  },
  {
   "cell_type": "code",
   "execution_count": 2,
   "id": "99fc6a5a",
   "metadata": {},
   "outputs": [
    {
     "data": {
      "text/plain": [
       "(35935, 7)"
      ]
     },
     "execution_count": 2,
     "metadata": {},
     "output_type": "execute_result"
    }
   ],
   "source": [
    "df = pd.read_csv('scraping_purchase.csv')\n",
    "df.shape"
   ]
  },
  {
   "cell_type": "code",
   "execution_count": 3,
   "id": "122716d2",
   "metadata": {},
   "outputs": [
    {
     "data": {
      "text/html": [
       "<div>\n",
       "<style scoped>\n",
       "    .dataframe tbody tr th:only-of-type {\n",
       "        vertical-align: middle;\n",
       "    }\n",
       "\n",
       "    .dataframe tbody tr th {\n",
       "        vertical-align: top;\n",
       "    }\n",
       "\n",
       "    .dataframe thead th {\n",
       "        text-align: right;\n",
       "    }\n",
       "</style>\n",
       "<table border=\"1\" class=\"dataframe\">\n",
       "  <thead>\n",
       "    <tr style=\"text-align: right;\">\n",
       "      <th></th>\n",
       "      <th>Unnamed: 0</th>\n",
       "      <th>wine_id</th>\n",
       "      <th>price</th>\n",
       "      <th>currency</th>\n",
       "      <th>bottle_type_id</th>\n",
       "      <th>bottle_type</th>\n",
       "      <th>vol_ml</th>\n",
       "    </tr>\n",
       "  </thead>\n",
       "  <tbody>\n",
       "    <tr>\n",
       "      <th>0</th>\n",
       "      <td>0</td>\n",
       "      <td>1420799</td>\n",
       "      <td>487.000000</td>\n",
       "      <td>EUR</td>\n",
       "      <td>1</td>\n",
       "      <td>botella</td>\n",
       "      <td>750</td>\n",
       "    </tr>\n",
       "    <tr>\n",
       "      <th>1</th>\n",
       "      <td>1</td>\n",
       "      <td>1199830</td>\n",
       "      <td>692.960000</td>\n",
       "      <td>EUR</td>\n",
       "      <td>1</td>\n",
       "      <td>botella</td>\n",
       "      <td>750</td>\n",
       "    </tr>\n",
       "    <tr>\n",
       "      <th>2</th>\n",
       "      <td>2</td>\n",
       "      <td>1494622</td>\n",
       "      <td>381.150000</td>\n",
       "      <td>EUR</td>\n",
       "      <td>1</td>\n",
       "      <td>botella</td>\n",
       "      <td>750</td>\n",
       "    </tr>\n",
       "    <tr>\n",
       "      <th>3</th>\n",
       "      <td>3</td>\n",
       "      <td>1229417</td>\n",
       "      <td>778.060000</td>\n",
       "      <td>EUR</td>\n",
       "      <td>1</td>\n",
       "      <td>botella</td>\n",
       "      <td>750</td>\n",
       "    </tr>\n",
       "    <tr>\n",
       "      <th>4</th>\n",
       "      <td>4</td>\n",
       "      <td>87412043</td>\n",
       "      <td>514.850000</td>\n",
       "      <td>EUR</td>\n",
       "      <td>1</td>\n",
       "      <td>botella</td>\n",
       "      <td>750</td>\n",
       "    </tr>\n",
       "    <tr>\n",
       "      <th>...</th>\n",
       "      <td>...</td>\n",
       "      <td>...</td>\n",
       "      <td>...</td>\n",
       "      <td>...</td>\n",
       "      <td>...</td>\n",
       "      <td>...</td>\n",
       "      <td>...</td>\n",
       "    </tr>\n",
       "    <tr>\n",
       "      <th>35930</th>\n",
       "      <td>14</td>\n",
       "      <td>164784307</td>\n",
       "      <td>20.390723</td>\n",
       "      <td>EUR</td>\n",
       "      <td>1</td>\n",
       "      <td>botella</td>\n",
       "      <td>750</td>\n",
       "    </tr>\n",
       "    <tr>\n",
       "      <th>35931</th>\n",
       "      <td>0</td>\n",
       "      <td>14979215</td>\n",
       "      <td>21.000000</td>\n",
       "      <td>EUR</td>\n",
       "      <td>1</td>\n",
       "      <td>botella</td>\n",
       "      <td>750</td>\n",
       "    </tr>\n",
       "    <tr>\n",
       "      <th>35932</th>\n",
       "      <td>1</td>\n",
       "      <td>169911041</td>\n",
       "      <td>14.010000</td>\n",
       "      <td>EUR</td>\n",
       "      <td>1</td>\n",
       "      <td>botella</td>\n",
       "      <td>750</td>\n",
       "    </tr>\n",
       "    <tr>\n",
       "      <th>35933</th>\n",
       "      <td>0</td>\n",
       "      <td>14979215</td>\n",
       "      <td>21.000000</td>\n",
       "      <td>EUR</td>\n",
       "      <td>1</td>\n",
       "      <td>botella</td>\n",
       "      <td>750</td>\n",
       "    </tr>\n",
       "    <tr>\n",
       "      <th>35934</th>\n",
       "      <td>1</td>\n",
       "      <td>169911041</td>\n",
       "      <td>14.010000</td>\n",
       "      <td>EUR</td>\n",
       "      <td>1</td>\n",
       "      <td>botella</td>\n",
       "      <td>750</td>\n",
       "    </tr>\n",
       "  </tbody>\n",
       "</table>\n",
       "<p>35935 rows × 7 columns</p>\n",
       "</div>"
      ],
      "text/plain": [
       "       Unnamed: 0    wine_id       price currency  bottle_type_id bottle_type  \\\n",
       "0               0    1420799  487.000000      EUR               1     botella   \n",
       "1               1    1199830  692.960000      EUR               1     botella   \n",
       "2               2    1494622  381.150000      EUR               1     botella   \n",
       "3               3    1229417  778.060000      EUR               1     botella   \n",
       "4               4   87412043  514.850000      EUR               1     botella   \n",
       "...           ...        ...         ...      ...             ...         ...   \n",
       "35930          14  164784307   20.390723      EUR               1     botella   \n",
       "35931           0   14979215   21.000000      EUR               1     botella   \n",
       "35932           1  169911041   14.010000      EUR               1     botella   \n",
       "35933           0   14979215   21.000000      EUR               1     botella   \n",
       "35934           1  169911041   14.010000      EUR               1     botella   \n",
       "\n",
       "       vol_ml  \n",
       "0         750  \n",
       "1         750  \n",
       "2         750  \n",
       "3         750  \n",
       "4         750  \n",
       "...       ...  \n",
       "35930     750  \n",
       "35931     750  \n",
       "35932     750  \n",
       "35933     750  \n",
       "35934     750  \n",
       "\n",
       "[35935 rows x 7 columns]"
      ]
     },
     "execution_count": 3,
     "metadata": {},
     "output_type": "execute_result"
    }
   ],
   "source": [
    "df"
   ]
  },
  {
   "cell_type": "markdown",
   "id": "a6772b51",
   "metadata": {},
   "source": [
    "## Drop unnamed column"
   ]
  },
  {
   "cell_type": "code",
   "execution_count": 4,
   "id": "551e986f",
   "metadata": {},
   "outputs": [],
   "source": [
    "def drop(df):\n",
    "    df = df.drop(['Unnamed: 0'],axis=1)\n",
    "    return df"
   ]
  },
  {
   "cell_type": "code",
   "execution_count": 5,
   "id": "97dba657",
   "metadata": {},
   "outputs": [
    {
     "data": {
      "text/html": [
       "<div>\n",
       "<style scoped>\n",
       "    .dataframe tbody tr th:only-of-type {\n",
       "        vertical-align: middle;\n",
       "    }\n",
       "\n",
       "    .dataframe tbody tr th {\n",
       "        vertical-align: top;\n",
       "    }\n",
       "\n",
       "    .dataframe thead th {\n",
       "        text-align: right;\n",
       "    }\n",
       "</style>\n",
       "<table border=\"1\" class=\"dataframe\">\n",
       "  <thead>\n",
       "    <tr style=\"text-align: right;\">\n",
       "      <th></th>\n",
       "      <th>wine_id</th>\n",
       "      <th>price</th>\n",
       "      <th>currency</th>\n",
       "      <th>bottle_type_id</th>\n",
       "      <th>bottle_type</th>\n",
       "      <th>vol_ml</th>\n",
       "    </tr>\n",
       "  </thead>\n",
       "  <tbody>\n",
       "    <tr>\n",
       "      <th>0</th>\n",
       "      <td>1420799</td>\n",
       "      <td>487.000000</td>\n",
       "      <td>EUR</td>\n",
       "      <td>1</td>\n",
       "      <td>botella</td>\n",
       "      <td>750</td>\n",
       "    </tr>\n",
       "    <tr>\n",
       "      <th>1</th>\n",
       "      <td>1199830</td>\n",
       "      <td>692.960000</td>\n",
       "      <td>EUR</td>\n",
       "      <td>1</td>\n",
       "      <td>botella</td>\n",
       "      <td>750</td>\n",
       "    </tr>\n",
       "    <tr>\n",
       "      <th>2</th>\n",
       "      <td>1494622</td>\n",
       "      <td>381.150000</td>\n",
       "      <td>EUR</td>\n",
       "      <td>1</td>\n",
       "      <td>botella</td>\n",
       "      <td>750</td>\n",
       "    </tr>\n",
       "    <tr>\n",
       "      <th>3</th>\n",
       "      <td>1229417</td>\n",
       "      <td>778.060000</td>\n",
       "      <td>EUR</td>\n",
       "      <td>1</td>\n",
       "      <td>botella</td>\n",
       "      <td>750</td>\n",
       "    </tr>\n",
       "    <tr>\n",
       "      <th>4</th>\n",
       "      <td>87412043</td>\n",
       "      <td>514.850000</td>\n",
       "      <td>EUR</td>\n",
       "      <td>1</td>\n",
       "      <td>botella</td>\n",
       "      <td>750</td>\n",
       "    </tr>\n",
       "    <tr>\n",
       "      <th>...</th>\n",
       "      <td>...</td>\n",
       "      <td>...</td>\n",
       "      <td>...</td>\n",
       "      <td>...</td>\n",
       "      <td>...</td>\n",
       "      <td>...</td>\n",
       "    </tr>\n",
       "    <tr>\n",
       "      <th>35930</th>\n",
       "      <td>164784307</td>\n",
       "      <td>20.390723</td>\n",
       "      <td>EUR</td>\n",
       "      <td>1</td>\n",
       "      <td>botella</td>\n",
       "      <td>750</td>\n",
       "    </tr>\n",
       "    <tr>\n",
       "      <th>35931</th>\n",
       "      <td>14979215</td>\n",
       "      <td>21.000000</td>\n",
       "      <td>EUR</td>\n",
       "      <td>1</td>\n",
       "      <td>botella</td>\n",
       "      <td>750</td>\n",
       "    </tr>\n",
       "    <tr>\n",
       "      <th>35932</th>\n",
       "      <td>169911041</td>\n",
       "      <td>14.010000</td>\n",
       "      <td>EUR</td>\n",
       "      <td>1</td>\n",
       "      <td>botella</td>\n",
       "      <td>750</td>\n",
       "    </tr>\n",
       "    <tr>\n",
       "      <th>35933</th>\n",
       "      <td>14979215</td>\n",
       "      <td>21.000000</td>\n",
       "      <td>EUR</td>\n",
       "      <td>1</td>\n",
       "      <td>botella</td>\n",
       "      <td>750</td>\n",
       "    </tr>\n",
       "    <tr>\n",
       "      <th>35934</th>\n",
       "      <td>169911041</td>\n",
       "      <td>14.010000</td>\n",
       "      <td>EUR</td>\n",
       "      <td>1</td>\n",
       "      <td>botella</td>\n",
       "      <td>750</td>\n",
       "    </tr>\n",
       "  </tbody>\n",
       "</table>\n",
       "<p>35935 rows × 6 columns</p>\n",
       "</div>"
      ],
      "text/plain": [
       "         wine_id       price currency  bottle_type_id bottle_type  vol_ml\n",
       "0        1420799  487.000000      EUR               1     botella     750\n",
       "1        1199830  692.960000      EUR               1     botella     750\n",
       "2        1494622  381.150000      EUR               1     botella     750\n",
       "3        1229417  778.060000      EUR               1     botella     750\n",
       "4       87412043  514.850000      EUR               1     botella     750\n",
       "...          ...         ...      ...             ...         ...     ...\n",
       "35930  164784307   20.390723      EUR               1     botella     750\n",
       "35931   14979215   21.000000      EUR               1     botella     750\n",
       "35932  169911041   14.010000      EUR               1     botella     750\n",
       "35933   14979215   21.000000      EUR               1     botella     750\n",
       "35934  169911041   14.010000      EUR               1     botella     750\n",
       "\n",
       "[35935 rows x 6 columns]"
      ]
     },
     "execution_count": 5,
     "metadata": {},
     "output_type": "execute_result"
    }
   ],
   "source": [
    "purchase = drop(df)\n",
    "purchase"
   ]
  },
  {
   "cell_type": "markdown",
   "id": "6d1cb6c7",
   "metadata": {},
   "source": [
    "## Check NaN values"
   ]
  },
  {
   "cell_type": "code",
   "execution_count": 6,
   "id": "7defdc86",
   "metadata": {},
   "outputs": [
    {
     "data": {
      "text/plain": [
       "wine_id           0\n",
       "price             0\n",
       "currency          0\n",
       "bottle_type_id    0\n",
       "bottle_type       0\n",
       "vol_ml            0\n",
       "dtype: int64"
      ]
     },
     "execution_count": 6,
     "metadata": {},
     "output_type": "execute_result"
    }
   ],
   "source": [
    "purchase.isna().sum()"
   ]
  },
  {
   "cell_type": "markdown",
   "id": "dd0cea77",
   "metadata": {},
   "source": [
    "## Check duplicates"
   ]
  },
  {
   "cell_type": "code",
   "execution_count": 7,
   "id": "709f9f70",
   "metadata": {},
   "outputs": [
    {
     "data": {
      "text/plain": [
       "15487"
      ]
     },
     "execution_count": 7,
     "metadata": {},
     "output_type": "execute_result"
    }
   ],
   "source": [
    "purchase.duplicated(subset = ['wine_id']).sum()"
   ]
  },
  {
   "cell_type": "markdown",
   "id": "55af711d",
   "metadata": {},
   "source": [
    "## Drop duplicates"
   ]
  },
  {
   "cell_type": "code",
   "execution_count": 8,
   "id": "64040268",
   "metadata": {},
   "outputs": [
    {
     "data": {
      "text/plain": [
       "(20448, 6)"
      ]
     },
     "execution_count": 8,
     "metadata": {},
     "output_type": "execute_result"
    }
   ],
   "source": [
    "cleaned = purchase.drop_duplicates(subset = ['wine_id'])\n",
    "cleaned.shape"
   ]
  },
  {
   "cell_type": "markdown",
   "id": "2601dba2",
   "metadata": {},
   "source": [
    "## Deal currency column: drop and change price name to price_eur"
   ]
  },
  {
   "cell_type": "code",
   "execution_count": 9,
   "id": "95ac5a3d",
   "metadata": {},
   "outputs": [
    {
     "data": {
      "text/plain": [
       "EUR    20448\n",
       "Name: currency, dtype: int64"
      ]
     },
     "execution_count": 9,
     "metadata": {},
     "output_type": "execute_result"
    }
   ],
   "source": [
    "cleaned['currency'].value_counts()"
   ]
  },
  {
   "cell_type": "code",
   "execution_count": 10,
   "id": "b57d8f32",
   "metadata": {},
   "outputs": [
    {
     "data": {
      "text/html": [
       "<div>\n",
       "<style scoped>\n",
       "    .dataframe tbody tr th:only-of-type {\n",
       "        vertical-align: middle;\n",
       "    }\n",
       "\n",
       "    .dataframe tbody tr th {\n",
       "        vertical-align: top;\n",
       "    }\n",
       "\n",
       "    .dataframe thead th {\n",
       "        text-align: right;\n",
       "    }\n",
       "</style>\n",
       "<table border=\"1\" class=\"dataframe\">\n",
       "  <thead>\n",
       "    <tr style=\"text-align: right;\">\n",
       "      <th></th>\n",
       "      <th>wine_id</th>\n",
       "      <th>price_eur</th>\n",
       "      <th>bottle_type_id</th>\n",
       "      <th>bottle_type</th>\n",
       "      <th>vol_ml</th>\n",
       "    </tr>\n",
       "  </thead>\n",
       "  <tbody>\n",
       "    <tr>\n",
       "      <th>0</th>\n",
       "      <td>1420799</td>\n",
       "      <td>487.000000</td>\n",
       "      <td>1</td>\n",
       "      <td>botella</td>\n",
       "      <td>750</td>\n",
       "    </tr>\n",
       "    <tr>\n",
       "      <th>1</th>\n",
       "      <td>1199830</td>\n",
       "      <td>692.960000</td>\n",
       "      <td>1</td>\n",
       "      <td>botella</td>\n",
       "      <td>750</td>\n",
       "    </tr>\n",
       "    <tr>\n",
       "      <th>2</th>\n",
       "      <td>1494622</td>\n",
       "      <td>381.150000</td>\n",
       "      <td>1</td>\n",
       "      <td>botella</td>\n",
       "      <td>750</td>\n",
       "    </tr>\n",
       "    <tr>\n",
       "      <th>3</th>\n",
       "      <td>1229417</td>\n",
       "      <td>778.060000</td>\n",
       "      <td>1</td>\n",
       "      <td>botella</td>\n",
       "      <td>750</td>\n",
       "    </tr>\n",
       "    <tr>\n",
       "      <th>4</th>\n",
       "      <td>87412043</td>\n",
       "      <td>514.850000</td>\n",
       "      <td>1</td>\n",
       "      <td>botella</td>\n",
       "      <td>750</td>\n",
       "    </tr>\n",
       "    <tr>\n",
       "      <th>...</th>\n",
       "      <td>...</td>\n",
       "      <td>...</td>\n",
       "      <td>...</td>\n",
       "      <td>...</td>\n",
       "      <td>...</td>\n",
       "    </tr>\n",
       "    <tr>\n",
       "      <th>35913</th>\n",
       "      <td>165754960</td>\n",
       "      <td>20.620000</td>\n",
       "      <td>1</td>\n",
       "      <td>botella</td>\n",
       "      <td>750</td>\n",
       "    </tr>\n",
       "    <tr>\n",
       "      <th>35914</th>\n",
       "      <td>160624545</td>\n",
       "      <td>14.730923</td>\n",
       "      <td>1</td>\n",
       "      <td>botella</td>\n",
       "      <td>750</td>\n",
       "    </tr>\n",
       "    <tr>\n",
       "      <th>35915</th>\n",
       "      <td>164784307</td>\n",
       "      <td>20.390723</td>\n",
       "      <td>1</td>\n",
       "      <td>botella</td>\n",
       "      <td>750</td>\n",
       "    </tr>\n",
       "    <tr>\n",
       "      <th>35931</th>\n",
       "      <td>14979215</td>\n",
       "      <td>21.000000</td>\n",
       "      <td>1</td>\n",
       "      <td>botella</td>\n",
       "      <td>750</td>\n",
       "    </tr>\n",
       "    <tr>\n",
       "      <th>35932</th>\n",
       "      <td>169911041</td>\n",
       "      <td>14.010000</td>\n",
       "      <td>1</td>\n",
       "      <td>botella</td>\n",
       "      <td>750</td>\n",
       "    </tr>\n",
       "  </tbody>\n",
       "</table>\n",
       "<p>20448 rows × 5 columns</p>\n",
       "</div>"
      ],
      "text/plain": [
       "         wine_id   price_eur  bottle_type_id bottle_type  vol_ml\n",
       "0        1420799  487.000000               1     botella     750\n",
       "1        1199830  692.960000               1     botella     750\n",
       "2        1494622  381.150000               1     botella     750\n",
       "3        1229417  778.060000               1     botella     750\n",
       "4       87412043  514.850000               1     botella     750\n",
       "...          ...         ...             ...         ...     ...\n",
       "35913  165754960   20.620000               1     botella     750\n",
       "35914  160624545   14.730923               1     botella     750\n",
       "35915  164784307   20.390723               1     botella     750\n",
       "35931   14979215   21.000000               1     botella     750\n",
       "35932  169911041   14.010000               1     botella     750\n",
       "\n",
       "[20448 rows x 5 columns]"
      ]
     },
     "execution_count": 10,
     "metadata": {},
     "output_type": "execute_result"
    }
   ],
   "source": [
    "cleaned = cleaned.drop(['currency'],axis=1)\n",
    "cleaned.columns = ['wine_id','price_eur','bottle_type_id','bottle_type','vol_ml']\n",
    "cleaned"
   ]
  },
  {
   "cell_type": "markdown",
   "id": "bff5c2f1",
   "metadata": {},
   "source": [
    "## Check columns with same information"
   ]
  },
  {
   "cell_type": "code",
   "execution_count": 11,
   "id": "e9d2b8fe",
   "metadata": {},
   "outputs": [
    {
     "data": {
      "text/plain": [
       "botella             19996\n",
       "mágnum                381\n",
       "botella de ½           45\n",
       "botella de litro       15\n",
       "½ litro                11\n",
       "Name: bottle_type, dtype: int64"
      ]
     },
     "execution_count": 11,
     "metadata": {},
     "output_type": "execute_result"
    }
   ],
   "source": [
    "cleaned['bottle_type'].value_counts()"
   ]
  },
  {
   "cell_type": "code",
   "execution_count": 12,
   "id": "c232a87f",
   "metadata": {},
   "outputs": [
    {
     "data": {
      "text/plain": [
       "750     19996\n",
       "1500      381\n",
       "375        45\n",
       "1000       15\n",
       "500        11\n",
       "Name: vol_ml, dtype: int64"
      ]
     },
     "execution_count": 12,
     "metadata": {},
     "output_type": "execute_result"
    }
   ],
   "source": [
    "cleaned['vol_ml'].value_counts()"
   ]
  },
  {
   "cell_type": "code",
   "execution_count": 13,
   "id": "34fcbc0b",
   "metadata": {},
   "outputs": [
    {
     "data": {
      "text/plain": [
       "1     19996\n",
       "4       381\n",
       "3        45\n",
       "2        15\n",
       "12       11\n",
       "Name: bottle_type_id, dtype: int64"
      ]
     },
     "execution_count": 13,
     "metadata": {},
     "output_type": "execute_result"
    }
   ],
   "source": [
    "cleaned['bottle_type_id'].value_counts()"
   ]
  },
  {
   "cell_type": "markdown",
   "id": "68d3a141",
   "metadata": {},
   "source": [
    "## Droping columns with duplicated information"
   ]
  },
  {
   "cell_type": "code",
   "execution_count": 14,
   "id": "df71f3df",
   "metadata": {},
   "outputs": [
    {
     "data": {
      "text/html": [
       "<div>\n",
       "<style scoped>\n",
       "    .dataframe tbody tr th:only-of-type {\n",
       "        vertical-align: middle;\n",
       "    }\n",
       "\n",
       "    .dataframe tbody tr th {\n",
       "        vertical-align: top;\n",
       "    }\n",
       "\n",
       "    .dataframe thead th {\n",
       "        text-align: right;\n",
       "    }\n",
       "</style>\n",
       "<table border=\"1\" class=\"dataframe\">\n",
       "  <thead>\n",
       "    <tr style=\"text-align: right;\">\n",
       "      <th></th>\n",
       "      <th>wine_id</th>\n",
       "      <th>price_eur</th>\n",
       "      <th>vol_ml</th>\n",
       "    </tr>\n",
       "  </thead>\n",
       "  <tbody>\n",
       "    <tr>\n",
       "      <th>0</th>\n",
       "      <td>1420799</td>\n",
       "      <td>487.000000</td>\n",
       "      <td>750</td>\n",
       "    </tr>\n",
       "    <tr>\n",
       "      <th>1</th>\n",
       "      <td>1199830</td>\n",
       "      <td>692.960000</td>\n",
       "      <td>750</td>\n",
       "    </tr>\n",
       "    <tr>\n",
       "      <th>2</th>\n",
       "      <td>1494622</td>\n",
       "      <td>381.150000</td>\n",
       "      <td>750</td>\n",
       "    </tr>\n",
       "    <tr>\n",
       "      <th>3</th>\n",
       "      <td>1229417</td>\n",
       "      <td>778.060000</td>\n",
       "      <td>750</td>\n",
       "    </tr>\n",
       "    <tr>\n",
       "      <th>4</th>\n",
       "      <td>87412043</td>\n",
       "      <td>514.850000</td>\n",
       "      <td>750</td>\n",
       "    </tr>\n",
       "    <tr>\n",
       "      <th>...</th>\n",
       "      <td>...</td>\n",
       "      <td>...</td>\n",
       "      <td>...</td>\n",
       "    </tr>\n",
       "    <tr>\n",
       "      <th>35913</th>\n",
       "      <td>165754960</td>\n",
       "      <td>20.620000</td>\n",
       "      <td>750</td>\n",
       "    </tr>\n",
       "    <tr>\n",
       "      <th>35914</th>\n",
       "      <td>160624545</td>\n",
       "      <td>14.730923</td>\n",
       "      <td>750</td>\n",
       "    </tr>\n",
       "    <tr>\n",
       "      <th>35915</th>\n",
       "      <td>164784307</td>\n",
       "      <td>20.390723</td>\n",
       "      <td>750</td>\n",
       "    </tr>\n",
       "    <tr>\n",
       "      <th>35931</th>\n",
       "      <td>14979215</td>\n",
       "      <td>21.000000</td>\n",
       "      <td>750</td>\n",
       "    </tr>\n",
       "    <tr>\n",
       "      <th>35932</th>\n",
       "      <td>169911041</td>\n",
       "      <td>14.010000</td>\n",
       "      <td>750</td>\n",
       "    </tr>\n",
       "  </tbody>\n",
       "</table>\n",
       "<p>20448 rows × 3 columns</p>\n",
       "</div>"
      ],
      "text/plain": [
       "         wine_id   price_eur  vol_ml\n",
       "0        1420799  487.000000     750\n",
       "1        1199830  692.960000     750\n",
       "2        1494622  381.150000     750\n",
       "3        1229417  778.060000     750\n",
       "4       87412043  514.850000     750\n",
       "...          ...         ...     ...\n",
       "35913  165754960   20.620000     750\n",
       "35914  160624545   14.730923     750\n",
       "35915  164784307   20.390723     750\n",
       "35931   14979215   21.000000     750\n",
       "35932  169911041   14.010000     750\n",
       "\n",
       "[20448 rows x 3 columns]"
      ]
     },
     "execution_count": 14,
     "metadata": {},
     "output_type": "execute_result"
    }
   ],
   "source": [
    "cleaned = cleaned.drop(['bottle_type','bottle_type_id'],axis=1)\n",
    "cleaned"
   ]
  },
  {
   "cell_type": "markdown",
   "id": "22d41d20",
   "metadata": {},
   "source": [
    "## Round price"
   ]
  },
  {
   "cell_type": "code",
   "execution_count": 16,
   "id": "023fac65",
   "metadata": {},
   "outputs": [
    {
     "data": {
      "text/html": [
       "<div>\n",
       "<style scoped>\n",
       "    .dataframe tbody tr th:only-of-type {\n",
       "        vertical-align: middle;\n",
       "    }\n",
       "\n",
       "    .dataframe tbody tr th {\n",
       "        vertical-align: top;\n",
       "    }\n",
       "\n",
       "    .dataframe thead th {\n",
       "        text-align: right;\n",
       "    }\n",
       "</style>\n",
       "<table border=\"1\" class=\"dataframe\">\n",
       "  <thead>\n",
       "    <tr style=\"text-align: right;\">\n",
       "      <th></th>\n",
       "      <th>wine_id</th>\n",
       "      <th>price_eur</th>\n",
       "      <th>vol_ml</th>\n",
       "    </tr>\n",
       "  </thead>\n",
       "  <tbody>\n",
       "    <tr>\n",
       "      <th>0</th>\n",
       "      <td>1420799</td>\n",
       "      <td>487.00</td>\n",
       "      <td>750</td>\n",
       "    </tr>\n",
       "    <tr>\n",
       "      <th>1</th>\n",
       "      <td>1199830</td>\n",
       "      <td>692.96</td>\n",
       "      <td>750</td>\n",
       "    </tr>\n",
       "    <tr>\n",
       "      <th>2</th>\n",
       "      <td>1494622</td>\n",
       "      <td>381.15</td>\n",
       "      <td>750</td>\n",
       "    </tr>\n",
       "    <tr>\n",
       "      <th>3</th>\n",
       "      <td>1229417</td>\n",
       "      <td>778.06</td>\n",
       "      <td>750</td>\n",
       "    </tr>\n",
       "    <tr>\n",
       "      <th>4</th>\n",
       "      <td>87412043</td>\n",
       "      <td>514.85</td>\n",
       "      <td>750</td>\n",
       "    </tr>\n",
       "    <tr>\n",
       "      <th>...</th>\n",
       "      <td>...</td>\n",
       "      <td>...</td>\n",
       "      <td>...</td>\n",
       "    </tr>\n",
       "    <tr>\n",
       "      <th>35913</th>\n",
       "      <td>165754960</td>\n",
       "      <td>20.62</td>\n",
       "      <td>750</td>\n",
       "    </tr>\n",
       "    <tr>\n",
       "      <th>35914</th>\n",
       "      <td>160624545</td>\n",
       "      <td>14.73</td>\n",
       "      <td>750</td>\n",
       "    </tr>\n",
       "    <tr>\n",
       "      <th>35915</th>\n",
       "      <td>164784307</td>\n",
       "      <td>20.39</td>\n",
       "      <td>750</td>\n",
       "    </tr>\n",
       "    <tr>\n",
       "      <th>35931</th>\n",
       "      <td>14979215</td>\n",
       "      <td>21.00</td>\n",
       "      <td>750</td>\n",
       "    </tr>\n",
       "    <tr>\n",
       "      <th>35932</th>\n",
       "      <td>169911041</td>\n",
       "      <td>14.01</td>\n",
       "      <td>750</td>\n",
       "    </tr>\n",
       "  </tbody>\n",
       "</table>\n",
       "<p>20448 rows × 3 columns</p>\n",
       "</div>"
      ],
      "text/plain": [
       "         wine_id  price_eur  vol_ml\n",
       "0        1420799     487.00     750\n",
       "1        1199830     692.96     750\n",
       "2        1494622     381.15     750\n",
       "3        1229417     778.06     750\n",
       "4       87412043     514.85     750\n",
       "...          ...        ...     ...\n",
       "35913  165754960      20.62     750\n",
       "35914  160624545      14.73     750\n",
       "35915  164784307      20.39     750\n",
       "35931   14979215      21.00     750\n",
       "35932  169911041      14.01     750\n",
       "\n",
       "[20448 rows x 3 columns]"
      ]
     },
     "execution_count": 16,
     "metadata": {},
     "output_type": "execute_result"
    }
   ],
   "source": [
    "cleaned['price_eur'] = round(cleaned['price_eur'],2)\n",
    "cleaned"
   ]
  }
 ],
 "metadata": {
  "kernelspec": {
   "display_name": "Python 3 (ipykernel)",
   "language": "python",
   "name": "python3"
  },
  "language_info": {
   "codemirror_mode": {
    "name": "ipython",
    "version": 3
   },
   "file_extension": ".py",
   "mimetype": "text/x-python",
   "name": "python",
   "nbconvert_exporter": "python",
   "pygments_lexer": "ipython3",
   "version": "3.9.12"
  }
 },
 "nbformat": 4,
 "nbformat_minor": 5
}
