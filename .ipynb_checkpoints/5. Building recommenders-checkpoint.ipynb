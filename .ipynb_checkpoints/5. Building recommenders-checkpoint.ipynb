{
 "cells": [
  {
   "cell_type": "markdown",
   "id": "41a371da",
   "metadata": {},
   "source": [
    "# Import libraries"
   ]
  },
  {
   "cell_type": "code",
   "execution_count": 1,
   "id": "c513e940",
   "metadata": {},
   "outputs": [],
   "source": [
    "import pandas as pd\n",
    "import numpy as np\n",
    "import random\n",
    "pd.set_option('display.max_columns', None)\n",
    "\n",
    "import warnings\n",
    "warnings.filterwarnings('ignore')"
   ]
  },
  {
   "cell_type": "code",
   "execution_count": 2,
   "id": "1da25905",
   "metadata": {},
   "outputs": [],
   "source": [
    "import nltk\n",
    "from nltk.tokenize import word_tokenize\n",
    "from sklearn.feature_extraction.text import CountVectorizer"
   ]
  },
  {
   "cell_type": "code",
   "execution_count": 3,
   "id": "f52542c4",
   "metadata": {},
   "outputs": [],
   "source": [
    "from sklearn import cluster, datasets\n",
    "from sklearn.preprocessing import StandardScaler, MinMaxScaler, OneHotEncoder\n",
    "from sklearn.cluster import KMeans"
   ]
  },
  {
   "cell_type": "code",
   "execution_count": 4,
   "id": "ee9cc3d5",
   "metadata": {},
   "outputs": [],
   "source": [
    "# import pymysql\n",
    "# from sqlalchemy import create_engine\n",
    "# import getpass \n",
    "# password = getpass.getpass()"
   ]
  },
  {
   "cell_type": "code",
   "execution_count": 5,
   "id": "62cb8fd9",
   "metadata": {},
   "outputs": [],
   "source": [
    "# connection_string = 'mysql+pymysql://root:' + password + '@localhost/clean_winery'\n",
    "# engine = create_engine(connection_string)"
   ]
  },
  {
   "cell_type": "markdown",
   "id": "78a3b860",
   "metadata": {},
   "source": [
    "# Import dataframes"
   ]
  },
  {
   "cell_type": "code",
   "execution_count": 39,
   "id": "05d5048a",
   "metadata": {},
   "outputs": [],
   "source": [
    "clustered_df = pd.read_csv('clustered.csv')"
   ]
  },
  {
   "cell_type": "code",
   "execution_count": 40,
   "id": "1b075d0b",
   "metadata": {},
   "outputs": [
    {
     "data": {
      "text/plain": [
       "(18389, 35)"
      ]
     },
     "execution_count": 40,
     "metadata": {},
     "output_type": "execute_result"
    }
   ],
   "source": [
    "clustered_df.shape"
   ]
  },
  {
   "cell_type": "code",
   "execution_count": 41,
   "id": "6d7af70f",
   "metadata": {},
   "outputs": [],
   "source": [
    "all_data = pd.read_csv('all_data.csv')"
   ]
  },
  {
   "cell_type": "code",
   "execution_count": 42,
   "id": "37fbffaf",
   "metadata": {},
   "outputs": [
    {
     "data": {
      "text/plain": [
       "(21294, 34)"
      ]
     },
     "execution_count": 42,
     "metadata": {},
     "output_type": "execute_result"
    }
   ],
   "source": [
    "all_data.shape"
   ]
  },
  {
   "cell_type": "code",
   "execution_count": 43,
   "id": "02b6478c",
   "metadata": {},
   "outputs": [],
   "source": [
    "varietal_df = all_data[['wine_id','type','wine_name','country','region','varietal_name','winery','year','grapes_1_name','grapes_2_name','grapes_3_name']]"
   ]
  },
  {
   "cell_type": "code",
   "execution_count": 44,
   "id": "f0089802",
   "metadata": {},
   "outputs": [
    {
     "data": {
      "text/plain": [
       "wine_id             0\n",
       "type                0\n",
       "wine_name           0\n",
       "country             0\n",
       "region              0\n",
       "varietal_name       0\n",
       "winery              0\n",
       "year                0\n",
       "grapes_1_name    2829\n",
       "grapes_2_name    2829\n",
       "grapes_3_name    2829\n",
       "dtype: int64"
      ]
     },
     "execution_count": 44,
     "metadata": {},
     "output_type": "execute_result"
    }
   ],
   "source": [
    "varietal_df.isna().sum()"
   ]
  },
  {
   "cell_type": "code",
   "execution_count": 45,
   "id": "53ac1c1b",
   "metadata": {},
   "outputs": [],
   "source": [
    "varietal_df = varietal_df.fillna('x')"
   ]
  },
  {
   "cell_type": "code",
   "execution_count": 46,
   "id": "54926912",
   "metadata": {},
   "outputs": [],
   "source": [
    "wine_names = varietal_df[['wine_id','wine_name','winery']]"
   ]
  },
  {
   "cell_type": "code",
   "execution_count": 47,
   "id": "15660f9d",
   "metadata": {},
   "outputs": [],
   "source": [
    "clustered_df = pd.merge(left = wine_names,\n",
    "        right = clustered_df,\n",
    "        how = 'inner', \n",
    "        left_on = \"wine_id\", \n",
    "        right_on= \"wine_id\")"
   ]
  },
  {
   "cell_type": "code",
   "execution_count": null,
   "id": "12cdcfda",
   "metadata": {},
   "outputs": [],
   "source": []
  },
  {
   "cell_type": "code",
   "execution_count": 48,
   "id": "cb132201",
   "metadata": {},
   "outputs": [],
   "source": [
    "varietal_df['varietal_name'] = np.where(varietal_df['varietal_name'].isin(['Grenache.']),'Garnacha',varietal_df['varietal_name'])\n",
    "clustered_df['varietal_name'] = np.where(clustered_df['varietal_name'].isin(['Grenache.']),'Garnacha',clustered_df['varietal_name'])"
   ]
  },
  {
   "cell_type": "code",
   "execution_count": null,
   "id": "81dd63c5",
   "metadata": {},
   "outputs": [],
   "source": []
  },
  {
   "cell_type": "markdown",
   "id": "02a62756",
   "metadata": {},
   "source": [
    "# Copies to not be case sensitive"
   ]
  },
  {
   "cell_type": "code",
   "execution_count": 49,
   "id": "db4a15b7",
   "metadata": {},
   "outputs": [],
   "source": [
    "def case_folding(df,cols):\n",
    "    df_folded = df.copy()\n",
    "    for col in cols:\n",
    "        df_folded[col] = [value.casefold() for value in df[col].values]\n",
    "    return df_folded"
   ]
  },
  {
   "cell_type": "code",
   "execution_count": 50,
   "id": "6abfdc25",
   "metadata": {},
   "outputs": [],
   "source": [
    "cols = ['wine_name','winery','region','country','varietal_name','type','grapes_1_name','grapes_2_name','grapes_3_name']\n",
    "clustered_folded = case_folding(clustered_df, cols)\n",
    "varietal_folded = case_folding(varietal_df, cols)"
   ]
  },
  {
   "cell_type": "markdown",
   "id": "c2a62c11",
   "metadata": {},
   "source": [
    "# Tokenizing columns for later"
   ]
  },
  {
   "cell_type": "code",
   "execution_count": 51,
   "id": "959a76cb",
   "metadata": {},
   "outputs": [],
   "source": [
    "def tokenizing_col(df,col):\n",
    "    tokenized = []\n",
    "\n",
    "    for row in df[col]:\n",
    "        token = word_tokenize(row)\n",
    "        tokenized.append(token)\n",
    "\n",
    "    df['tokenized'] = tokenized\n",
    "    \n",
    "    return df"
   ]
  },
  {
   "cell_type": "code",
   "execution_count": 52,
   "id": "7ee39dae",
   "metadata": {},
   "outputs": [],
   "source": [
    "clustered_folded = tokenizing_col(clustered_folded,'wine_name')\n",
    "varietal_folded = tokenizing_col(varietal_folded,'wine_name')"
   ]
  },
  {
   "cell_type": "markdown",
   "id": "8b3e83e0",
   "metadata": {},
   "source": [
    "# Variety Recommender"
   ]
  },
  {
   "cell_type": "code",
   "execution_count": 86,
   "id": "dcc4c59e",
   "metadata": {},
   "outputs": [],
   "source": [
    "def basic_recommender():\n",
    "    text = input(\"what variety you like?   \").casefold()\n",
    "    print(' ')\n",
    "\n",
    "    if text in varietal_folded['varietal_name'].values:\n",
    "        \n",
    "        df = varietal_folded[varietal_folded['varietal_name'] == text]\n",
    "                    \n",
    "        recommended = random.choice(df['wine_id'].values)\n",
    "        \n",
    "        wine = varietal_df[varietal_df['wine_id']==recommended]['wine_name'].values\n",
    "        region = varietal_df[varietal_df['wine_id']==recommended]['region'].values\n",
    "        country = varietal_df[varietal_df['wine_id']==recommended]['country'].values\n",
    "        \n",
    "        print(\"If you like \" + text + \", \" + wine + ' from ' + region + ' in ' + country + ' is from the same variety.')\n",
    "    else:\n",
    "        print(\"Sorry I don't have any suggestions for that\")\n",
    "    return"
   ]
  },
  {
   "cell_type": "code",
   "execution_count": 87,
   "id": "ef1b232c",
   "metadata": {},
   "outputs": [
    {
     "name": "stdout",
     "output_type": "stream",
     "text": [
      "what variety you like?   treixadura\n",
      " \n",
      "['If you like treixadura, Antonio Montero Alejandrvs Barrica Treixadura  from Ribeiro in spain is from the same variety']\n"
     ]
    }
   ],
   "source": [
    "basic_recommender()"
   ]
  },
  {
   "cell_type": "markdown",
   "id": "f26393b6",
   "metadata": {},
   "source": [
    "# Grape Recommender"
   ]
  },
  {
   "cell_type": "code",
   "execution_count": 74,
   "id": "69975f5d",
   "metadata": {},
   "outputs": [],
   "source": [
    "def grape_recommender():\n",
    "    text = input(\"What variety of grape do you like?   \").casefold()\n",
    "    print(' ')\n",
    "\n",
    "    if text in varietal_folded['grapes_1_name'].values:\n",
    "        yn = 'y'\n",
    "    elif text in varietal_folded['grapes_2_name'].values:\n",
    "        yn = 'y'\n",
    "    elif text in varietal_folded['grapes_3_name'].values:\n",
    "        yn = 'y'\n",
    "    else:\n",
    "        yn = 'n'\n",
    "\n",
    "    if yn == 'y':\n",
    "        df = varietal_folded[(varietal_folded['grapes_1_name']==text)|(varietal_folded['grapes_2_name']==text)|(varietal_folded['grapes_3_name']==text)]\n",
    "        \n",
    "        recommended = random.choice(df['wine_id'].values)\n",
    "        \n",
    "        wine = varietal_df[varietal_df['wine_id']==recommended]['wine_name'].values\n",
    "        region = varietal_df[varietal_df['wine_id']==recommended]['region'].values\n",
    "        country = varietal_df[varietal_df['wine_id']==recommended]['country'].values\n",
    "\n",
    "        print(\"Maybe you would like to try \" + wine + ' from ' + region + ' in ' + country)\n",
    "    else:\n",
    "        print(\"Sorry I don't have any suggestions for that.\")\n",
    "    return"
   ]
  },
  {
   "cell_type": "code",
   "execution_count": 75,
   "id": "cd352419",
   "metadata": {},
   "outputs": [
    {
     "name": "stdout",
     "output_type": "stream",
     "text": [
      "What variety of grape do you like?   pinot noir\n",
      " \n",
      "['Maybe you would like to try Louis Jadot Griotte-Chambertin Grand Cru  from Griotte-Chambertin Grand Cru in france']\n"
     ]
    }
   ],
   "source": [
    "grape_recommender()"
   ]
  },
  {
   "cell_type": "markdown",
   "id": "156930a6",
   "metadata": {},
   "source": [
    "# Recommender by wine name"
   ]
  },
  {
   "cell_type": "code",
   "execution_count": 68,
   "id": "09008cc0",
   "metadata": {},
   "outputs": [],
   "source": [
    "def name_recommender():\n",
    "    text = input(\"Write a wine name and I will recommend a similar one:   \").casefold()\n",
    "    print(' ')\n",
    "    print('Checking my database...')\n",
    "    print(' ')\n",
    "    \n",
    "    tokens = word_tokenize(text)\n",
    "    \n",
    "    bow_vect = CountVectorizer()\n",
    "    bow_vect.fit(tokens)\n",
    "    \n",
    "    values = []\n",
    "    for i in range(len(clustered_folded['tokenized'])):\n",
    "        values.append(np.sum(bow_vect.transform(clustered_folded['tokenized'][i]).toarray()))\n",
    "    \n",
    "    indexes = []\n",
    "    for i in range(len(values)):\n",
    "        if values[i]==max(values):\n",
    "            indexes.append(i)\n",
    "    \n",
    "    wine_name = clustered_df.loc[indexes[0]]['wine_name']\n",
    "    \n",
    "    confirm = input('Is ' + wine_name + ' the one you wrote?    Y/N    ').casefold()\n",
    "    print(' ')\n",
    "    \n",
    "    i = 1\n",
    "    while confirm == 'n':\n",
    "        \n",
    "        wine_name = clustered_df.loc[indexes[i]]['wine_name']\n",
    "        confirm = input('Is ' + wine_name + ' the one you wrote?    Y/N    ').casefold()\n",
    "        print(' ')\n",
    "        \n",
    "        if confirm == 'y':\n",
    "            break\n",
    "        \n",
    "        i = i+1\n",
    "        \n",
    "        \n",
    "        \n",
    "    if confirm == 'y':\n",
    "        \n",
    "        cluster = clustered_folded.loc[indexes[i]]['clusters']\n",
    "        df = clustered_df[clustered_df['clusters'] == cluster]\n",
    "        \n",
    "        recommended = random.choice(df['wine_id'].values)\n",
    "        \n",
    "        wine = df[df['wine_id']==recommended]['wine_name'].values\n",
    "        region = df[df['wine_id']==recommended]['region'].values\n",
    "        country = df[df['wine_id']==recommended]['country'].values\n",
    "        \n",
    "        print(\"My recommendation is \" + wine + ' from ' + region + ' in ' + country)\n",
    "    \n",
    "\n",
    "    return"
   ]
  },
  {
   "cell_type": "code",
   "execution_count": 69,
   "id": "139acaeb",
   "metadata": {},
   "outputs": [
    {
     "name": "stdout",
     "output_type": "stream",
     "text": [
      "Write a wine name and I will recommend a similar one:   paco garcia tempranillo blanco\n",
      " \n",
      "Checking my database...\n",
      " \n",
      "Is Paco Garcia Tempranillo Blanco  the one you wrote?    Y/N    y\n",
      " \n",
      "['My recommendation is Vie di Romans Dolée  from Friuli Isonzo in italy']\n"
     ]
    }
   ],
   "source": [
    "name_recommender()"
   ]
  },
  {
   "cell_type": "markdown",
   "id": "caa71480",
   "metadata": {},
   "source": [
    "# Recommender by features "
   ]
  },
  {
   "cell_type": "markdown",
   "id": "52448f23",
   "metadata": {},
   "source": [
    "### (it has some problems, sometimes it doesn't work)"
   ]
  },
  {
   "cell_type": "code",
   "execution_count": 66,
   "id": "b35bead1",
   "metadata": {},
   "outputs": [],
   "source": [
    "def wine_feature_recommender():\n",
    "    red_white = input('Are you looking for a Red or White Wine?   R/W      ').casefold()\n",
    "    print(' ')\n",
    "    body = input('How do you like the body of your wine?  from 1-5 (Low-High)      ').casefold()\n",
    "    print(' ')\n",
    "    acidity = input('How do you like the acidity?   High(H) - Medium(M) - Low(L)    ').casefold()\n",
    "    print(' ')\n",
    "    \n",
    "    if red_white == 'r':\n",
    "        red_white = 'red'\n",
    "    else:\n",
    "        red_white = 'white'\n",
    "        \n",
    "        \n",
    "    if acidity == 'h':\n",
    "        acidity = 'High'\n",
    "    elif acidity == 'm':\n",
    "        acidity = 'Medium'\n",
    "    else:\n",
    "        acidity = 'Low'\n",
    "    \n",
    "    values_list = clustered_folded.loc[(clustered_folded['body']==int(body))&(clustered_folded['type']==red_white)&(clustered_folded['acidity_description']==acidity)]['wine_id'].values\n",
    "    \n",
    "    if len(values_list) > 0:\n",
    "        recomendation = random.choice(values_list)\n",
    "        wine = clustered_df[clustered_df['wine_id']==recomendation]['wine_name'].values\n",
    "        region = clustered_df[clustered_df['wine_id']==recomendation]['region'].values\n",
    "        country = clustered_df[clustered_df['wine_id']==recomendation]['country'].values\n",
    "\n",
    "        return print('I recommend you to try:    '+ wine+ ' from '+region+ ' in '+country)\n",
    "    else: \n",
    "        return print(\"Sorry, I don't have recomendations for those characteristics.\")\n",
    "    "
   ]
  },
  {
   "cell_type": "code",
   "execution_count": 67,
   "id": "09d17e30",
   "metadata": {},
   "outputs": [
    {
     "name": "stdout",
     "output_type": "stream",
     "text": [
      "Are you looking for a Red or White Wine?   R/W      r\n",
      " \n",
      "How do you like the body of your wine?  from 1-5 (Low-High)      4\n",
      " \n",
      "How do you like the acidity?   High(H) - Medium(M) - Low(L)    h\n",
      " \n",
      "['I recommend you to try:    Podere Sapaio Sapaio Bolgheri Volpolo  from Bolgheri in italy']\n"
     ]
    }
   ],
   "source": [
    "wine_feature_recommender()"
   ]
  },
  {
   "cell_type": "markdown",
   "id": "7f213938",
   "metadata": {},
   "source": [
    "# Recommender with clustering inside"
   ]
  },
  {
   "cell_type": "markdown",
   "id": "359e4eb9",
   "metadata": {},
   "source": [
    "#### work in progress"
   ]
  },
  {
   "cell_type": "code",
   "execution_count": 88,
   "id": "f6bcd497",
   "metadata": {},
   "outputs": [],
   "source": [
    "def new_recommender():\n",
    "    red_white = input('Red or White?   ').casefold()\n",
    "    print(' ')\n",
    "    country = input('Which country?    ').casefold()\n",
    "    print(' ')\n",
    "    \n",
    "    df = clustered_folded[(clustered_folded['type']==red_white)&(clustered_folded['country']==country)].reset_index(drop=True)\n",
    "    df_num = df.select_dtypes(np.number)\n",
    "    df_num = df_num.drop(['wine_id','clusters','style_id'],axis=1)\n",
    "    \n",
    "    #fit and transform scaling numericals MinMax\n",
    "    X_num = MinMaxScaler().fit_transform(df_num) \n",
    "    # convert to dataframe again\n",
    "    X_num = pd.DataFrame(X_num,columns=df_num.columns).reset_index(drop=True) \n",
    "    \n",
    "    #building clusters with default 12\n",
    "    kmeans = KMeans(n_clusters=12)\n",
    "    kmeans.fit(X_num)\n",
    "    \n",
    "    # Assigning the clusters:\n",
    "    new_clusters = kmeans.predict(X_num)\n",
    "    df['new_clusters'] = new_clusters\n",
    "    \n",
    "    # choosing one similar\n",
    "    wine = input('One similar that you like?    ').casefold()\n",
    "    print(' ')\n",
    "    \n",
    "    tokens = word_tokenize(wine)\n",
    "    \n",
    "    bow_vect = CountVectorizer()\n",
    "    bow_vect.fit(tokens)\n",
    "    \n",
    "    values = []\n",
    "    for i in range(len(df['tokenized'])):\n",
    "        values.append(np.sum(bow_vect.transform(list(df['tokenized'])[i]).toarray()))\n",
    "\n",
    "   \n",
    "    indexes = []\n",
    "    for i in range(len(values)):\n",
    "        if values[i]==max(values):\n",
    "            indexes.append(i)\n",
    "    \n",
    "    wine_name = df.loc[indexes[0]]['wine_name']\n",
    "    \n",
    "    confirm = input('Is ' + wine_name + ' the one you wrote?    Y/N    ').casefold()\n",
    "    print(' ')\n",
    "\n",
    "    \n",
    "    i = 1\n",
    "    while confirm == 'n':\n",
    "        \n",
    "        wine_name = df.loc[indexes[i]]['wine_name']\n",
    "        confirm = input('Is ' + wine_name + ' the one you wrote?    Y/N    ').casefold()\n",
    "        print(' ')\n",
    "        \n",
    "        if confirm == 'y':\n",
    "            break\n",
    "        \n",
    "        i = i+1\n",
    "        if i >len(indexes):\n",
    "            print(\"Sorry, I didn't get the name right. Please, try again!\")\n",
    "            break\n",
    "        \n",
    "    \n",
    "    if confirm == 'y':\n",
    "        \n",
    "        df2 = clustered_df[(clustered_folded['type']==red_white)&(clustered_folded['country']==country)].reset_index(drop=True)\n",
    "        df2['new_clusters'] = new_clusters\n",
    "        \n",
    "        cluster = df2.loc[indexes[i]]['new_clusters']\n",
    "        recommended = random.choice(df2[df2['new_clusters'] == cluster]['wine_name'].values)\n",
    "        print('My recommendation is:    ' + recommended)\n",
    "\n",
    "    return"
   ]
  },
  {
   "cell_type": "code",
   "execution_count": 89,
   "id": "744d1af9",
   "metadata": {},
   "outputs": [
    {
     "name": "stdout",
     "output_type": "stream",
     "text": [
      "Red or White?   red\n",
      " \n",
      "Which country?    spain\n",
      " \n",
      "One similar that you like?    rioja\n",
      " \n",
      "Is la rioja alta rioja gran reserva 904  the one you wrote?    Y/N    y\n",
      " \n"
     ]
    },
    {
     "ename": "IndexError",
     "evalue": "list index out of range",
     "output_type": "error",
     "traceback": [
      "\u001b[1;31m---------------------------------------------------------------------------\u001b[0m",
      "\u001b[1;31mIndexError\u001b[0m                                Traceback (most recent call last)",
      "Input \u001b[1;32mIn [89]\u001b[0m, in \u001b[0;36m<cell line: 1>\u001b[1;34m()\u001b[0m\n\u001b[1;32m----> 1\u001b[0m \u001b[43mnew_recommender\u001b[49m\u001b[43m(\u001b[49m\u001b[43m)\u001b[49m\n",
      "Input \u001b[1;32mIn [88]\u001b[0m, in \u001b[0;36mnew_recommender\u001b[1;34m()\u001b[0m\n\u001b[0;32m     64\u001b[0m df2 \u001b[38;5;241m=\u001b[39m clustered_df[(clustered_folded[\u001b[38;5;124m'\u001b[39m\u001b[38;5;124mtype\u001b[39m\u001b[38;5;124m'\u001b[39m]\u001b[38;5;241m==\u001b[39mred_white)\u001b[38;5;241m&\u001b[39m(clustered_folded[\u001b[38;5;124m'\u001b[39m\u001b[38;5;124mcountry\u001b[39m\u001b[38;5;124m'\u001b[39m]\u001b[38;5;241m==\u001b[39mcountry)]\u001b[38;5;241m.\u001b[39mreset_index(drop\u001b[38;5;241m=\u001b[39m\u001b[38;5;28;01mTrue\u001b[39;00m)\n\u001b[0;32m     65\u001b[0m df2[\u001b[38;5;124m'\u001b[39m\u001b[38;5;124mnew_clusters\u001b[39m\u001b[38;5;124m'\u001b[39m] \u001b[38;5;241m=\u001b[39m new_clusters\n\u001b[1;32m---> 67\u001b[0m cluster \u001b[38;5;241m=\u001b[39m df2\u001b[38;5;241m.\u001b[39mloc[\u001b[43mindexes\u001b[49m\u001b[43m[\u001b[49m\u001b[43mi\u001b[49m\u001b[43m]\u001b[49m][\u001b[38;5;124m'\u001b[39m\u001b[38;5;124mnew_clusters\u001b[39m\u001b[38;5;124m'\u001b[39m]\n\u001b[0;32m     68\u001b[0m recommended \u001b[38;5;241m=\u001b[39m random\u001b[38;5;241m.\u001b[39mchoice(df2[df2[\u001b[38;5;124m'\u001b[39m\u001b[38;5;124mnew_clusters\u001b[39m\u001b[38;5;124m'\u001b[39m] \u001b[38;5;241m==\u001b[39m cluster][\u001b[38;5;124m'\u001b[39m\u001b[38;5;124mwine_name\u001b[39m\u001b[38;5;124m'\u001b[39m]\u001b[38;5;241m.\u001b[39mvalues)\n\u001b[0;32m     69\u001b[0m \u001b[38;5;28mprint\u001b[39m(\u001b[38;5;124m'\u001b[39m\u001b[38;5;124mMy recommendation is:    \u001b[39m\u001b[38;5;124m'\u001b[39m \u001b[38;5;241m+\u001b[39m recommended)\n",
      "\u001b[1;31mIndexError\u001b[0m: list index out of range"
     ]
    }
   ],
   "source": [
    "new_recommender()"
   ]
  },
  {
   "cell_type": "markdown",
   "id": "4f7e695d",
   "metadata": {},
   "source": [
    "# Recommender with more questions"
   ]
  },
  {
   "cell_type": "markdown",
   "id": "7ea09471",
   "metadata": {},
   "source": [
    "#### work in progress"
   ]
  },
  {
   "cell_type": "code",
   "execution_count": 39,
   "id": "499aeadd",
   "metadata": {},
   "outputs": [],
   "source": [
    "def new_recommender_2():\n",
    "    red_white = input('Red or White?   ').casefold()\n",
    "    print(' ')\n",
    "\n",
    "    country = input('Which country?    ').casefold()\n",
    "    print(' ')\n",
    "    \n",
    "    region = input('Which region?    ').casefold()\n",
    "    print(' ')\n",
    "    \n",
    "    \n",
    "    variety = input('Which variety?    ').casefold()\n",
    "    print(' ')\n",
    "    \n",
    "    \n",
    "    grape = input('Which grape?    ').casefold()\n",
    "    print(' ')\n",
    "    \n",
    "    \n",
    "    body = input('How do you like the body of your wine?  High(H) - Medium(M) - Low(L) - Very low (V)    ').casefold()\n",
    "    print(' ')\n",
    "    \n",
    "    \n",
    "    acidity = input('How do you like the acidity?   High(H) - Medium(M) - Low(L)    ').casefold()\n",
    "    print(' ')\n",
    "    \n",
    "    \n",
    "        \n",
    "    if red_white in clustered_folded['type'].values:\n",
    "        df = clustered_folded[clustered_folded['type']==red_white]\n",
    "    else:\n",
    "        df = clusterd_folded\n",
    "      \n",
    "    \n",
    "    if country in df['country'].values:\n",
    "        df = df[df['country']==country]\n",
    "    else:\n",
    "        pass\n",
    "        \n",
    "        \n",
    "    if region in df['region'].values:\n",
    "        df = df[df['region']==region]\n",
    "    else:\n",
    "        pass\n",
    "    \n",
    "    if variety in df['varietal_name'].values:\n",
    "        df = df[df['varietal_name']==variety]\n",
    "    else:\n",
    "        pass\n",
    "    \n",
    "#     if grape in df['region'].values:\n",
    "#         df = df[df['region']==region]\n",
    "#     else:\n",
    "#         pass\n",
    "\n",
    "    if body in df['body_description'].values:\n",
    "        df = df[df['body_description']==body]\n",
    "    else:\n",
    "        pass\n",
    "    \n",
    "    if acidity in df['acidity_description'].values:\n",
    "        df = df[df['acidity_description']==acidity]\n",
    "    else:\n",
    "        pass\n",
    "    \n",
    "\n",
    "\n",
    "    df_num = df[['body','acidity_1','acidity_2','fizziness','intensity','sweetness','tannin','num_ratings','rate']]\n",
    "    \n",
    "    #fit and transform scaling numericals MinMax\n",
    "    transformer = MinMaxScaler().fit(df_num) \n",
    "    X_num = transformer.transform(df_num)\n",
    "    # convert to dataframe again\n",
    "    X_num = pd.DataFrame(X_num,columns=df_num.columns).reset_index(drop=True) \n",
    "    \n",
    "   \n",
    "    # HOW MANY CLUSTERS IN RELATION WITH HOW MANY VARIABLES¿?\n",
    "    \n",
    "    #building clusters with default 12\n",
    "    kmeans = KMeans(n_clusters=12)\n",
    "    kmeans.fit(X_num)\n",
    "    \n",
    "    # Assigning the clusters:\n",
    "    new_clusters = kmeans.predict(X_num)\n",
    "    df['new_clusters'] = new_clusters\n",
    "    \n",
    "    \n",
    "    \n",
    "    #CHOOSING SIMILARITY or NOT?\n",
    "    similar_wine = input('Tell me a wine you like:      ').casefold()\n",
    "    similar_token = word_tokenize(similar_wine)\n",
    "    print(' ')\n",
    "#     different_wine = input(\"Tell me a wine you DON'T like:      \").casefold()\n",
    "#     different_token = word_tokenized(different_wine)\n",
    "#     print(' ')\n",
    "    \n",
    "    \n",
    "    bow_vect = CountVectorizer()\n",
    "    \n",
    "    # For SIMILAR wine\n",
    "    bow_vect.fit(similar_token)\n",
    "    \n",
    "    values = []\n",
    "    for i in range(len(clustered_folded['tokenized'])):\n",
    "        values.append(np.sum(bow_vect.transform(list(clustered_folded['tokenized'])[i]).toarray()))\n",
    "\n",
    "   \n",
    "    indexes = []\n",
    "    for i in range(len(values)):\n",
    "        if values[i]==max(values):\n",
    "            indexes.append(i)\n",
    "    \n",
    "    wine_name = clustered_df.loc[indexes[0]]['wine_name']\n",
    "    region_name = clustered_df.loc[indexes[0]]['region']\n",
    "    \n",
    "    confirm = input('Is ' + wine_name + ' from '+ region_name +' the one you wrote?    Y/N    ').casefold()\n",
    "    print(' ')\n",
    "\n",
    "    \n",
    "    i = 1\n",
    "    while confirm == 'n':\n",
    "        \n",
    "        wine_name = clustered_df.loc[indexes[i]]['wine_name']\n",
    "        region_name = clustered_df.loc[indexes[i]]['region']\n",
    "        \n",
    "        confirm = input('Is ' + wine_name + ' from '+ region_name + ' the one you wrote?    Y/N    ').casefold()\n",
    "        print(' ')\n",
    "        \n",
    "        if confirm == 'y':\n",
    "            break\n",
    "        \n",
    "        i = i+1\n",
    "        if i >len(indexes):\n",
    "            print(\"Sorry, I didn't get the name right. Please, try again!\")\n",
    "            break\n",
    "        \n",
    "    \n",
    "    if confirm == 'y':\n",
    "        \n",
    "        df2 = clustered_df.loc[indexes[i]]\n",
    "        df2_num = pd.DataFrame(df2[['body','acidity_1','acidity_2','fizziness','intensity','sweetness','tannin','num_ratings','rate']]).T\n",
    "        \n",
    "        X2_num = transformer.transform(df2_num)\n",
    "        # convert to dataframe again\n",
    "        X2_num = pd.DataFrame(X2_num,columns=df2_num.columns).reset_index(drop=True) \n",
    "        display(X2_num)\n",
    "\n",
    "        #predict cluster\n",
    "        X2_cluster = kmeans.predict(X2_num)\n",
    "        \n",
    "        \n",
    "        recommended = random.choice(clustered_df[df['new_clusters'] == X2_cluster]['wine_name'].values)\n",
    "        region_from = clustered_df[clustered_df['wine_name']==recommended]['region']\n",
    "        print('My recommendation is:    ' + recommended +' from ' + region_from)\n",
    "\n",
    "    return"
   ]
  },
  {
   "cell_type": "code",
   "execution_count": 40,
   "id": "f3be581f",
   "metadata": {},
   "outputs": [
    {
     "name": "stdout",
     "output_type": "stream",
     "text": [
      "Red or White?   white\n",
      " \n",
      "Which country?    spain\n",
      " \n",
      "Which region?    ribeiro\n",
      " \n",
      "Which variety?    ribeiro\n",
      " \n",
      "Which grape?    godello\n",
      " \n",
      "How do you like the body of your wine?  High(H) - Medium(M) - Low(L) - Very low (V)    m\n",
      " \n",
      "How do you like the acidity?   High(H) - Medium(M) - Low(L)    m\n",
      " \n"
     ]
    },
    {
     "ename": "ValueError",
     "evalue": "n_samples=2 should be >= n_clusters=12.",
     "output_type": "error",
     "traceback": [
      "\u001b[1;31m---------------------------------------------------------------------------\u001b[0m",
      "\u001b[1;31mValueError\u001b[0m                                Traceback (most recent call last)",
      "Input \u001b[1;32mIn [40]\u001b[0m, in \u001b[0;36m<cell line: 1>\u001b[1;34m()\u001b[0m\n\u001b[1;32m----> 1\u001b[0m \u001b[43mnew_recommender_2\u001b[49m\u001b[43m(\u001b[49m\u001b[43m)\u001b[49m\n",
      "Input \u001b[1;32mIn [39]\u001b[0m, in \u001b[0;36mnew_recommender_2\u001b[1;34m()\u001b[0m\n\u001b[0;32m     77\u001b[0m \u001b[38;5;66;03m# HOW MANY CLUSTERS IN RELATION WITH HOW MANY VARIABLES¿?\u001b[39;00m\n\u001b[0;32m     78\u001b[0m \n\u001b[0;32m     79\u001b[0m \u001b[38;5;66;03m#building clusters with default 12\u001b[39;00m\n\u001b[0;32m     80\u001b[0m kmeans \u001b[38;5;241m=\u001b[39m KMeans(n_clusters\u001b[38;5;241m=\u001b[39m\u001b[38;5;241m12\u001b[39m)\n\u001b[1;32m---> 81\u001b[0m \u001b[43mkmeans\u001b[49m\u001b[38;5;241;43m.\u001b[39;49m\u001b[43mfit\u001b[49m\u001b[43m(\u001b[49m\u001b[43mX_num\u001b[49m\u001b[43m)\u001b[49m\n\u001b[0;32m     83\u001b[0m \u001b[38;5;66;03m# Assigning the clusters:\u001b[39;00m\n\u001b[0;32m     84\u001b[0m new_clusters \u001b[38;5;241m=\u001b[39m kmeans\u001b[38;5;241m.\u001b[39mpredict(X_num)\n",
      "File \u001b[1;32m~\\anaconda3\\lib\\site-packages\\sklearn\\cluster\\_kmeans.py:1374\u001b[0m, in \u001b[0;36mKMeans.fit\u001b[1;34m(self, X, y, sample_weight)\u001b[0m\n\u001b[0;32m   1340\u001b[0m \u001b[38;5;124;03m\"\"\"Compute k-means clustering.\u001b[39;00m\n\u001b[0;32m   1341\u001b[0m \n\u001b[0;32m   1342\u001b[0m \u001b[38;5;124;03mParameters\u001b[39;00m\n\u001b[1;32m   (...)\u001b[0m\n\u001b[0;32m   1363\u001b[0m \u001b[38;5;124;03m    Fitted estimator.\u001b[39;00m\n\u001b[0;32m   1364\u001b[0m \u001b[38;5;124;03m\"\"\"\u001b[39;00m\n\u001b[0;32m   1365\u001b[0m X \u001b[38;5;241m=\u001b[39m \u001b[38;5;28mself\u001b[39m\u001b[38;5;241m.\u001b[39m_validate_data(\n\u001b[0;32m   1366\u001b[0m     X,\n\u001b[0;32m   1367\u001b[0m     accept_sparse\u001b[38;5;241m=\u001b[39m\u001b[38;5;124m\"\u001b[39m\u001b[38;5;124mcsr\u001b[39m\u001b[38;5;124m\"\u001b[39m,\n\u001b[1;32m   (...)\u001b[0m\n\u001b[0;32m   1371\u001b[0m     accept_large_sparse\u001b[38;5;241m=\u001b[39m\u001b[38;5;28;01mFalse\u001b[39;00m,\n\u001b[0;32m   1372\u001b[0m )\n\u001b[1;32m-> 1374\u001b[0m \u001b[38;5;28;43mself\u001b[39;49m\u001b[38;5;241;43m.\u001b[39;49m\u001b[43m_check_params\u001b[49m\u001b[43m(\u001b[49m\u001b[43mX\u001b[49m\u001b[43m)\u001b[49m\n\u001b[0;32m   1375\u001b[0m random_state \u001b[38;5;241m=\u001b[39m check_random_state(\u001b[38;5;28mself\u001b[39m\u001b[38;5;241m.\u001b[39mrandom_state)\n\u001b[0;32m   1376\u001b[0m sample_weight \u001b[38;5;241m=\u001b[39m _check_sample_weight(sample_weight, X, dtype\u001b[38;5;241m=\u001b[39mX\u001b[38;5;241m.\u001b[39mdtype)\n",
      "File \u001b[1;32m~\\anaconda3\\lib\\site-packages\\sklearn\\cluster\\_kmeans.py:1305\u001b[0m, in \u001b[0;36mKMeans._check_params\u001b[1;34m(self, X)\u001b[0m\n\u001b[0;32m   1304\u001b[0m \u001b[38;5;28;01mdef\u001b[39;00m \u001b[38;5;21m_check_params\u001b[39m(\u001b[38;5;28mself\u001b[39m, X):\n\u001b[1;32m-> 1305\u001b[0m     \u001b[38;5;28;43msuper\u001b[39;49m\u001b[43m(\u001b[49m\u001b[43m)\u001b[49m\u001b[38;5;241;43m.\u001b[39;49m\u001b[43m_check_params\u001b[49m\u001b[43m(\u001b[49m\u001b[43mX\u001b[49m\u001b[43m)\u001b[49m\n\u001b[0;32m   1307\u001b[0m     \u001b[38;5;66;03m# algorithm\u001b[39;00m\n\u001b[0;32m   1308\u001b[0m     \u001b[38;5;28;01mif\u001b[39;00m \u001b[38;5;28mself\u001b[39m\u001b[38;5;241m.\u001b[39malgorithm \u001b[38;5;129;01mnot\u001b[39;00m \u001b[38;5;129;01min\u001b[39;00m (\u001b[38;5;124m\"\u001b[39m\u001b[38;5;124mlloyd\u001b[39m\u001b[38;5;124m\"\u001b[39m, \u001b[38;5;124m\"\u001b[39m\u001b[38;5;124melkan\u001b[39m\u001b[38;5;124m\"\u001b[39m, \u001b[38;5;124m\"\u001b[39m\u001b[38;5;124mauto\u001b[39m\u001b[38;5;124m\"\u001b[39m, \u001b[38;5;124m\"\u001b[39m\u001b[38;5;124mfull\u001b[39m\u001b[38;5;124m\"\u001b[39m):\n",
      "File \u001b[1;32m~\\anaconda3\\lib\\site-packages\\sklearn\\cluster\\_kmeans.py:828\u001b[0m, in \u001b[0;36m_BaseKMeans._check_params\u001b[1;34m(self, X)\u001b[0m\n\u001b[0;32m    826\u001b[0m \u001b[38;5;66;03m# n_clusters\u001b[39;00m\n\u001b[0;32m    827\u001b[0m \u001b[38;5;28;01mif\u001b[39;00m X\u001b[38;5;241m.\u001b[39mshape[\u001b[38;5;241m0\u001b[39m] \u001b[38;5;241m<\u001b[39m \u001b[38;5;28mself\u001b[39m\u001b[38;5;241m.\u001b[39mn_clusters:\n\u001b[1;32m--> 828\u001b[0m     \u001b[38;5;28;01mraise\u001b[39;00m \u001b[38;5;167;01mValueError\u001b[39;00m(\n\u001b[0;32m    829\u001b[0m         \u001b[38;5;124mf\u001b[39m\u001b[38;5;124m\"\u001b[39m\u001b[38;5;124mn_samples=\u001b[39m\u001b[38;5;132;01m{\u001b[39;00mX\u001b[38;5;241m.\u001b[39mshape[\u001b[38;5;241m0\u001b[39m]\u001b[38;5;132;01m}\u001b[39;00m\u001b[38;5;124m should be >= n_clusters=\u001b[39m\u001b[38;5;132;01m{\u001b[39;00m\u001b[38;5;28mself\u001b[39m\u001b[38;5;241m.\u001b[39mn_clusters\u001b[38;5;132;01m}\u001b[39;00m\u001b[38;5;124m.\u001b[39m\u001b[38;5;124m\"\u001b[39m\n\u001b[0;32m    830\u001b[0m     )\n\u001b[0;32m    832\u001b[0m \u001b[38;5;66;03m# tol\u001b[39;00m\n\u001b[0;32m    833\u001b[0m \u001b[38;5;28mself\u001b[39m\u001b[38;5;241m.\u001b[39m_tol \u001b[38;5;241m=\u001b[39m _tolerance(X, \u001b[38;5;28mself\u001b[39m\u001b[38;5;241m.\u001b[39mtol)\n",
      "\u001b[1;31mValueError\u001b[0m: n_samples=2 should be >= n_clusters=12."
     ]
    }
   ],
   "source": [
    "new_recommender_2()"
   ]
  },
  {
   "cell_type": "code",
   "execution_count": 34,
   "id": "6de3e8b5",
   "metadata": {},
   "outputs": [
    {
     "data": {
      "text/html": [
       "<div>\n",
       "<style scoped>\n",
       "    .dataframe tbody tr th:only-of-type {\n",
       "        vertical-align: middle;\n",
       "    }\n",
       "\n",
       "    .dataframe tbody tr th {\n",
       "        vertical-align: top;\n",
       "    }\n",
       "\n",
       "    .dataframe thead th {\n",
       "        text-align: right;\n",
       "    }\n",
       "</style>\n",
       "<table border=\"1\" class=\"dataframe\">\n",
       "  <thead>\n",
       "    <tr style=\"text-align: right;\">\n",
       "      <th></th>\n",
       "      <th>body</th>\n",
       "      <th>acidity_1</th>\n",
       "      <th>acidity_2</th>\n",
       "      <th>fizziness</th>\n",
       "      <th>intensity</th>\n",
       "      <th>sweetness</th>\n",
       "      <th>tannin</th>\n",
       "      <th>num_ratings</th>\n",
       "      <th>rate</th>\n",
       "    </tr>\n",
       "  </thead>\n",
       "  <tbody>\n",
       "    <tr>\n",
       "      <th>3215</th>\n",
       "      <td>4.0</td>\n",
       "      <td>3.0</td>\n",
       "      <td>3.17</td>\n",
       "      <td>0.0</td>\n",
       "      <td>4.28</td>\n",
       "      <td>1.84</td>\n",
       "      <td>3.13</td>\n",
       "      <td>1168</td>\n",
       "      <td>4.0</td>\n",
       "    </tr>\n",
       "  </tbody>\n",
       "</table>\n",
       "</div>"
      ],
      "text/plain": [
       "     body acidity_1 acidity_2 fizziness intensity sweetness tannin  \\\n",
       "3215  4.0       3.0      3.17       0.0      4.28      1.84   3.13   \n",
       "\n",
       "     num_ratings rate  \n",
       "3215        1168  4.0  "
      ]
     },
     "execution_count": 34,
     "metadata": {},
     "output_type": "execute_result"
    }
   ],
   "source": [
    "pd.DataFrame(clustered_df.loc[3215][['body','acidity_1','acidity_2','fizziness','intensity','sweetness','tannin','num_ratings','rate']]).T"
   ]
  },
  {
   "cell_type": "code",
   "execution_count": 27,
   "id": "32e00b43",
   "metadata": {},
   "outputs": [
    {
     "data": {
      "text/plain": [
       "'Alentejano'"
      ]
     },
     "execution_count": 27,
     "metadata": {},
     "output_type": "execute_result"
    }
   ],
   "source": [
    "clustered_df.loc[3215]['region']"
   ]
  },
  {
   "cell_type": "code",
   "execution_count": null,
   "id": "3fccc14a",
   "metadata": {},
   "outputs": [],
   "source": [
    "    var1 = ['red','white']\n",
    "    red_white = input('Red or White?   ').casefold()\n",
    "    print(' ')\n",
    "    \n",
    "    if red_white in var1:\n",
    "        print(red_white)\n",
    "    else:\n",
    "        print('Sorry,')"
   ]
  },
  {
   "cell_type": "code",
   "execution_count": null,
   "id": "222b456e",
   "metadata": {},
   "outputs": [],
   "source": []
  },
  {
   "cell_type": "code",
   "execution_count": null,
   "id": "f8c79a4b",
   "metadata": {},
   "outputs": [],
   "source": []
  },
  {
   "cell_type": "markdown",
   "id": "fc2d335e",
   "metadata": {},
   "source": [
    "I'm thinking about the questions I want to answer and the variables I can use, there are too many, but now I can use:\n",
    "* region\n",
    "* country\n",
    "* red/white\n",
    "* variety¿?\n",
    "* grape\n",
    "* clusters based on wine characteristics (by name?)\n",
    "* features (body, acidity)\n",
    "* something similar to or different from\n"
   ]
  }
 ],
 "metadata": {
  "kernelspec": {
   "display_name": "Python 3 (ipykernel)",
   "language": "python",
   "name": "python3"
  },
  "language_info": {
   "codemirror_mode": {
    "name": "ipython",
    "version": 3
   },
   "file_extension": ".py",
   "mimetype": "text/x-python",
   "name": "python",
   "nbconvert_exporter": "python",
   "pygments_lexer": "ipython3",
   "version": "3.9.12"
  }
 },
 "nbformat": 4,
 "nbformat_minor": 5
}
