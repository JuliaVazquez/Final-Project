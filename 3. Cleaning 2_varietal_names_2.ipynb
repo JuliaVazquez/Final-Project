{
 "cells": [
  {
   "cell_type": "markdown",
   "id": "e368e765",
   "metadata": {},
   "source": [
    "# Import libraries and data"
   ]
  },
  {
   "cell_type": "code",
   "execution_count": 64,
   "id": "f9f14296",
   "metadata": {},
   "outputs": [],
   "source": [
    "import pandas as pd\n",
    "import numpy as np\n",
    "pd.set_option('display.max_columns', None)"
   ]
  },
  {
   "cell_type": "code",
   "execution_count": 65,
   "id": "7bfcf559",
   "metadata": {},
   "outputs": [
    {
     "name": "stdout",
     "output_type": "stream",
     "text": [
      "········\n"
     ]
    }
   ],
   "source": [
    "import pymysql\n",
    "from sqlalchemy import create_engine\n",
    "import getpass \n",
    "password = getpass.getpass()"
   ]
  },
  {
   "cell_type": "code",
   "execution_count": 66,
   "id": "3fce5434",
   "metadata": {},
   "outputs": [],
   "source": [
    "connection_string = 'mysql+pymysql://root:' + password + '@localhost/clean_winery'\n",
    "engine = create_engine(connection_string)"
   ]
  },
  {
   "cell_type": "markdown",
   "id": "6dba7d43",
   "metadata": {},
   "source": [
    "## Getting all the data"
   ]
  },
  {
   "cell_type": "code",
   "execution_count": 67,
   "id": "8175d30b",
   "metadata": {},
   "outputs": [],
   "source": [
    "query = ''' SELECT d.wine_id, d.type, d.wine_name, d.country, w.region, d.varietal_name, w.winery, w.year, d.style_id, d.body, d.acidity_1, s.acidity_description, d.acidity_2, d.fizziness, d.intensity, d.sweetness, d.tannin, p.vol_ml, p.price_eur, w.num_ratings, w.rate FROM to_clean d\n",
    "LEFT JOIN wine w USING (wine_id)\n",
    "LEFT JOIN purchase p USING (wine_id)\n",
    "LEFT JOIN style s USING (wine_id);'''\n",
    "\n",
    "all_data = pd.read_sql(query, engine)"
   ]
  },
  {
   "cell_type": "code",
   "execution_count": 68,
   "id": "00f7110d",
   "metadata": {},
   "outputs": [
    {
     "data": {
      "text/html": [
       "<div>\n",
       "<style scoped>\n",
       "    .dataframe tbody tr th:only-of-type {\n",
       "        vertical-align: middle;\n",
       "    }\n",
       "\n",
       "    .dataframe tbody tr th {\n",
       "        vertical-align: top;\n",
       "    }\n",
       "\n",
       "    .dataframe thead th {\n",
       "        text-align: right;\n",
       "    }\n",
       "</style>\n",
       "<table border=\"1\" class=\"dataframe\">\n",
       "  <thead>\n",
       "    <tr style=\"text-align: right;\">\n",
       "      <th></th>\n",
       "      <th>wine_id</th>\n",
       "      <th>type</th>\n",
       "      <th>wine_name</th>\n",
       "      <th>country</th>\n",
       "      <th>region</th>\n",
       "      <th>varietal_name</th>\n",
       "      <th>winery</th>\n",
       "      <th>year</th>\n",
       "      <th>style_id</th>\n",
       "      <th>body</th>\n",
       "      <th>acidity_1</th>\n",
       "      <th>acidity_description</th>\n",
       "      <th>acidity_2</th>\n",
       "      <th>fizziness</th>\n",
       "      <th>intensity</th>\n",
       "      <th>sweetness</th>\n",
       "      <th>tannin</th>\n",
       "      <th>vol_ml</th>\n",
       "      <th>price_eur</th>\n",
       "      <th>num_ratings</th>\n",
       "      <th>rate</th>\n",
       "    </tr>\n",
       "  </thead>\n",
       "  <tbody>\n",
       "    <tr>\n",
       "      <th>0</th>\n",
       "      <td>27946372</td>\n",
       "      <td>1</td>\n",
       "      <td>Paulo Laureano Dolium Reserva</td>\n",
       "      <td>portugal</td>\n",
       "      <td>Alentejo</td>\n",
       "      <td>Tinto de Alentejo</td>\n",
       "      <td>Paulo Laureano</td>\n",
       "      <td>2014</td>\n",
       "      <td>2</td>\n",
       "      <td>4.0</td>\n",
       "      <td>3.0</td>\n",
       "      <td>Alta</td>\n",
       "      <td>3.36</td>\n",
       "      <td>0.0</td>\n",
       "      <td>3.97</td>\n",
       "      <td>1.67</td>\n",
       "      <td>3.25</td>\n",
       "      <td>750.0</td>\n",
       "      <td>58.0</td>\n",
       "      <td>721</td>\n",
       "      <td>4.2</td>\n",
       "    </tr>\n",
       "    <tr>\n",
       "      <th>1</th>\n",
       "      <td>5624201</td>\n",
       "      <td>1</td>\n",
       "      <td>Herdade do Rocim Grande Rocim Reserva Tinto</td>\n",
       "      <td>portugal</td>\n",
       "      <td>Alentejo</td>\n",
       "      <td>Tinto de Alentejo</td>\n",
       "      <td>Herdade do Rocim</td>\n",
       "      <td>2013</td>\n",
       "      <td>2</td>\n",
       "      <td>4.0</td>\n",
       "      <td>3.0</td>\n",
       "      <td>Alta</td>\n",
       "      <td>3.00</td>\n",
       "      <td>0.0</td>\n",
       "      <td>4.26</td>\n",
       "      <td>2.14</td>\n",
       "      <td>3.18</td>\n",
       "      <td>750.0</td>\n",
       "      <td>72.5</td>\n",
       "      <td>1256</td>\n",
       "      <td>4.2</td>\n",
       "    </tr>\n",
       "    <tr>\n",
       "      <th>2</th>\n",
       "      <td>2020315</td>\n",
       "      <td>1</td>\n",
       "      <td>Dona Maria Reserva</td>\n",
       "      <td>portugal</td>\n",
       "      <td>Alentejo</td>\n",
       "      <td>Tinto de Alentejo</td>\n",
       "      <td>Dona Maria</td>\n",
       "      <td>2005</td>\n",
       "      <td>2</td>\n",
       "      <td>4.0</td>\n",
       "      <td>3.0</td>\n",
       "      <td>Alta</td>\n",
       "      <td>2.98</td>\n",
       "      <td>0.0</td>\n",
       "      <td>4.11</td>\n",
       "      <td>1.73</td>\n",
       "      <td>2.79</td>\n",
       "      <td>750.0</td>\n",
       "      <td>42.0</td>\n",
       "      <td>3040</td>\n",
       "      <td>4.0</td>\n",
       "    </tr>\n",
       "    <tr>\n",
       "      <th>3</th>\n",
       "      <td>144779059</td>\n",
       "      <td>1</td>\n",
       "      <td>Paulo Laureano Bacalhau Escolha Tinto</td>\n",
       "      <td>portugal</td>\n",
       "      <td>Alentejo</td>\n",
       "      <td>Tinto de Alentejo</td>\n",
       "      <td>Paulo Laureano</td>\n",
       "      <td>2016</td>\n",
       "      <td>2</td>\n",
       "      <td>4.0</td>\n",
       "      <td>3.0</td>\n",
       "      <td>Alta</td>\n",
       "      <td>2.88</td>\n",
       "      <td>0.0</td>\n",
       "      <td>3.92</td>\n",
       "      <td>1.64</td>\n",
       "      <td>3.09</td>\n",
       "      <td>750.0</td>\n",
       "      <td>17.0</td>\n",
       "      <td>538</td>\n",
       "      <td>4.0</td>\n",
       "    </tr>\n",
       "    <tr>\n",
       "      <th>4</th>\n",
       "      <td>13551606</td>\n",
       "      <td>1</td>\n",
       "      <td>Herdade do Menir Vale de Ancho Reserva</td>\n",
       "      <td>portugal</td>\n",
       "      <td>Alentejo</td>\n",
       "      <td>Tinto de Alentejo</td>\n",
       "      <td>Herdade do Menir</td>\n",
       "      <td>2011</td>\n",
       "      <td>2</td>\n",
       "      <td>4.0</td>\n",
       "      <td>3.0</td>\n",
       "      <td>Alta</td>\n",
       "      <td>3.02</td>\n",
       "      <td>0.0</td>\n",
       "      <td>4.31</td>\n",
       "      <td>2.21</td>\n",
       "      <td>3.43</td>\n",
       "      <td>750.0</td>\n",
       "      <td>44.0</td>\n",
       "      <td>972</td>\n",
       "      <td>4.3</td>\n",
       "    </tr>\n",
       "  </tbody>\n",
       "</table>\n",
       "</div>"
      ],
      "text/plain": [
       "     wine_id  type                                     wine_name   country  \\\n",
       "0   27946372     1                Paulo Laureano Dolium Reserva   portugal   \n",
       "1    5624201     1  Herdade do Rocim Grande Rocim Reserva Tinto   portugal   \n",
       "2    2020315     1                           Dona Maria Reserva   portugal   \n",
       "3  144779059     1        Paulo Laureano Bacalhau Escolha Tinto   portugal   \n",
       "4   13551606     1       Herdade do Menir Vale de Ancho Reserva   portugal   \n",
       "\n",
       "     region      varietal_name            winery  year  style_id  body  \\\n",
       "0  Alentejo  Tinto de Alentejo    Paulo Laureano  2014         2   4.0   \n",
       "1  Alentejo  Tinto de Alentejo  Herdade do Rocim  2013         2   4.0   \n",
       "2  Alentejo  Tinto de Alentejo        Dona Maria  2005         2   4.0   \n",
       "3  Alentejo  Tinto de Alentejo    Paulo Laureano  2016         2   4.0   \n",
       "4  Alentejo  Tinto de Alentejo  Herdade do Menir  2011         2   4.0   \n",
       "\n",
       "   acidity_1 acidity_description  acidity_2  fizziness  intensity  sweetness  \\\n",
       "0        3.0                Alta       3.36        0.0       3.97       1.67   \n",
       "1        3.0                Alta       3.00        0.0       4.26       2.14   \n",
       "2        3.0                Alta       2.98        0.0       4.11       1.73   \n",
       "3        3.0                Alta       2.88        0.0       3.92       1.64   \n",
       "4        3.0                Alta       3.02        0.0       4.31       2.21   \n",
       "\n",
       "   tannin  vol_ml  price_eur  num_ratings  rate  \n",
       "0    3.25   750.0       58.0          721   4.2  \n",
       "1    3.18   750.0       72.5         1256   4.2  \n",
       "2    2.79   750.0       42.0         3040   4.0  \n",
       "3    3.09   750.0       17.0          538   4.0  \n",
       "4    3.43   750.0       44.0          972   4.3  "
      ]
     },
     "execution_count": 68,
     "metadata": {},
     "output_type": "execute_result"
    }
   ],
   "source": [
    "all_data.head()"
   ]
  },
  {
   "cell_type": "code",
   "execution_count": 69,
   "id": "8b65574a",
   "metadata": {},
   "outputs": [
    {
     "data": {
      "text/plain": [
       "Blanco                     4096\n",
       "Tinto                      2961\n",
       "Riesling                    975\n",
       "Tinto de Douro              743\n",
       "Chardonnay                  693\n",
       "                           ... \n",
       "Malbec - Syrah                2\n",
       "Chasselas                     1\n",
       "Merlot - Syrah                1\n",
       "Dornfelder                    1\n",
       "Chenin blanc - Viognier       1\n",
       "Name: varietal_name, Length: 117, dtype: int64"
      ]
     },
     "execution_count": 69,
     "metadata": {},
     "output_type": "execute_result"
    }
   ],
   "source": [
    "all_data['varietal_name'].value_counts()"
   ]
  },
  {
   "cell_type": "code",
   "execution_count": 70,
   "id": "97baec53",
   "metadata": {},
   "outputs": [],
   "source": [
    "all_data['varietal_name'] = np.where(all_data['varietal_name'].isin(['Muscat','Muscadet', 'Moscatel - Chardonnay']),'Moscatel',all_data['varietal_name'])"
   ]
  },
  {
   "cell_type": "code",
   "execution_count": 71,
   "id": "5b84e993",
   "metadata": {},
   "outputs": [],
   "source": [
    "all_data['varietal_name'] = np.where(all_data['varietal_name'].isin(['Pinot noir']),'Pinot Noir',all_data['varietal_name'])"
   ]
  },
  {
   "cell_type": "code",
   "execution_count": 72,
   "id": "8a0628cb",
   "metadata": {},
   "outputs": [],
   "source": [
    "all_data['varietal_name'] = np.where(all_data['varietal_name'].isin(['Petite Sirah']),'Syrah',all_data['varietal_name'])"
   ]
  },
  {
   "cell_type": "code",
   "execution_count": 73,
   "id": "cf0d58dd",
   "metadata": {},
   "outputs": [],
   "source": [
    "all_data['varietal_name'] = np.where(all_data['varietal_name'].isin(['Pinot gris']),'Pinot Gris',all_data['varietal_name'])"
   ]
  },
  {
   "cell_type": "code",
   "execution_count": 74,
   "id": "678274a6",
   "metadata": {},
   "outputs": [],
   "source": [
    "all_data['varietal_name'] = np.where(all_data['varietal_name'].isin(['Pinot blanc']),'Pinot Blanc',all_data['varietal_name'])"
   ]
  },
  {
   "cell_type": "code",
   "execution_count": 75,
   "id": "2947680b",
   "metadata": {},
   "outputs": [],
   "source": [
    "all_data['varietal_name'] = np.where(all_data['varietal_name'].isin(['Blend blanco']),'Blanco',all_data['varietal_name'])"
   ]
  },
  {
   "cell_type": "code",
   "execution_count": 76,
   "id": "f503949b",
   "metadata": {},
   "outputs": [],
   "source": [
    "all_data['varietal_name'] = np.where(all_data['varietal_name'].isin(['Blend tinto']),'Tinto',all_data['varietal_name'])"
   ]
  },
  {
   "cell_type": "markdown",
   "id": "b6016663",
   "metadata": {},
   "source": [
    "#### changing the combinations of varietal types, to the first one"
   ]
  },
  {
   "cell_type": "code",
   "execution_count": 77,
   "id": "042fc043",
   "metadata": {},
   "outputs": [],
   "source": [
    "all_data['varietal_name'] = np.where(all_data['varietal_name'].isin(['Sauvignon Blanc - Muscat']),'Sauvignon Blanc',all_data['varietal_name'])"
   ]
  },
  {
   "cell_type": "code",
   "execution_count": 78,
   "id": "38d6f088",
   "metadata": {},
   "outputs": [],
   "source": [
    "all_data['varietal_name'] = np.where(all_data['varietal_name'].isin(['Malbec - Syrah']),'Malbec',all_data['varietal_name'])"
   ]
  },
  {
   "cell_type": "code",
   "execution_count": 79,
   "id": "988931f1",
   "metadata": {},
   "outputs": [],
   "source": [
    "all_data['varietal_name'] = np.where(all_data['varietal_name'].isin(['Torrontés - Riesling']),'Torrontés',all_data['varietal_name'])"
   ]
  },
  {
   "cell_type": "code",
   "execution_count": 80,
   "id": "c81417a9",
   "metadata": {},
   "outputs": [],
   "source": [
    "all_data['varietal_name'] = np.where(all_data['varietal_name'].isin(['Chardonnay - Pinot Noir']),'Chardonnay',all_data['varietal_name'])"
   ]
  },
  {
   "cell_type": "code",
   "execution_count": 81,
   "id": "00482b67",
   "metadata": {},
   "outputs": [],
   "source": [
    "all_data['varietal_name'] = np.where(all_data['varietal_name'].isin(['Cabernet - Syrah']),'Cabernet',all_data['varietal_name'])"
   ]
  },
  {
   "cell_type": "code",
   "execution_count": 82,
   "id": "c00b784f",
   "metadata": {},
   "outputs": [],
   "source": [
    "all_data['varietal_name'] = np.where(all_data['varietal_name'].isin(['Syrah - Viognier']),'Syrah',all_data['varietal_name'])"
   ]
  },
  {
   "cell_type": "code",
   "execution_count": 83,
   "id": "551041be",
   "metadata": {},
   "outputs": [],
   "source": [
    "all_data['varietal_name'] = np.where(all_data['varietal_name'].isin(['Cabernet - Malbec']),'Cabernet',all_data['varietal_name'])"
   ]
  },
  {
   "cell_type": "code",
   "execution_count": 84,
   "id": "37938578",
   "metadata": {},
   "outputs": [],
   "source": [
    "all_data['varietal_name'] = np.where(all_data['varietal_name'].isin(['Merlot - Syrah']),'Merlot',all_data['varietal_name'])"
   ]
  },
  {
   "cell_type": "code",
   "execution_count": 85,
   "id": "b76aa53d",
   "metadata": {},
   "outputs": [],
   "source": [
    "all_data['varietal_name'] = np.where(all_data['varietal_name'].isin(['Chenin blanc - Viognier']),'Chenin blanc',all_data['varietal_name'])"
   ]
  },
  {
   "cell_type": "code",
   "execution_count": 86,
   "id": "07258e73",
   "metadata": {},
   "outputs": [],
   "source": [
    "all_data['varietal_name'] = np.where(all_data['varietal_name'].isin(['Cabernet - Shiraz']),'Cabernet',all_data['varietal_name'])"
   ]
  },
  {
   "cell_type": "code",
   "execution_count": 87,
   "id": "541e492c",
   "metadata": {},
   "outputs": [],
   "source": [
    "all_data['varietal_name'] = np.where(all_data['varietal_name'].isin(['Sauvignon blanc']),'Sauvignon Blanc',all_data['varietal_name'])"
   ]
  },
  {
   "cell_type": "code",
   "execution_count": 88,
   "id": "b57fc024",
   "metadata": {},
   "outputs": [],
   "source": [
    "all_data['varietal_name'] = np.where(all_data['varietal_name'].isin(['Blend de Pinotage']),'Pinotage',all_data['varietal_name'])"
   ]
  },
  {
   "cell_type": "code",
   "execution_count": 89,
   "id": "dc6532b5",
   "metadata": {},
   "outputs": [],
   "source": [
    "all_data['varietal_name'] = np.where(all_data['varietal_name'].isin(['ALbariño']),'Albariño',all_data['varietal_name'])"
   ]
  },
  {
   "cell_type": "code",
   "execution_count": 90,
   "id": "394ca26d",
   "metadata": {},
   "outputs": [],
   "source": [
    "all_data['varietal_name'] = np.where(all_data['varietal_name'].isin(['Blanco de Côte Chalonnaise','Tinto de Côte Chalonnaise']),'Cote Chalonnaise',all_data['varietal_name'])"
   ]
  },
  {
   "cell_type": "code",
   "execution_count": 91,
   "id": "383ddd8a",
   "metadata": {},
   "outputs": [],
   "source": [
    "all_data['varietal_name'] = np.where(all_data['varietal_name'].isin(['Blanco de Côte de Beaune','Tinto de Côte de Beaune']),'Cote Beaune',all_data['varietal_name'])"
   ]
  },
  {
   "cell_type": "code",
   "execution_count": 92,
   "id": "daf88ca8",
   "metadata": {},
   "outputs": [],
   "source": [
    "all_data['varietal_name'] = np.where(all_data['varietal_name'].isin(['Blanco de Côte de Nuits','Tinto de Côte de Nuits']),'Cote Nuits',all_data['varietal_name'])"
   ]
  },
  {
   "cell_type": "code",
   "execution_count": 93,
   "id": "00d1f57f",
   "metadata": {},
   "outputs": [],
   "source": [
    "all_data['varietal_name'] = np.where(all_data['varietal_name'].isin(['Blanco de Rioja','Tinto de Rioja']),'Rioja',all_data['varietal_name'])"
   ]
  },
  {
   "cell_type": "code",
   "execution_count": 94,
   "id": "e45b5c68",
   "metadata": {},
   "outputs": [],
   "source": [
    "all_data['varietal_name'] = np.where(all_data['varietal_name'].isin(['Tinto de Graves']),'Tinto',all_data['varietal_name'])"
   ]
  },
  {
   "cell_type": "code",
   "execution_count": 95,
   "id": "bfe123b1",
   "metadata": {},
   "outputs": [],
   "source": [
    "all_data['varietal_name'] = np.where(all_data['varietal_name'].isin(['Tinto de Valpolicella']),'Tinto',all_data['varietal_name'])"
   ]
  },
  {
   "cell_type": "code",
   "execution_count": 96,
   "id": "bc90d0bc",
   "metadata": {},
   "outputs": [
    {
     "data": {
      "text/html": [
       "<div>\n",
       "<style scoped>\n",
       "    .dataframe tbody tr th:only-of-type {\n",
       "        vertical-align: middle;\n",
       "    }\n",
       "\n",
       "    .dataframe tbody tr th {\n",
       "        vertical-align: top;\n",
       "    }\n",
       "\n",
       "    .dataframe thead th {\n",
       "        text-align: right;\n",
       "    }\n",
       "</style>\n",
       "<table border=\"1\" class=\"dataframe\">\n",
       "  <thead>\n",
       "    <tr style=\"text-align: right;\">\n",
       "      <th></th>\n",
       "      <th>varietal_name</th>\n",
       "      <th>wine_id</th>\n",
       "    </tr>\n",
       "  </thead>\n",
       "  <tbody>\n",
       "    <tr>\n",
       "      <th>17</th>\n",
       "      <td>Carménère</td>\n",
       "      <td>47</td>\n",
       "    </tr>\n",
       "    <tr>\n",
       "      <th>36</th>\n",
       "      <td>Hermitage</td>\n",
       "      <td>43</td>\n",
       "    </tr>\n",
       "    <tr>\n",
       "      <th>29</th>\n",
       "      <td>Côte-Rotie</td>\n",
       "      <td>41</td>\n",
       "    </tr>\n",
       "    <tr>\n",
       "      <th>44</th>\n",
       "      <td>Moscatel</td>\n",
       "      <td>40</td>\n",
       "    </tr>\n",
       "    <tr>\n",
       "      <th>90</th>\n",
       "      <td>Viognier</td>\n",
       "      <td>34</td>\n",
       "    </tr>\n",
       "    <tr>\n",
       "      <th>42</th>\n",
       "      <td>Monastrell</td>\n",
       "      <td>34</td>\n",
       "    </tr>\n",
       "    <tr>\n",
       "      <th>61</th>\n",
       "      <td>Saint-Estèphe</td>\n",
       "      <td>33</td>\n",
       "    </tr>\n",
       "    <tr>\n",
       "      <th>31</th>\n",
       "      <td>Gavi</td>\n",
       "      <td>32</td>\n",
       "    </tr>\n",
       "    <tr>\n",
       "      <th>62</th>\n",
       "      <td>Saint-Joseph</td>\n",
       "      <td>26</td>\n",
       "    </tr>\n",
       "    <tr>\n",
       "      <th>43</th>\n",
       "      <td>Montepulciano d'Abruzzo</td>\n",
       "      <td>26</td>\n",
       "    </tr>\n",
       "    <tr>\n",
       "      <th>26</th>\n",
       "      <td>Cote Chalonnaise</td>\n",
       "      <td>25</td>\n",
       "    </tr>\n",
       "    <tr>\n",
       "      <th>84</th>\n",
       "      <td>Torrontés</td>\n",
       "      <td>24</td>\n",
       "    </tr>\n",
       "    <tr>\n",
       "      <th>28</th>\n",
       "      <td>Crozes-Hermitage</td>\n",
       "      <td>21</td>\n",
       "    </tr>\n",
       "    <tr>\n",
       "      <th>46</th>\n",
       "      <td>Müller Thurgau</td>\n",
       "      <td>20</td>\n",
       "    </tr>\n",
       "    <tr>\n",
       "      <th>64</th>\n",
       "      <td>Saint-Péray</td>\n",
       "      <td>17</td>\n",
       "    </tr>\n",
       "    <tr>\n",
       "      <th>11</th>\n",
       "      <td>Bonarda</td>\n",
       "      <td>15</td>\n",
       "    </tr>\n",
       "    <tr>\n",
       "      <th>88</th>\n",
       "      <td>Vino Nobile di Montepulciano</td>\n",
       "      <td>13</td>\n",
       "    </tr>\n",
       "    <tr>\n",
       "      <th>85</th>\n",
       "      <td>Treixadura</td>\n",
       "      <td>12</td>\n",
       "    </tr>\n",
       "    <tr>\n",
       "      <th>69</th>\n",
       "      <td>Silvaner</td>\n",
       "      <td>12</td>\n",
       "    </tr>\n",
       "    <tr>\n",
       "      <th>60</th>\n",
       "      <td>Ripasso</td>\n",
       "      <td>10</td>\n",
       "    </tr>\n",
       "    <tr>\n",
       "      <th>24</th>\n",
       "      <td>Cornas</td>\n",
       "      <td>9</td>\n",
       "    </tr>\n",
       "    <tr>\n",
       "      <th>16</th>\n",
       "      <td>Cannonau</td>\n",
       "      <td>8</td>\n",
       "    </tr>\n",
       "    <tr>\n",
       "      <th>79</th>\n",
       "      <td>Tinto de Libourne</td>\n",
       "      <td>7</td>\n",
       "    </tr>\n",
       "    <tr>\n",
       "      <th>66</th>\n",
       "      <td>Sangiovese</td>\n",
       "      <td>6</td>\n",
       "    </tr>\n",
       "    <tr>\n",
       "      <th>49</th>\n",
       "      <td>Pedro Ximenez</td>\n",
       "      <td>6</td>\n",
       "    </tr>\n",
       "    <tr>\n",
       "      <th>89</th>\n",
       "      <td>Vino espumoso</td>\n",
       "      <td>4</td>\n",
       "    </tr>\n",
       "    <tr>\n",
       "      <th>37</th>\n",
       "      <td>Jerez</td>\n",
       "      <td>3</td>\n",
       "    </tr>\n",
       "    <tr>\n",
       "      <th>87</th>\n",
       "      <td>Vin Jaune</td>\n",
       "      <td>2</td>\n",
       "    </tr>\n",
       "    <tr>\n",
       "      <th>20</th>\n",
       "      <td>Chasselas</td>\n",
       "      <td>1</td>\n",
       "    </tr>\n",
       "    <tr>\n",
       "      <th>30</th>\n",
       "      <td>Dornfelder</td>\n",
       "      <td>1</td>\n",
       "    </tr>\n",
       "  </tbody>\n",
       "</table>\n",
       "</div>"
      ],
      "text/plain": [
       "                   varietal_name  wine_id\n",
       "17                     Carménère       47\n",
       "36                     Hermitage       43\n",
       "29                    Côte-Rotie       41\n",
       "44                      Moscatel       40\n",
       "90                      Viognier       34\n",
       "42                    Monastrell       34\n",
       "61                 Saint-Estèphe       33\n",
       "31                          Gavi       32\n",
       "62                  Saint-Joseph       26\n",
       "43       Montepulciano d'Abruzzo       26\n",
       "26              Cote Chalonnaise       25\n",
       "84                     Torrontés       24\n",
       "28              Crozes-Hermitage       21\n",
       "46                Müller Thurgau       20\n",
       "64                   Saint-Péray       17\n",
       "11                       Bonarda       15\n",
       "88  Vino Nobile di Montepulciano       13\n",
       "85                    Treixadura       12\n",
       "69                      Silvaner       12\n",
       "60                       Ripasso       10\n",
       "24                        Cornas        9\n",
       "16                      Cannonau        8\n",
       "79             Tinto de Libourne        7\n",
       "66                    Sangiovese        6\n",
       "49                 Pedro Ximenez        6\n",
       "89                 Vino espumoso        4\n",
       "37                         Jerez        3\n",
       "87                     Vin Jaune        2\n",
       "20                     Chasselas        1\n",
       "30                    Dornfelder        1"
      ]
     },
     "execution_count": 96,
     "metadata": {},
     "output_type": "execute_result"
    }
   ],
   "source": [
    "all_data.groupby(['varietal_name']).agg({'wine_id':pd.Series.nunique}).reset_index().sort_values(by = 'wine_id',ascending=False).tail(30)"
   ]
  },
  {
   "cell_type": "markdown",
   "id": "104093d2",
   "metadata": {},
   "source": [
    "## Encoding acidity description, just in case"
   ]
  },
  {
   "cell_type": "code",
   "execution_count": 97,
   "id": "f160fd7e",
   "metadata": {},
   "outputs": [
    {
     "data": {
      "text/plain": [
       "Alta     16184\n",
       "Media     1852\n",
       "Baja       249\n",
       "216          3\n",
       "136          2\n",
       "55           1\n",
       "131          1\n",
       "Name: acidity_description, dtype: int64"
      ]
     },
     "execution_count": 97,
     "metadata": {},
     "output_type": "execute_result"
    }
   ],
   "source": [
    "all_data['acidity_description'].value_counts()"
   ]
  },
  {
   "cell_type": "code",
   "execution_count": 98,
   "id": "86abb7c8",
   "metadata": {},
   "outputs": [],
   "source": [
    "all_data['acidity_description'] = all_data['acidity_description'].map({'Alta':'High', 'Media':'Medium', 'Baja':'Low'})"
   ]
  },
  {
   "cell_type": "code",
   "execution_count": 99,
   "id": "e7ae84c9",
   "metadata": {},
   "outputs": [
    {
     "data": {
      "text/plain": [
       "High      16184\n",
       "Medium     1852\n",
       "Low         249\n",
       "Name: acidity_description, dtype: int64"
      ]
     },
     "execution_count": 99,
     "metadata": {},
     "output_type": "execute_result"
    }
   ],
   "source": [
    "all_data['acidity_description'].value_counts()"
   ]
  },
  {
   "cell_type": "markdown",
   "id": "b4e8dc10",
   "metadata": {},
   "source": [
    "## Again checking and cleaning region and varietal name columns"
   ]
  },
  {
   "cell_type": "code",
   "execution_count": 100,
   "id": "cdb5c402",
   "metadata": {},
   "outputs": [
    {
     "data": {
      "text/plain": [
       "Douro                979\n",
       "Stellenbosch         708\n",
       "Rioja                647\n",
       "Ribera del Duero     562\n",
       "Pfalz                439\n",
       "                    ... \n",
       "New South Wales        1\n",
       "Khvanchkara            1\n",
       "Colli del Limbara      1\n",
       "Valle del Malleco      1\n",
       "Istria                 1\n",
       "Name: region, Length: 1008, dtype: int64"
      ]
     },
     "execution_count": 100,
     "metadata": {},
     "output_type": "execute_result"
    }
   ],
   "source": [
    "all_data['region'].value_counts()"
   ]
  },
  {
   "cell_type": "code",
   "execution_count": 101,
   "id": "8431e862",
   "metadata": {},
   "outputs": [],
   "source": [
    "all_data['varietal_name'] = np.where(all_data['varietal_name'].isin(['Tinto de Alentejo','Tinto de Douro','Tinto de Montsant','Tinto de Dão','Tinto de Priorat','Tinto de Ribera del Duero','Tinto de Toro','Tinto de Châteauneuf-du-Pape']),'Tinto',all_data['varietal_name'])"
   ]
  },
  {
   "cell_type": "code",
   "execution_count": 102,
   "id": "f0349a09",
   "metadata": {},
   "outputs": [
    {
     "data": {
      "text/plain": [
       "Tinto            5275\n",
       "Blanco           4102\n",
       "Riesling          975\n",
       "Chardonnay        696\n",
       "Rioja             659\n",
       "                 ... \n",
       "Vino espumoso       4\n",
       "Jerez               3\n",
       "Vin Jaune           2\n",
       "Chasselas           1\n",
       "Dornfelder          1\n",
       "Name: varietal_name, Length: 84, dtype: int64"
      ]
     },
     "execution_count": 102,
     "metadata": {},
     "output_type": "execute_result"
    }
   ],
   "source": [
    "all_data['varietal_name'].value_counts()"
   ]
  },
  {
   "cell_type": "code",
   "execution_count": 103,
   "id": "b3120199",
   "metadata": {},
   "outputs": [],
   "source": [
    "all_data['varietal_name'] = np.where(all_data['varietal_name'].isin(['Blanco vinho verde']),'Vinho verde',all_data['varietal_name'])"
   ]
  },
  {
   "cell_type": "code",
   "execution_count": 104,
   "id": "d1381da8",
   "metadata": {},
   "outputs": [],
   "source": [
    "all_data['varietal_name'] = np.where(all_data['varietal_name'].isin(['Blanco de Macônnais']),'Maconnais',all_data['varietal_name'])"
   ]
  },
  {
   "cell_type": "code",
   "execution_count": 105,
   "id": "58f04352",
   "metadata": {},
   "outputs": [],
   "source": [
    "all_data['varietal_name'] = np.where(all_data['varietal_name'].isin(['Tinto de Libourne']),'Libourne',all_data['varietal_name'])"
   ]
  },
  {
   "cell_type": "code",
   "execution_count": 106,
   "id": "4ba523a4",
   "metadata": {},
   "outputs": [],
   "source": [
    "all_data['region'] = np.where(all_data['region'].isin(['Vino Nobile di Montepulciano']),'Montepulciano',all_data['region'])"
   ]
  },
  {
   "cell_type": "code",
   "execution_count": 107,
   "id": "2d1c45fe",
   "metadata": {},
   "outputs": [],
   "source": [
    "all_data['varietal_name'] = np.where(all_data['varietal_name'].isin(['Vino Nobile di Montepulciano']),'Sangiovese',all_data['varietal_name'])"
   ]
  },
  {
   "cell_type": "code",
   "execution_count": 108,
   "id": "d8e50a08",
   "metadata": {},
   "outputs": [],
   "source": [
    "all_data['region'] = np.where(all_data['region'].isin([\"Montepulciano d'Abruzzo\"]),'Abruzzo',all_data['region'])"
   ]
  },
  {
   "cell_type": "code",
   "execution_count": 109,
   "id": "1872ab38",
   "metadata": {},
   "outputs": [],
   "source": [
    "all_data['varietal_name'] = np.where(all_data['varietal_name'].isin([\"Montepulciano d'Abruzzo\"]),'Montepulciano',all_data['varietal_name'])"
   ]
  },
  {
   "cell_type": "code",
   "execution_count": 110,
   "id": "31444449",
   "metadata": {},
   "outputs": [],
   "source": [
    "all_data['varietal_name'] = np.where(all_data['varietal_name'].isin(['Saint-Joseph']),'Syrah',all_data['varietal_name'])"
   ]
  },
  {
   "cell_type": "code",
   "execution_count": 111,
   "id": "0f2bbd26",
   "metadata": {},
   "outputs": [],
   "source": [
    "all_data['varietal_name'] = np.where(all_data['varietal_name'].isin(['Saint-Julien','Pessac-Léognan']),'Cabernet Sauvignon',all_data['varietal_name'])"
   ]
  },
  {
   "cell_type": "code",
   "execution_count": 112,
   "id": "f134ef54",
   "metadata": {},
   "outputs": [],
   "source": [
    "all_data['varietal_name'] = np.where(all_data['varietal_name'].isin(['Saint-Émilion']),'Merlot',all_data['varietal_name'])"
   ]
  },
  {
   "cell_type": "code",
   "execution_count": null,
   "id": "60aceae8",
   "metadata": {},
   "outputs": [],
   "source": []
  },
  {
   "cell_type": "markdown",
   "id": "f61b8b01",
   "metadata": {},
   "source": [
    "## Giving name to the type column"
   ]
  },
  {
   "cell_type": "code",
   "execution_count": 113,
   "id": "af7e4ffd",
   "metadata": {},
   "outputs": [
    {
     "data": {
      "text/plain": [
       "1    11864\n",
       "2     9257\n",
       "Name: type, dtype: int64"
      ]
     },
     "execution_count": 113,
     "metadata": {},
     "output_type": "execute_result"
    }
   ],
   "source": [
    "all_data['type'].value_counts()"
   ]
  },
  {
   "cell_type": "code",
   "execution_count": 114,
   "id": "1a007c9f",
   "metadata": {
    "scrolled": true
   },
   "outputs": [
    {
     "data": {
      "text/plain": [
       "Red      11864\n",
       "White     9257\n",
       "Name: type, dtype: int64"
      ]
     },
     "execution_count": 114,
     "metadata": {},
     "output_type": "execute_result"
    }
   ],
   "source": [
    "all_data['type'] = all_data['type'].map({1:'Red', 2:'White'})\n",
    "all_data['type'].value_counts()"
   ]
  },
  {
   "cell_type": "markdown",
   "id": "f35cc94e",
   "metadata": {},
   "source": [
    "### Saving changes, just in case"
   ]
  },
  {
   "cell_type": "code",
   "execution_count": 115,
   "id": "8e1277fe",
   "metadata": {},
   "outputs": [
    {
     "data": {
      "text/plain": [
       "21121"
      ]
     },
     "execution_count": 115,
     "metadata": {},
     "output_type": "execute_result"
    }
   ],
   "source": [
    "all_data.to_csv('all_data.csv',index = False)\n",
    "all_data.to_sql('all_data', con = engine, if_exists = 'replace', index = False )"
   ]
  },
  {
   "cell_type": "code",
   "execution_count": null,
   "id": "77d44f82",
   "metadata": {},
   "outputs": [],
   "source": []
  },
  {
   "cell_type": "markdown",
   "id": "ae18b9da",
   "metadata": {},
   "source": [
    "## Checking and dealing with NaNs"
   ]
  },
  {
   "cell_type": "code",
   "execution_count": 116,
   "id": "fd941ecb",
   "metadata": {},
   "outputs": [
    {
     "data": {
      "text/plain": [
       "wine_id                   0\n",
       "type                      0\n",
       "wine_name                 0\n",
       "country                   0\n",
       "region                    0\n",
       "varietal_name             0\n",
       "winery                    0\n",
       "year                      0\n",
       "style_id                  0\n",
       "body                   2829\n",
       "acidity_1              2829\n",
       "acidity_description    2836\n",
       "acidity_2              2829\n",
       "fizziness              2829\n",
       "intensity              2829\n",
       "sweetness              2829\n",
       "tannin                 2829\n",
       "vol_ml                   25\n",
       "price_eur                25\n",
       "num_ratings               0\n",
       "rate                      0\n",
       "dtype: int64"
      ]
     },
     "execution_count": 116,
     "metadata": {},
     "output_type": "execute_result"
    }
   ],
   "source": [
    "all_data.isna().sum()"
   ]
  },
  {
   "cell_type": "code",
   "execution_count": 117,
   "id": "47f3122f",
   "metadata": {},
   "outputs": [
    {
     "data": {
      "text/html": [
       "<div>\n",
       "<style scoped>\n",
       "    .dataframe tbody tr th:only-of-type {\n",
       "        vertical-align: middle;\n",
       "    }\n",
       "\n",
       "    .dataframe tbody tr th {\n",
       "        vertical-align: top;\n",
       "    }\n",
       "\n",
       "    .dataframe thead th {\n",
       "        text-align: right;\n",
       "    }\n",
       "</style>\n",
       "<table border=\"1\" class=\"dataframe\">\n",
       "  <thead>\n",
       "    <tr style=\"text-align: right;\">\n",
       "      <th></th>\n",
       "      <th>wine_id</th>\n",
       "      <th>type</th>\n",
       "      <th>wine_name</th>\n",
       "      <th>country</th>\n",
       "      <th>region</th>\n",
       "      <th>varietal_name</th>\n",
       "      <th>winery</th>\n",
       "      <th>year</th>\n",
       "      <th>style_id</th>\n",
       "      <th>body</th>\n",
       "      <th>acidity_1</th>\n",
       "      <th>acidity_description</th>\n",
       "      <th>acidity_2</th>\n",
       "      <th>fizziness</th>\n",
       "      <th>intensity</th>\n",
       "      <th>sweetness</th>\n",
       "      <th>tannin</th>\n",
       "      <th>vol_ml</th>\n",
       "      <th>price_eur</th>\n",
       "      <th>num_ratings</th>\n",
       "      <th>rate</th>\n",
       "    </tr>\n",
       "  </thead>\n",
       "  <tbody>\n",
       "    <tr>\n",
       "      <th>3830</th>\n",
       "      <td>2560904</td>\n",
       "      <td>Red</td>\n",
       "      <td>Gaja Sorì Tildìn (Barbaresco) Langhe</td>\n",
       "      <td>italy</td>\n",
       "      <td>Barbaresco</td>\n",
       "      <td>Barbaresco</td>\n",
       "      <td>Gaja</td>\n",
       "      <td>2009</td>\n",
       "      <td>5</td>\n",
       "      <td>4.0</td>\n",
       "      <td>3.0</td>\n",
       "      <td>High</td>\n",
       "      <td>4.70</td>\n",
       "      <td>0.0</td>\n",
       "      <td>3.83</td>\n",
       "      <td>1.61</td>\n",
       "      <td>4.04</td>\n",
       "      <td>NaN</td>\n",
       "      <td>NaN</td>\n",
       "      <td>3768</td>\n",
       "      <td>4.6</td>\n",
       "    </tr>\n",
       "    <tr>\n",
       "      <th>3960</th>\n",
       "      <td>142403361</td>\n",
       "      <td>Red</td>\n",
       "      <td>Podere Forte Guardiavigna</td>\n",
       "      <td>italy</td>\n",
       "      <td>Toscana</td>\n",
       "      <td>Tinto</td>\n",
       "      <td>Podere Forte</td>\n",
       "      <td>2016</td>\n",
       "      <td>292</td>\n",
       "      <td>3.0</td>\n",
       "      <td>2.0</td>\n",
       "      <td>Medium</td>\n",
       "      <td>2.99</td>\n",
       "      <td>0.0</td>\n",
       "      <td>3.46</td>\n",
       "      <td>2.05</td>\n",
       "      <td>2.78</td>\n",
       "      <td>NaN</td>\n",
       "      <td>NaN</td>\n",
       "      <td>1361</td>\n",
       "      <td>4.5</td>\n",
       "    </tr>\n",
       "    <tr>\n",
       "      <th>3970</th>\n",
       "      <td>145627558</td>\n",
       "      <td>Red</td>\n",
       "      <td>Gaja Costa Russi (Barbaresco) Langhe</td>\n",
       "      <td>italy</td>\n",
       "      <td>Barbaresco</td>\n",
       "      <td>Barbaresco</td>\n",
       "      <td>Gaja</td>\n",
       "      <td>2016</td>\n",
       "      <td>5</td>\n",
       "      <td>4.0</td>\n",
       "      <td>3.0</td>\n",
       "      <td>High</td>\n",
       "      <td>4.65</td>\n",
       "      <td>0.0</td>\n",
       "      <td>3.76</td>\n",
       "      <td>1.77</td>\n",
       "      <td>3.96</td>\n",
       "      <td>NaN</td>\n",
       "      <td>NaN</td>\n",
       "      <td>2763</td>\n",
       "      <td>4.6</td>\n",
       "    </tr>\n",
       "    <tr>\n",
       "      <th>3971</th>\n",
       "      <td>1842729</td>\n",
       "      <td>Red</td>\n",
       "      <td>Gaja Barbaresco</td>\n",
       "      <td>italy</td>\n",
       "      <td>Barbaresco</td>\n",
       "      <td>Barbaresco</td>\n",
       "      <td>Gaja</td>\n",
       "      <td>1983</td>\n",
       "      <td>5</td>\n",
       "      <td>4.0</td>\n",
       "      <td>3.0</td>\n",
       "      <td>High</td>\n",
       "      <td>4.65</td>\n",
       "      <td>0.0</td>\n",
       "      <td>3.70</td>\n",
       "      <td>1.61</td>\n",
       "      <td>4.01</td>\n",
       "      <td>NaN</td>\n",
       "      <td>NaN</td>\n",
       "      <td>23528</td>\n",
       "      <td>4.5</td>\n",
       "    </tr>\n",
       "    <tr>\n",
       "      <th>3990</th>\n",
       "      <td>147690811</td>\n",
       "      <td>Red</td>\n",
       "      <td>Cappellano Otin Fiorin Barolo</td>\n",
       "      <td>italy</td>\n",
       "      <td>Barolo</td>\n",
       "      <td>Barolo</td>\n",
       "      <td>Cappellano</td>\n",
       "      <td>2015</td>\n",
       "      <td>7</td>\n",
       "      <td>5.0</td>\n",
       "      <td>3.0</td>\n",
       "      <td>High</td>\n",
       "      <td>4.60</td>\n",
       "      <td>0.0</td>\n",
       "      <td>3.73</td>\n",
       "      <td>1.65</td>\n",
       "      <td>4.44</td>\n",
       "      <td>NaN</td>\n",
       "      <td>NaN</td>\n",
       "      <td>2778</td>\n",
       "      <td>4.3</td>\n",
       "    </tr>\n",
       "  </tbody>\n",
       "</table>\n",
       "</div>"
      ],
      "text/plain": [
       "        wine_id type                              wine_name country  \\\n",
       "3830    2560904  Red  Gaja Sorì Tildìn (Barbaresco) Langhe    italy   \n",
       "3960  142403361  Red             Podere Forte Guardiavigna    italy   \n",
       "3970  145627558  Red  Gaja Costa Russi (Barbaresco) Langhe    italy   \n",
       "3971    1842729  Red                       Gaja Barbaresco    italy   \n",
       "3990  147690811  Red         Cappellano Otin Fiorin Barolo    italy   \n",
       "\n",
       "          region varietal_name        winery  year  style_id  body  acidity_1  \\\n",
       "3830  Barbaresco    Barbaresco          Gaja  2009         5   4.0        3.0   \n",
       "3960     Toscana         Tinto  Podere Forte  2016       292   3.0        2.0   \n",
       "3970  Barbaresco    Barbaresco          Gaja  2016         5   4.0        3.0   \n",
       "3971  Barbaresco    Barbaresco          Gaja  1983         5   4.0        3.0   \n",
       "3990      Barolo        Barolo    Cappellano  2015         7   5.0        3.0   \n",
       "\n",
       "     acidity_description  acidity_2  fizziness  intensity  sweetness  tannin  \\\n",
       "3830                High       4.70        0.0       3.83       1.61    4.04   \n",
       "3960              Medium       2.99        0.0       3.46       2.05    2.78   \n",
       "3970                High       4.65        0.0       3.76       1.77    3.96   \n",
       "3971                High       4.65        0.0       3.70       1.61    4.01   \n",
       "3990                High       4.60        0.0       3.73       1.65    4.44   \n",
       "\n",
       "      vol_ml  price_eur  num_ratings  rate  \n",
       "3830     NaN        NaN         3768   4.6  \n",
       "3960     NaN        NaN         1361   4.5  \n",
       "3970     NaN        NaN         2763   4.6  \n",
       "3971     NaN        NaN        23528   4.5  \n",
       "3990     NaN        NaN         2778   4.3  "
      ]
     },
     "execution_count": 117,
     "metadata": {},
     "output_type": "execute_result"
    }
   ],
   "source": [
    "all_data[all_data['vol_ml'].isna()].head()"
   ]
  },
  {
   "cell_type": "code",
   "execution_count": 118,
   "id": "230b4816",
   "metadata": {},
   "outputs": [],
   "source": [
    "data_to_model = all_data.drop(['wine_name','winery','vol_ml','price_eur'],axis=1)"
   ]
  },
  {
   "cell_type": "code",
   "execution_count": 119,
   "id": "3e6af09b",
   "metadata": {},
   "outputs": [
    {
     "data": {
      "text/html": [
       "<div>\n",
       "<style scoped>\n",
       "    .dataframe tbody tr th:only-of-type {\n",
       "        vertical-align: middle;\n",
       "    }\n",
       "\n",
       "    .dataframe tbody tr th {\n",
       "        vertical-align: top;\n",
       "    }\n",
       "\n",
       "    .dataframe thead th {\n",
       "        text-align: right;\n",
       "    }\n",
       "</style>\n",
       "<table border=\"1\" class=\"dataframe\">\n",
       "  <thead>\n",
       "    <tr style=\"text-align: right;\">\n",
       "      <th></th>\n",
       "      <th>wine_id</th>\n",
       "      <th>type</th>\n",
       "      <th>country</th>\n",
       "      <th>region</th>\n",
       "      <th>varietal_name</th>\n",
       "      <th>year</th>\n",
       "      <th>style_id</th>\n",
       "      <th>body</th>\n",
       "      <th>acidity_1</th>\n",
       "      <th>acidity_description</th>\n",
       "      <th>acidity_2</th>\n",
       "      <th>fizziness</th>\n",
       "      <th>intensity</th>\n",
       "      <th>sweetness</th>\n",
       "      <th>tannin</th>\n",
       "      <th>num_ratings</th>\n",
       "      <th>rate</th>\n",
       "    </tr>\n",
       "  </thead>\n",
       "  <tbody>\n",
       "    <tr>\n",
       "      <th>0</th>\n",
       "      <td>27946372</td>\n",
       "      <td>Red</td>\n",
       "      <td>portugal</td>\n",
       "      <td>Alentejo</td>\n",
       "      <td>Tinto</td>\n",
       "      <td>2014</td>\n",
       "      <td>2</td>\n",
       "      <td>4.0</td>\n",
       "      <td>3.0</td>\n",
       "      <td>High</td>\n",
       "      <td>3.36</td>\n",
       "      <td>0.0</td>\n",
       "      <td>3.97</td>\n",
       "      <td>1.67</td>\n",
       "      <td>3.25</td>\n",
       "      <td>721</td>\n",
       "      <td>4.2</td>\n",
       "    </tr>\n",
       "    <tr>\n",
       "      <th>1</th>\n",
       "      <td>5624201</td>\n",
       "      <td>Red</td>\n",
       "      <td>portugal</td>\n",
       "      <td>Alentejo</td>\n",
       "      <td>Tinto</td>\n",
       "      <td>2013</td>\n",
       "      <td>2</td>\n",
       "      <td>4.0</td>\n",
       "      <td>3.0</td>\n",
       "      <td>High</td>\n",
       "      <td>3.00</td>\n",
       "      <td>0.0</td>\n",
       "      <td>4.26</td>\n",
       "      <td>2.14</td>\n",
       "      <td>3.18</td>\n",
       "      <td>1256</td>\n",
       "      <td>4.2</td>\n",
       "    </tr>\n",
       "    <tr>\n",
       "      <th>2</th>\n",
       "      <td>2020315</td>\n",
       "      <td>Red</td>\n",
       "      <td>portugal</td>\n",
       "      <td>Alentejo</td>\n",
       "      <td>Tinto</td>\n",
       "      <td>2005</td>\n",
       "      <td>2</td>\n",
       "      <td>4.0</td>\n",
       "      <td>3.0</td>\n",
       "      <td>High</td>\n",
       "      <td>2.98</td>\n",
       "      <td>0.0</td>\n",
       "      <td>4.11</td>\n",
       "      <td>1.73</td>\n",
       "      <td>2.79</td>\n",
       "      <td>3040</td>\n",
       "      <td>4.0</td>\n",
       "    </tr>\n",
       "    <tr>\n",
       "      <th>3</th>\n",
       "      <td>144779059</td>\n",
       "      <td>Red</td>\n",
       "      <td>portugal</td>\n",
       "      <td>Alentejo</td>\n",
       "      <td>Tinto</td>\n",
       "      <td>2016</td>\n",
       "      <td>2</td>\n",
       "      <td>4.0</td>\n",
       "      <td>3.0</td>\n",
       "      <td>High</td>\n",
       "      <td>2.88</td>\n",
       "      <td>0.0</td>\n",
       "      <td>3.92</td>\n",
       "      <td>1.64</td>\n",
       "      <td>3.09</td>\n",
       "      <td>538</td>\n",
       "      <td>4.0</td>\n",
       "    </tr>\n",
       "    <tr>\n",
       "      <th>4</th>\n",
       "      <td>13551606</td>\n",
       "      <td>Red</td>\n",
       "      <td>portugal</td>\n",
       "      <td>Alentejo</td>\n",
       "      <td>Tinto</td>\n",
       "      <td>2011</td>\n",
       "      <td>2</td>\n",
       "      <td>4.0</td>\n",
       "      <td>3.0</td>\n",
       "      <td>High</td>\n",
       "      <td>3.02</td>\n",
       "      <td>0.0</td>\n",
       "      <td>4.31</td>\n",
       "      <td>2.21</td>\n",
       "      <td>3.43</td>\n",
       "      <td>972</td>\n",
       "      <td>4.3</td>\n",
       "    </tr>\n",
       "    <tr>\n",
       "      <th>...</th>\n",
       "      <td>...</td>\n",
       "      <td>...</td>\n",
       "      <td>...</td>\n",
       "      <td>...</td>\n",
       "      <td>...</td>\n",
       "      <td>...</td>\n",
       "      <td>...</td>\n",
       "      <td>...</td>\n",
       "      <td>...</td>\n",
       "      <td>...</td>\n",
       "      <td>...</td>\n",
       "      <td>...</td>\n",
       "      <td>...</td>\n",
       "      <td>...</td>\n",
       "      <td>...</td>\n",
       "      <td>...</td>\n",
       "      <td>...</td>\n",
       "    </tr>\n",
       "    <tr>\n",
       "      <th>21116</th>\n",
       "      <td>156300743</td>\n",
       "      <td>Red</td>\n",
       "      <td>germany</td>\n",
       "      <td>Pfalz</td>\n",
       "      <td>Tinto</td>\n",
       "      <td>2017</td>\n",
       "      <td>0</td>\n",
       "      <td>NaN</td>\n",
       "      <td>NaN</td>\n",
       "      <td>NaN</td>\n",
       "      <td>NaN</td>\n",
       "      <td>NaN</td>\n",
       "      <td>NaN</td>\n",
       "      <td>NaN</td>\n",
       "      <td>NaN</td>\n",
       "      <td>159</td>\n",
       "      <td>3.9</td>\n",
       "    </tr>\n",
       "    <tr>\n",
       "      <th>21117</th>\n",
       "      <td>165752431</td>\n",
       "      <td>Red</td>\n",
       "      <td>germany</td>\n",
       "      <td>Pfalz</td>\n",
       "      <td>Tinto</td>\n",
       "      <td>2019</td>\n",
       "      <td>0</td>\n",
       "      <td>NaN</td>\n",
       "      <td>NaN</td>\n",
       "      <td>NaN</td>\n",
       "      <td>NaN</td>\n",
       "      <td>NaN</td>\n",
       "      <td>NaN</td>\n",
       "      <td>NaN</td>\n",
       "      <td>NaN</td>\n",
       "      <td>216</td>\n",
       "      <td>3.9</td>\n",
       "    </tr>\n",
       "    <tr>\n",
       "      <th>21118</th>\n",
       "      <td>154971776</td>\n",
       "      <td>Red</td>\n",
       "      <td>romania</td>\n",
       "      <td>Dealu Mare</td>\n",
       "      <td>Tinto</td>\n",
       "      <td>2016</td>\n",
       "      <td>0</td>\n",
       "      <td>NaN</td>\n",
       "      <td>NaN</td>\n",
       "      <td>NaN</td>\n",
       "      <td>NaN</td>\n",
       "      <td>NaN</td>\n",
       "      <td>NaN</td>\n",
       "      <td>NaN</td>\n",
       "      <td>NaN</td>\n",
       "      <td>287</td>\n",
       "      <td>3.8</td>\n",
       "    </tr>\n",
       "    <tr>\n",
       "      <th>21119</th>\n",
       "      <td>27518454</td>\n",
       "      <td>Red</td>\n",
       "      <td>israel</td>\n",
       "      <td>Montes de Judea</td>\n",
       "      <td>Tinto</td>\n",
       "      <td>2015</td>\n",
       "      <td>0</td>\n",
       "      <td>NaN</td>\n",
       "      <td>NaN</td>\n",
       "      <td>NaN</td>\n",
       "      <td>NaN</td>\n",
       "      <td>NaN</td>\n",
       "      <td>NaN</td>\n",
       "      <td>NaN</td>\n",
       "      <td>NaN</td>\n",
       "      <td>1723</td>\n",
       "      <td>4.3</td>\n",
       "    </tr>\n",
       "    <tr>\n",
       "      <th>21120</th>\n",
       "      <td>163015563</td>\n",
       "      <td>Red</td>\n",
       "      <td>israel</td>\n",
       "      <td>Jerusalén</td>\n",
       "      <td>Tinto</td>\n",
       "      <td>2020</td>\n",
       "      <td>0</td>\n",
       "      <td>NaN</td>\n",
       "      <td>NaN</td>\n",
       "      <td>NaN</td>\n",
       "      <td>NaN</td>\n",
       "      <td>NaN</td>\n",
       "      <td>NaN</td>\n",
       "      <td>NaN</td>\n",
       "      <td>NaN</td>\n",
       "      <td>1599</td>\n",
       "      <td>3.9</td>\n",
       "    </tr>\n",
       "  </tbody>\n",
       "</table>\n",
       "<p>21121 rows × 17 columns</p>\n",
       "</div>"
      ],
      "text/plain": [
       "         wine_id type   country           region varietal_name  year  \\\n",
       "0       27946372  Red  portugal         Alentejo         Tinto  2014   \n",
       "1        5624201  Red  portugal         Alentejo         Tinto  2013   \n",
       "2        2020315  Red  portugal         Alentejo         Tinto  2005   \n",
       "3      144779059  Red  portugal         Alentejo         Tinto  2016   \n",
       "4       13551606  Red  portugal         Alentejo         Tinto  2011   \n",
       "...          ...  ...       ...              ...           ...   ...   \n",
       "21116  156300743  Red   germany            Pfalz         Tinto  2017   \n",
       "21117  165752431  Red   germany            Pfalz         Tinto  2019   \n",
       "21118  154971776  Red   romania       Dealu Mare         Tinto  2016   \n",
       "21119   27518454  Red    israel  Montes de Judea         Tinto  2015   \n",
       "21120  163015563  Red    israel        Jerusalén         Tinto  2020   \n",
       "\n",
       "       style_id  body  acidity_1 acidity_description  acidity_2  fizziness  \\\n",
       "0             2   4.0        3.0                High       3.36        0.0   \n",
       "1             2   4.0        3.0                High       3.00        0.0   \n",
       "2             2   4.0        3.0                High       2.98        0.0   \n",
       "3             2   4.0        3.0                High       2.88        0.0   \n",
       "4             2   4.0        3.0                High       3.02        0.0   \n",
       "...         ...   ...        ...                 ...        ...        ...   \n",
       "21116         0   NaN        NaN                 NaN        NaN        NaN   \n",
       "21117         0   NaN        NaN                 NaN        NaN        NaN   \n",
       "21118         0   NaN        NaN                 NaN        NaN        NaN   \n",
       "21119         0   NaN        NaN                 NaN        NaN        NaN   \n",
       "21120         0   NaN        NaN                 NaN        NaN        NaN   \n",
       "\n",
       "       intensity  sweetness  tannin  num_ratings  rate  \n",
       "0           3.97       1.67    3.25          721   4.2  \n",
       "1           4.26       2.14    3.18         1256   4.2  \n",
       "2           4.11       1.73    2.79         3040   4.0  \n",
       "3           3.92       1.64    3.09          538   4.0  \n",
       "4           4.31       2.21    3.43          972   4.3  \n",
       "...          ...        ...     ...          ...   ...  \n",
       "21116        NaN        NaN     NaN          159   3.9  \n",
       "21117        NaN        NaN     NaN          216   3.9  \n",
       "21118        NaN        NaN     NaN          287   3.8  \n",
       "21119        NaN        NaN     NaN         1723   4.3  \n",
       "21120        NaN        NaN     NaN         1599   3.9  \n",
       "\n",
       "[21121 rows x 17 columns]"
      ]
     },
     "execution_count": 119,
     "metadata": {},
     "output_type": "execute_result"
    }
   ],
   "source": [
    "data_to_model"
   ]
  },
  {
   "cell_type": "code",
   "execution_count": 121,
   "id": "305d463c",
   "metadata": {},
   "outputs": [],
   "source": [
    "data_to_model = data_to_model.dropna()"
   ]
  },
  {
   "cell_type": "markdown",
   "id": "a103779b",
   "metadata": {},
   "source": [
    "## Cheking and dealing with missing values"
   ]
  },
  {
   "cell_type": "code",
   "execution_count": 122,
   "id": "bd3e5ea5",
   "metadata": {},
   "outputs": [
    {
     "data": {
      "text/plain": [
       "High      16184\n",
       "Medium     1852\n",
       "Low         249\n",
       "Name: acidity_description, dtype: int64"
      ]
     },
     "execution_count": 122,
     "metadata": {},
     "output_type": "execute_result"
    }
   ],
   "source": [
    "data_to_model['acidity_description'].value_counts()"
   ]
  },
  {
   "cell_type": "code",
   "execution_count": 123,
   "id": "25cb199c",
   "metadata": {},
   "outputs": [],
   "source": [
    "data_to_model = data_to_model[data_to_model['style_id']!=data_to_model['body']]"
   ]
  },
  {
   "cell_type": "markdown",
   "id": "d89a4f8b",
   "metadata": {},
   "source": [
    "## Saving again the progress"
   ]
  },
  {
   "cell_type": "code",
   "execution_count": 124,
   "id": "5b1b8289",
   "metadata": {},
   "outputs": [
    {
     "data": {
      "text/plain": [
       "18285"
      ]
     },
     "execution_count": 124,
     "metadata": {},
     "output_type": "execute_result"
    }
   ],
   "source": [
    "data_to_model.to_csv('data_to_model.csv',index = False)\n",
    "data_to_model.to_sql('data_to_model', con = engine, if_exists = 'replace', index = False )"
   ]
  }
 ],
 "metadata": {
  "kernelspec": {
   "display_name": "Python 3 (ipykernel)",
   "language": "python",
   "name": "python3"
  },
  "language_info": {
   "codemirror_mode": {
    "name": "ipython",
    "version": 3
   },
   "file_extension": ".py",
   "mimetype": "text/x-python",
   "name": "python",
   "nbconvert_exporter": "python",
   "pygments_lexer": "ipython3",
   "version": "3.9.12"
  }
 },
 "nbformat": 4,
 "nbformat_minor": 5
}
