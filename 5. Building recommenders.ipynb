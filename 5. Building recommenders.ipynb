{
 "cells": [
  {
   "cell_type": "markdown",
   "id": "41a371da",
   "metadata": {},
   "source": [
    "# Import libraries"
   ]
  },
  {
   "cell_type": "code",
   "execution_count": 1,
   "id": "c513e940",
   "metadata": {},
   "outputs": [],
   "source": [
    "import pandas as pd\n",
    "import numpy as np\n",
    "import random\n",
    "pd.set_option('display.max_columns', None)"
   ]
  },
  {
   "cell_type": "code",
   "execution_count": 80,
   "id": "1da25905",
   "metadata": {},
   "outputs": [],
   "source": [
    "import nltk\n",
    "from nltk.tokenize import word_tokenize\n",
    "from sklearn.feature_extraction.text import CountVectorizer"
   ]
  },
  {
   "cell_type": "code",
   "execution_count": 2,
   "id": "ee9cc3d5",
   "metadata": {},
   "outputs": [
    {
     "name": "stdout",
     "output_type": "stream",
     "text": [
      "········\n"
     ]
    }
   ],
   "source": [
    "import pymysql\n",
    "from sqlalchemy import create_engine\n",
    "import getpass \n",
    "password = getpass.getpass()"
   ]
  },
  {
   "cell_type": "code",
   "execution_count": 3,
   "id": "62cb8fd9",
   "metadata": {},
   "outputs": [],
   "source": [
    "connection_string = 'mysql+pymysql://root:' + password + '@localhost/clean_winery'\n",
    "engine = create_engine(connection_string)"
   ]
  },
  {
   "cell_type": "markdown",
   "id": "78a3b860",
   "metadata": {},
   "source": [
    "# Import dataframes"
   ]
  },
  {
   "cell_type": "code",
   "execution_count": 179,
   "id": "1ff024d3",
   "metadata": {},
   "outputs": [],
   "source": [
    "query = '''SELECT c.wine_id, w.wine_name, w.winery, c.region, c.country, c.varietal_name, c.type, c.year, c.style_id, c.body, c.acidity_1, c.acidity_description, c.acidity_2, c.fizziness, c.intensity, c.sweetness, c.tannin, c.clusters, p.vol_ml, p.price_eur, c.num_ratings, c.rate FROM clustered c\n",
    "LEFT JOIN wine w USING (wine_id)\n",
    "LEFT JOIN purchase p USING (wine_id)\n",
    "LEFT JOIN style s USING (wine_id)'''\n",
    "clustered_df = pd.read_sql(query,engine)"
   ]
  },
  {
   "cell_type": "code",
   "execution_count": 151,
   "id": "1b075d0b",
   "metadata": {},
   "outputs": [
    {
     "data": {
      "text/plain": [
       "(18285, 22)"
      ]
     },
     "execution_count": 151,
     "metadata": {},
     "output_type": "execute_result"
    }
   ],
   "source": [
    "clustered_df.shape"
   ]
  },
  {
   "cell_type": "code",
   "execution_count": 152,
   "id": "7768bae7",
   "metadata": {},
   "outputs": [],
   "source": [
    "query = '''SELECT wine_id, wine_name, winery, region, country, varietal_name, type, year, vol_ml, price_eur, num_ratings, rate FROM  all_data'''\n",
    "varietal_df = pd.read_sql(query,engine)"
   ]
  },
  {
   "cell_type": "code",
   "execution_count": 153,
   "id": "37fbffaf",
   "metadata": {},
   "outputs": [
    {
     "data": {
      "text/plain": [
       "(21121, 12)"
      ]
     },
     "execution_count": 153,
     "metadata": {},
     "output_type": "execute_result"
    }
   ],
   "source": [
    "varietal_df.shape"
   ]
  },
  {
   "cell_type": "markdown",
   "id": "02a62756",
   "metadata": {},
   "source": [
    "# Copies to not be case sensitive"
   ]
  },
  {
   "cell_type": "code",
   "execution_count": 26,
   "id": "db4a15b7",
   "metadata": {},
   "outputs": [],
   "source": [
    "def case_folding(df,cols):\n",
    "    df_folded = df.copy()\n",
    "    for col in cols:\n",
    "        df_folded[col] = [value.casefold() for value in df[col].values]\n",
    "    return df_folded"
   ]
  },
  {
   "cell_type": "code",
   "execution_count": 182,
   "id": "6abfdc25",
   "metadata": {},
   "outputs": [],
   "source": [
    "cols = ['wine_name','winery','region','country','varietal_name','type']\n",
    "clustered_folded = case_folding(clustered_df, cols)\n",
    "varietal_folded = case_folding(varietal_df, cols)"
   ]
  },
  {
   "cell_type": "markdown",
   "id": "8b3e83e0",
   "metadata": {},
   "source": [
    "# Checking first steps of my recommender"
   ]
  },
  {
   "cell_type": "code",
   "execution_count": 73,
   "id": "dcc4c59e",
   "metadata": {},
   "outputs": [],
   "source": [
    "def basic_recommender():\n",
    "    text = input(\"what variety you like?   \").casefold()\n",
    "\n",
    "    if text in varietal_folded['varietal_name'].values:\n",
    "        recommended = random.choice(varietal_df[varietal_folded['varietal_name'] == text]['wine_name'].values)\n",
    "        print(\"This wine is from the same variety:  \" + recommended)\n",
    "    else:\n",
    "        print(\"Sorry I don't have any suggestions for that\")\n",
    "    return"
   ]
  },
  {
   "cell_type": "code",
   "execution_count": 76,
   "id": "ef1b232c",
   "metadata": {},
   "outputs": [
    {
     "name": "stdout",
     "output_type": "stream",
     "text": [
      "what variety you like?   cote beaune\n",
      "This wine is from the same variety:  Bonneau du Martray Corton-Charlemagne Grand Cru \n"
     ]
    }
   ],
   "source": [
    "basic_recommender()"
   ]
  },
  {
   "cell_type": "markdown",
   "id": "156930a6",
   "metadata": {},
   "source": [
    "# Recommender by wine name"
   ]
  },
  {
   "cell_type": "code",
   "execution_count": 100,
   "id": "959a76cb",
   "metadata": {},
   "outputs": [],
   "source": [
    "tokenized = []\n",
    "\n",
    "for row in clustered_folded['wine_name']:\n",
    "    token = word_tokenize(row)\n",
    "    tokenized.append(token)\n",
    "    \n",
    "clustered_folded['tokenized'] = tokenized"
   ]
  },
  {
   "cell_type": "code",
   "execution_count": 139,
   "id": "09008cc0",
   "metadata": {},
   "outputs": [],
   "source": [
    "def name_recommender():\n",
    "    text = input(\"Write a wine name and I will recommend a similar one:   \").casefold()\n",
    "    print(' ')\n",
    "    print('Checking my database...')\n",
    "    print(' ')\n",
    "    \n",
    "    tokens = word_tokenize(text)\n",
    "    \n",
    "    bow_vect = CountVectorizer()\n",
    "    bow_vect.fit(tokens)\n",
    "    \n",
    "    values = []\n",
    "    for i in range(len(clustered_folded['tokenized'])):\n",
    "        values.append(np.sum(bow_vect.transform(clustered_folded['tokenized'][i]).toarray()))\n",
    "\n",
    "    name = max(values)\n",
    "    index = values.index(name)\n",
    "    \n",
    "    wine_name = clustered_df.loc[index]['wine_name']\n",
    "    \n",
    "    confirm = input('Is ' + wine_name + ' the one you wrote?    Y/N    ').casefold()\n",
    "    print(' ')\n",
    "\n",
    "    \n",
    "    if confirm == 'y':\n",
    "        cluster = clustered_folded.loc[index]['clusters']\n",
    "        recommended = random.choice(clustered_df[clustered_df['clusters'] == cluster]['wine_name'].values)\n",
    "        print('My recommendation is:    ' + recommended)\n",
    "    \n",
    "    else:\n",
    "        print(\"Sorry, I didn't get the name right, please, try again!\")\n",
    "    return"
   ]
  },
  {
   "cell_type": "code",
   "execution_count": 141,
   "id": "139acaeb",
   "metadata": {},
   "outputs": [
    {
     "name": "stdout",
     "output_type": "stream",
     "text": [
      "Write a wine name and I will recommend a similar one:   domaine ponsot morey saint\n",
      " \n",
      "Checking my database...\n",
      " \n",
      "Is Domaine Ponsot Morey-Saint-Denis Premier Cru Cuvée des Alouettes  the one you wrote?    Y/N    y\n",
      " \n",
      "My recommendation is:    Domaine de La Romanée-Conti Romanée-Conti Grand Cru \n"
     ]
    }
   ],
   "source": [
    "name_recommender()"
   ]
  },
  {
   "cell_type": "markdown",
   "id": "4f7e695d",
   "metadata": {},
   "source": [
    "# Recommender by selection red_white"
   ]
  },
  {
   "cell_type": "code",
   "execution_count": 77,
   "id": "2f9d0eed",
   "metadata": {},
   "outputs": [],
   "source": [
    "def red_white_recommender():\n",
    "    type = input('What type of wine would you prefer: R = Red, W = White, A = Any?    ').casefold()\n",
    "    \n",
    "    text = input('Would you like to choose a country?  Y/N   ').casefold()\n",
    "    \n",
    "    country = input('Which country do you want your wine from?   ').casefold()"
   ]
  },
  {
   "cell_type": "markdown",
   "id": "eb6dccee",
   "metadata": {},
   "source": [
    "# Recommender by multiple choices"
   ]
  },
  {
   "cell_type": "code",
   "execution_count": 71,
   "id": "262de718",
   "metadata": {},
   "outputs": [],
   "source": [
    "def my_recommender():\n",
    "    option1 = input('What type of wine would you prefer: R = Red, W = White, A = Any?    ').casefold()\n",
    "    \n",
    "    if option1 == 'r':\n",
    "        option2 = input('Would you like to choose the variety? Y/N     ').casefold()\n",
    "        \n",
    "        if option2 == 'n':\n",
    "            option3 = input('Would you like to choose a country?:   ').casefold()\n",
    "            \n",
    "            \n",
    "            if option3 in clustered_folded['region'].values:\n",
    "                random_cluster = random.choice(clustered_df[clustered_folded['region'] == option3]['clusters'].values)\n",
    "                print(\"This wine will be similar \" + random.choice(clustered_df[clustered_df['clusters']==random_cluster]['wine_name'].values))\n",
    "            \n",
    "            \n",
    "            elif option3 in clustered_folded['wine_name'].values:\n",
    "                print('its a region')\n",
    "            else:\n",
    "                print('Sorry')\n",
    "                \n",
    "#                 clustered_df[clustered_folded['varietal_name'] == text]['wine_name'].values\n",
    "#                 print(\"This wine will be similar \" + random.choice())\n",
    "        else:\n",
    "            option3 = input('Variety you like:   ').casefold()\n",
    "            \n",
    "            if option3 in varietal_folded['varietal_name'].values:\n",
    "                recommeded = random.choice(varietal_df[varietal_folded['varietal_name'] == option3]['wine_name'].values)\n",
    "                print(\"This wine is from the same variety:  \" + recommeded)\n",
    "                \n",
    "        \n",
    "    elif option1 == 'w':\n",
    "        print('White')\n",
    "        \n",
    "    elif option1 == 'a':\n",
    "        print('All')\n",
    "        \n",
    "    else:\n",
    "        option1 = input(\"Sorry, we don't have that option, try with: R = Red, W = White, A = Any     \")\n",
    "        \n",
    "    return"
   ]
  },
  {
   "cell_type": "code",
   "execution_count": 72,
   "id": "d3bd2b14",
   "metadata": {},
   "outputs": [
    {
     "name": "stdout",
     "output_type": "stream",
     "text": [
      "What type of wine would you prefer: R = Red, W = White, A = Any?    r\n",
      "Varietal name? Y/N     y\n",
      "Variety you like:   tempranillo\n",
      "This wine is from the same variety:  Artadi Pagos Viejos \n"
     ]
    }
   ],
   "source": [
    "my_recommender()"
   ]
  },
  {
   "cell_type": "markdown",
   "id": "caa71480",
   "metadata": {},
   "source": [
    "# Recommender by features "
   ]
  },
  {
   "cell_type": "markdown",
   "id": "52448f23",
   "metadata": {},
   "source": [
    "### (it has some problems, sometimes it doesn't work)"
   ]
  },
  {
   "cell_type": "code",
   "execution_count": 201,
   "id": "b35bead1",
   "metadata": {},
   "outputs": [],
   "source": [
    "def wine_feature_recommender():\n",
    "    red_white = input('Are you looking for a Red or White Wine?   R/W      ').casefold()\n",
    "    body = input('How do you like the body of your wine?  from 1-5 (Low-High)      ').casefold()\n",
    "    acidity = input('How do you like the acidity?   High(H) - Medium(M) - Low(L)    ').casefold()\n",
    "    \n",
    "    if red_white == 'r':\n",
    "        red_white = 'red'\n",
    "    else:\n",
    "        red_white = 'white'\n",
    "        \n",
    "        \n",
    "    if acidity == 'h':\n",
    "        acidity = 'High'\n",
    "    elif acidity == 'm':\n",
    "        acidity = 'Medium'\n",
    "    else:\n",
    "        acidity = 'Low'\n",
    "    \n",
    "    \n",
    "    recomendation = random.choice(clustered_df.loc[(clustered_folded['body']==int(body))&(clustered_folded['type']==red_white)&(clustered_folded['acidity_description']==acidity)]['wine_name'].values)\n",
    "    print('I recommend you to try:    '+ recomendation)\n",
    "    return"
   ]
  },
  {
   "cell_type": "code",
   "execution_count": 207,
   "id": "09d17e30",
   "metadata": {},
   "outputs": [
    {
     "name": "stdout",
     "output_type": "stream",
     "text": [
      "Are you looking for a Red or White Wine?   R/W      w\n",
      "How do you like the body of your wine?  from 1-5 (Low-High)      3\n",
      "How do you like the acidity?   High(H) - Medium(M) - Low(L)    m\n",
      "I recommend you to try:    Bodegas Etchart Gran Linaje Torrontes \n"
     ]
    }
   ],
   "source": [
    "wine_feature_recommender()"
   ]
  }
 ],
 "metadata": {
  "kernelspec": {
   "display_name": "Python 3 (ipykernel)",
   "language": "python",
   "name": "python3"
  },
  "language_info": {
   "codemirror_mode": {
    "name": "ipython",
    "version": 3
   },
   "file_extension": ".py",
   "mimetype": "text/x-python",
   "name": "python",
   "nbconvert_exporter": "python",
   "pygments_lexer": "ipython3",
   "version": "3.9.12"
  }
 },
 "nbformat": 4,
 "nbformat_minor": 5
}
